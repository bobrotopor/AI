{
 "cells": [
  {
   "cell_type": "markdown",
   "metadata": {},
   "source": [
    "# Numpy"
   ]
  },
  {
   "cell_type": "markdown",
   "metadata": {},
   "source": [
    "Материалы:\n",
    "* Макрушин С.В. \"Лекция 1: Библиотека Numpy\"\n",
    "* https://numpy.org/doc/stable/user/index.html\n",
    "* https://numpy.org/doc/stable/reference/index.html"
   ]
  },
  {
   "cell_type": "markdown",
   "metadata": {},
   "source": [
    "## Задачи для совместного разбора"
   ]
  },
  {
   "cell_type": "markdown",
   "metadata": {},
   "source": [
    "1. Сгенерировать двухмерный массив `arr` размерности (4, 7), состоящий из случайных действительных чисел, равномерно распределенных в диапазоне от 0 до 20. Нормализовать значения массива с помощью преобразования вида  $𝑎𝑥+𝑏$  так, что после нормализации максимальный элемент масcива будет равен 1.0, минимальный 0.0"
   ]
  },
  {
   "cell_type": "code",
   "execution_count": 87,
   "metadata": {},
   "outputs": [
    {
     "name": "stderr",
     "output_type": "stream",
     "text": [
      "ic| res: array([[ 6,  5,  2,  9,  6,  0,  8],\n",
      "                [17,  7,  0, 19,  9, 11,  3],\n",
      "                [11, 10,  9,  5, 16,  4,  1],\n",
      "                [ 1,  7, 14,  2,  4, 14,  9]])\n",
      "ic| normed_res: array([[0.31578947, 0.26315789, 0.10526316, 0.47368421, 0.31578947,\n",
      "                        0.        , 0.42105263],\n",
      "                       [0.89473684, 0.36842105, 0.        , 1.        , 0.47368421,\n",
      "                        0.57894737, 0.15789474],\n",
      "                       [0.57894737, 0.52631579, 0.47368421, 0.26315789, 0.84210526,\n",
      "                        0.21052632, 0.05263158],\n",
      "                       [0.05263158, 0.36842105, 0.73684211, 0.10526316, 0.21052632,\n",
      "                        0.73684211, 0.47368421]])\n",
      "ic| 1.0 in normed_res: True\n",
      "ic| 0.0 in normed_res: True\n"
     ]
    },
    {
     "data": {
      "text/plain": [
       "True"
      ]
     },
     "execution_count": 87,
     "metadata": {},
     "output_type": "execute_result"
    }
   ],
   "source": [
    "import numpy as np\n",
    "from icecream import ic \n",
    "\n",
    "res = np.random.randint(low=0, high=20, size=4*7).reshape((4,7))    # не понял как чделоать float\n",
    "ic(res)\n",
    "\n",
    "max_el = np.max(res)\n",
    "min_el = np.min(res)\n",
    "\n",
    "normed_res = (res - min_el) / (max_el-min_el)\n",
    "ic(normed_res)\n",
    "\n",
    "ic(1.0 in normed_res)\n",
    "ic(0.0 in normed_res)"
   ]
  },
  {
   "cell_type": "markdown",
   "metadata": {},
   "source": [
    "2. Создать матрицу 8 на 10 из случайных целых (используя модуль `numpy.random`) чисел из диапозона от 0 до 10 и найти в ней строку (ее индекс и вывести саму строку), в которой сумма значений минимальна."
   ]
  },
  {
   "cell_type": "code",
   "execution_count": 88,
   "metadata": {},
   "outputs": [
    {
     "name": "stderr",
     "output_type": "stream",
     "text": [
      "ic| two_darr: array([[5, 6, 9, 0, 4, 7, 8, 6, 0, 5],\n",
      "                     [0, 5, 5, 8, 5, 5, 5, 0, 3, 9],\n",
      "                     [7, 6, 0, 0, 0, 9, 2, 1, 4, 6],\n",
      "                     [5, 6, 1, 1, 8, 0, 1, 0, 1, 7],\n",
      "                     [6, 1, 7, 2, 0, 5, 3, 2, 6, 1],\n",
      "                     [8, 6, 9, 1, 2, 5, 6, 0, 6, 2],\n",
      "                     [5, 6, 2, 1, 3, 1, 6, 3, 3, 5],\n",
      "                     [0, 2, 1, 8, 2, 7, 2, 0, 9, 0]])\n",
      "ic| f'index={idx_max_sum_one_darr}, one_dim_arr={two_darr[idx_max_sum_one_darr]}, sum={sum(two_darr[idx_max_sum_one_darr])}': 'index=0, one_dim_arr=[5 6 9 0 4 7 8 6 0 5], sum=50'\n"
     ]
    },
    {
     "data": {
      "text/plain": [
       "'index=0, one_dim_arr=[5 6 9 0 4 7 8 6 0 5], sum=50'"
      ]
     },
     "execution_count": 88,
     "metadata": {},
     "output_type": "execute_result"
    }
   ],
   "source": [
    "two_darr = np.random.randint(low=0, high=10, size=8*10).reshape((8,10))\n",
    "ic(two_darr)\n",
    "\n",
    "dict_sum_one_darr = {sum(one_dim_arr): idx for idx, one_dim_arr in enumerate(two_darr)}\n",
    "max_sum = max(dict_sum_one_darr.keys())\n",
    "\n",
    "idx_max_sum_one_darr = dict_sum_one_darr[max_sum]\n",
    "ic(f'index={idx_max_sum_one_darr}, one_dim_arr={two_darr[idx_max_sum_one_darr]}, sum={sum(two_darr[idx_max_sum_one_darr])}')\n",
    "\n"
   ]
  },
  {
   "cell_type": "code",
   "execution_count": 89,
   "metadata": {},
   "outputs": [
    {
     "name": "stderr",
     "output_type": "stream",
     "text": [
      "ic| f'sum_list={check_sum_list}, max_sum={max(check_sum_list)}': 'sum_list=[50, 45, 35, 30, 33, 45, 35, 31], max_sum=50'\n"
     ]
    },
    {
     "data": {
      "text/plain": [
       "'sum_list=[50, 45, 35, 30, 33, 45, 35, 31], max_sum=50'"
      ]
     },
     "execution_count": 89,
     "metadata": {},
     "output_type": "execute_result"
    }
   ],
   "source": [
    "check_sum_list = [sum(one_darr) for one_darr in two_darr]\n",
    "ic(f'sum_list={check_sum_list}, max_sum={max(check_sum_list)}')"
   ]
  },
  {
   "cell_type": "markdown",
   "metadata": {},
   "source": [
    "3. Найти евклидово расстояние между двумя одномерными векторами одинаковой размерности.\n",
    "\n",
    "![image.png](attachment:image.png)"
   ]
  },
  {
   "cell_type": "code",
   "execution_count": 90,
   "metadata": {},
   "outputs": [],
   "source": [
    "a= np.array([5,5,5])\n",
    "b=np.array([2,2,2])\n"
   ]
  },
  {
   "cell_type": "markdown",
   "metadata": {},
   "source": [
    "4. Решить матричное уравнение `A*X*B=-C` - найти матрицу `X`. Где `A = [[-1, 2, 4], [-3, 1, 2], [-3, 0, 1]]`, `B=[[3, -1], [2, 1]]`, `C=[[7, 21], [11, 8], [8, 4]]`."
   ]
  },
  {
   "cell_type": "code",
   "execution_count": 91,
   "metadata": {},
   "outputs": [
    {
     "data": {
      "text/plain": [
       "array([[ 1.00000000e+00,  5.32907052e-16],\n",
       "       [-2.00000000e+00,  1.00000000e+00],\n",
       "       [ 3.00000000e+00, -4.00000000e+00]])"
      ]
     },
     "execution_count": 91,
     "metadata": {},
     "output_type": "execute_result"
    }
   ],
   "source": [
    "A = np.array([[-1, 2, 4], [-3, 1, 2], [-3, 0, 1]])\n",
    "B = np.array([[3, -1], [2, 1]])\n",
    "C = np.array([[7, 21], [11, 8], [8, 4]])\n",
    "\n",
    "X = np.linalg.inv(A) @ (-C) @ np.linalg.inv(B)\n",
    "X"
   ]
  },
  {
   "cell_type": "markdown",
   "metadata": {},
   "source": [
    "## Лабораторная работа №1"
   ]
  },
  {
   "cell_type": "markdown",
   "metadata": {},
   "source": [
    "Замечание: при решении данных задач не подразумевается использования циклов или генераторов Python, если в задании не сказано обратного. Решение должно опираться на использования функционала библиотеки `numpy`."
   ]
  },
  {
   "cell_type": "markdown",
   "metadata": {},
   "source": [
    "1. Файл `minutes_n_ingredients.csv` содержит информацию об идентификаторе рецепта, времени его выполнения в минутах и количестве необходимых ингредиентов. Считайте данные из этого файла в виде массива `numpy` типа `int32`, используя `np.loadtxt`. Выведите на экран первые 5 строк массива."
   ]
  },
  {
   "cell_type": "code",
   "execution_count": 92,
   "metadata": {},
   "outputs": [
    {
     "data": {
      "text/plain": [
       "array([[127244,     60,     16],\n",
       "       [ 23891,     25,      7],\n",
       "       [ 94746,     10,      6],\n",
       "       [ 67660,      5,      6],\n",
       "       [157911,     60,     14]])"
      ]
     },
     "execution_count": 92,
     "metadata": {},
     "output_type": "execute_result"
    }
   ],
   "source": [
    "from pathlib import Path\n",
    "from csv import reader as csv_reader\n",
    "\n",
    "cfg_path = Path(__name__).parent / 'data/minutes_n_ingredients.csv'\n",
    "\n",
    "data_set = np.loadtxt(fname=cfg_path, delimiter=',', skiprows=1, dtype=np.int32)\n",
    "data_set[:5][:]\n"
   ]
  },
  {
   "cell_type": "markdown",
   "metadata": {},
   "source": [
    "2. Вычислите среднее значение, минимум, максимум и медиану по каждому из столбцов, кроме первого."
   ]
  },
  {
   "cell_type": "code",
   "execution_count": 93,
   "metadata": {},
   "outputs": [
    {
     "name": "stderr",
     "output_type": "stream",
     "text": [
      "ic| minutes_arr_params: {'max': 2147483647, 'mean': 21601.00169, 'median': 40.0, 'min': 0}\n",
      "ic| ingrids_arr_params: {'max': 39, 'mean': 9.05528, 'median': 9.0, 'min': 1}\n"
     ]
    },
    {
     "data": {
      "text/plain": [
       "{'min': 1, 'max': 39, 'mean': 9.05528, 'median': 9.0}"
      ]
     },
     "execution_count": 93,
     "metadata": {},
     "output_type": "execute_result"
    }
   ],
   "source": [
    "minutes_arr = data_set[:, 1]\n",
    "ingrids_arr = data_set[:, 2]\n",
    "\n",
    "get_one_dim_array_params = lambda arr: {\n",
    "    'min': np.min(arr), \n",
    "    'max': np.max(arr), \n",
    "    'mean': np.mean(arr),\n",
    "    'median': np.median(arr),\n",
    "}\n",
    "minutes_arr_params = get_one_dim_array_params(minutes_arr)\n",
    "ingrids_arr_params = get_one_dim_array_params(ingrids_arr)\n",
    "\n",
    "ic(minutes_arr_params)\n",
    "ic(ingrids_arr_params)\n"
   ]
  },
  {
   "cell_type": "markdown",
   "metadata": {},
   "source": [
    "3. Ограничьте сверху значения продолжительности выполнения рецепта значением квантиля $q_{0.75}$. "
   ]
  },
  {
   "cell_type": "code",
   "execution_count": 94,
   "metadata": {},
   "outputs": [
    {
     "data": {
      "text/plain": [
       "65.0"
      ]
     },
     "execution_count": 94,
     "metadata": {},
     "output_type": "execute_result"
    }
   ],
   "source": [
    "quantile_minutes = np.quantile(minutes_arr, 0.75)\n",
    "quantile_minutes \n",
    "# пороговое кол-во минут x_a, такое что вероятность P(X < x_a) >= 0.75, \n",
    "# где X - случайная величина распределения минут\n",
    "\n",
    "# то есть с вероятность не менее 75% мы получим рецепт длительностью не более x_a минут\n",
    "# по заданному распределению"
   ]
  },
  {
   "cell_type": "markdown",
   "metadata": {},
   "source": [
    "4. Посчитайте, для скольких рецептов указана продолжительность, равная нулю. Замените для таких строк значение в данном столбце на 1."
   ]
  },
  {
   "cell_type": "code",
   "execution_count": 95,
   "metadata": {},
   "outputs": [
    {
     "name": "stdout",
     "output_type": "stream",
     "text": [
      "before editing:\n",
      "479 zero elements\n",
      "after editing:\n",
      "0 zero elements\n"
     ]
    }
   ],
   "source": [
    "# Для проверки нужно обновить все ячейки !\n",
    "\n",
    "zero_elements_idxs = np.where(minutes_arr == 0)\n",
    "print(f'before editing:\\n{np.size(np.where(minutes_arr == 0))} zero elements')\n",
    "\n",
    "data_set[zero_elements_idxs, 1] = 1\n",
    "minuteprints_arr = data_set[:, 1]\n",
    "\n",
    "print(f'after editing:\\n{np.size(np.where(minutes_arr == 0))} zero elements')\n",
    "\n"
   ]
  },
  {
   "cell_type": "markdown",
   "metadata": {},
   "source": [
    "5. Посчитайте, сколько уникальных рецептов находится в датасете."
   ]
  },
  {
   "cell_type": "code",
   "execution_count": 96,
   "metadata": {},
   "outputs": [
    {
     "name": "stderr",
     "output_type": "stream",
     "text": [
      "ic| f'{count_uniques} in {data_set.shape[0]}': '4183 in 100000'\n"
     ]
    },
    {
     "data": {
      "text/plain": [
       "'4183 in 100000'"
      ]
     },
     "execution_count": 96,
     "metadata": {},
     "output_type": "execute_result"
    }
   ],
   "source": [
    "uniques, repeats = np.unique(data_set[:, 1:], return_counts=True, axis=0)\n",
    "count_uniques = np.shape(uniques)[0]\n",
    "ic(f'{count_uniques} in {data_set.shape[0]}')\n"
   ]
  },
  {
   "cell_type": "markdown",
   "metadata": {},
   "source": [
    "6. Сколько и каких различных значений кол-ва ингредиентов присутвует в рецептах из датасета?"
   ]
  },
  {
   "cell_type": "code",
   "execution_count": 97,
   "metadata": {},
   "outputs": [
    {
     "name": "stderr",
     "output_type": "stream",
     "text": [
      "ic| f'count unique ingridients combs: {np.shape(unique_ingrids)[0]}': 'count unique ingridients combs: 37'\n",
      "ic| unique_ingrids: array([ 1,  2,  3,  4,  5,  6,  7,  8,  9, 10, 11, 12, 13, 14, 15, 16, 17,\n",
      "                           18, 19, 20, 21, 22, 23, 24, 25, 26, 27, 28, 29, 30, 31, 32, 33, 34,\n",
      "                           35, 37, 39])\n"
     ]
    },
    {
     "data": {
      "text/plain": [
       "array([ 1,  2,  3,  4,  5,  6,  7,  8,  9, 10, 11, 12, 13, 14, 15, 16, 17,\n",
       "       18, 19, 20, 21, 22, 23, 24, 25, 26, 27, 28, 29, 30, 31, 32, 33, 34,\n",
       "       35, 37, 39])"
      ]
     },
     "execution_count": 97,
     "metadata": {},
     "output_type": "execute_result"
    }
   ],
   "source": [
    "unique_ingrids = np.unique(data_set[:, 2])\n",
    "ic(f'count unique ingridients combs: {np.shape(unique_ingrids)[0]}')\n",
    "ic(unique_ingrids)"
   ]
  },
  {
   "cell_type": "markdown",
   "metadata": {},
   "source": [
    "7. Создайте версию массива, содержащую информацию только о рецептах, состоящих не более чем из 5 ингредиентов."
   ]
  },
  {
   "cell_type": "code",
   "execution_count": 98,
   "metadata": {},
   "outputs": [
    {
     "name": "stderr",
     "output_type": "stream",
     "text": [
      "ic| lower_than_six_ingrids_data_set.size: 51786\n"
     ]
    },
    {
     "data": {
      "text/plain": [
       "51786"
      ]
     },
     "execution_count": 98,
     "metadata": {},
     "output_type": "execute_result"
    }
   ],
   "source": [
    "ingrids_arr = data_set[:, 2]\n",
    "new_data_set_idxs = np.where(ingrids_arr < 6)\n",
    "lower_than_six_ingrids_data_set = data_set[new_data_set_idxs]\n",
    "ic(lower_than_six_ingrids_data_set.size)"
   ]
  },
  {
   "cell_type": "markdown",
   "metadata": {},
   "source": [
    "8. Для каждого рецепта посчитайте, сколько в среднем ингредиентов приходится на одну минуту рецепта. Найдите максимальное значение этой величины для всего датасета"
   ]
  },
  {
   "cell_type": "code",
   "execution_count": 99,
   "metadata": {},
   "outputs": [
    {
     "name": "stderr",
     "output_type": "stream",
     "text": [
      "ic| ingrids_per_minute: array([0.26666667, 0.28      , 0.6       , ..., 0.23076923, 0.8       ,\n",
      "                               0.1       ])\n",
      "ic| max_ingrids_per_minute: 24.0\n"
     ]
    },
    {
     "data": {
      "text/plain": [
       "24.0"
      ]
     },
     "execution_count": 99,
     "metadata": {},
     "output_type": "execute_result"
    }
   ],
   "source": [
    "ingrids_per_minute = data_set[:, 2] / data_set[:, 1]\n",
    "ic(ingrids_per_minute)\n",
    "max_ingrids_per_minute = np.max(ingrids_per_minute)\n",
    "ic(max_ingrids_per_minute)"
   ]
  },
  {
   "cell_type": "markdown",
   "metadata": {},
   "source": [
    "9. Вычислите среднее количество ингредиентов для топ-100 рецептов с наибольшей продолжительностью"
   ]
  },
  {
   "cell_type": "code",
   "execution_count": 100,
   "metadata": {},
   "outputs": [],
   "source": [
    "# как не использовать типизированные массивы ?\n",
    "\n",
    "# dtype = np.dtype([('id', int), ('minutes', int), ('ingrids', int)])\n",
    "# sorted_dataset = np.array([], dtype=dtype)\n",
    "# ic(sorted_dataset)\n",
    "# sorted_dataset = data_set.copy()\n",
    "# ic(sorted_dataset)\n",
    "\n",
    "# ic(sorted_dataset)\n",
    "# sorted_dataset.dtype = [('id', int), ('minutes', int), ('ingrids', int)]      # ['id', int, 'minutes', int, 'ingrids', int]\n",
    "# sorted_dataset.sort(order='minutes')\n",
    "# ic(sorted_dataset)"
   ]
  },
  {
   "cell_type": "markdown",
   "metadata": {},
   "source": [
    "10. Выберите случайным образом и выведите информацию о 10 различных рецептах"
   ]
  },
  {
   "cell_type": "code",
   "execution_count": 101,
   "metadata": {},
   "outputs": [
    {
     "name": "stderr",
     "output_type": "stream",
     "text": [
      "ic| data_set[rand_idxs, :]: array([[419519,     30,     12],\n",
      "                                   [316336,    240,      5],\n",
      "                                   [ 83316,     42,      6],\n",
      "                                   [366734,     25,      5],\n",
      "                                   [190517,     35,      5],\n",
      "                                   [389917,     75,     13],\n",
      "                                   [397470,     45,     10],\n",
      "                                   [ 25021,     70,     15],\n",
      "                                   [137752,     50,      8],\n",
      "                                   [ 83609,     55,     12]])\n"
     ]
    },
    {
     "data": {
      "text/plain": [
       "array([[419519,     30,     12],\n",
       "       [316336,    240,      5],\n",
       "       [ 83316,     42,      6],\n",
       "       [366734,     25,      5],\n",
       "       [190517,     35,      5],\n",
       "       [389917,     75,     13],\n",
       "       [397470,     45,     10],\n",
       "       [ 25021,     70,     15],\n",
       "       [137752,     50,      8],\n",
       "       [ 83609,     55,     12]])"
      ]
     },
     "execution_count": 101,
     "metadata": {},
     "output_type": "execute_result"
    }
   ],
   "source": [
    "data_set_size = np.shape(data_set)[0]\n",
    "rand_idxs = np.random.randint(low=0, high=data_set_size, size=10)\n",
    "ic(data_set[rand_idxs, :])"
   ]
  },
  {
   "cell_type": "markdown",
   "metadata": {},
   "source": [
    "11. Выведите процент рецептов, кол-во ингредиентов в которых меньше среднего."
   ]
  },
  {
   "cell_type": "code",
   "execution_count": 102,
   "metadata": {},
   "outputs": [
    {
     "name": "stderr",
     "output_type": "stream",
     "text": [
      "ic| f'percent lower than mean ingrids {100*np.shape(lower_than_mean_ingrids_idxs)[1]/data_set_size}%': 'percent lower than mean ingrids 41.198%'\n"
     ]
    },
    {
     "data": {
      "text/plain": [
       "'percent lower than mean ingrids 41.198%'"
      ]
     },
     "execution_count": 102,
     "metadata": {},
     "output_type": "execute_result"
    }
   ],
   "source": [
    "lower_than_mean_ingrids_idxs = np.where(ingrids_arr_params['mean'] < ingrids_arr)\n",
    "ic(f'percent lower than mean ingrids {100*np.shape(lower_than_mean_ingrids_idxs)[1]/data_set_size}%')"
   ]
  },
  {
   "cell_type": "markdown",
   "metadata": {},
   "source": [
    "12. Назовем \"простым\" такой рецепт, длительность выполнения которого не больше 20 минут и кол-во ингредиентов в котором не больше 5. Создайте версию датасета с дополнительным столбцом, значениями которого являются 1, если рецепт простой, и 0 в противном случае."
   ]
  },
  {
   "cell_type": "code",
   "execution_count": 103,
   "metadata": {},
   "outputs": [
    {
     "name": "stderr",
     "output_type": "stream",
     "text": [
      "ic| np.shape(lower20_minutes): (1, 26650)\n",
      "    np.shape(lower5_ingrids): (1, 6343)\n",
      "ic| np.shape(simple_recepy_idxs): (6343,)\n",
      "ic| full_dataset: array([[1.27244e+05, 6.00000e+01, 1.60000e+01, 0.00000e+00],\n",
      "                         [2.38910e+04, 2.50000e+01, 7.00000e+00, 0.00000e+00],\n",
      "                         [9.47460e+04, 1.00000e+01, 6.00000e+00, 0.00000e+00],\n",
      "                         ...,\n",
      "                         [4.98432e+05, 6.50000e+01, 1.50000e+01, 0.00000e+00],\n",
      "                         [3.70915e+05, 5.00000e+00, 4.00000e+00, 1.00000e+00],\n",
      "                         [8.19930e+04, 1.40000e+02, 1.40000e+01, 0.00000e+00]])\n"
     ]
    },
    {
     "data": {
      "text/plain": [
       "array([[1.27244e+05, 6.00000e+01, 1.60000e+01, 0.00000e+00],\n",
       "       [2.38910e+04, 2.50000e+01, 7.00000e+00, 0.00000e+00],\n",
       "       [9.47460e+04, 1.00000e+01, 6.00000e+00, 0.00000e+00],\n",
       "       ...,\n",
       "       [4.98432e+05, 6.50000e+01, 1.50000e+01, 0.00000e+00],\n",
       "       [3.70915e+05, 5.00000e+00, 4.00000e+00, 1.00000e+00],\n",
       "       [8.19930e+04, 1.40000e+02, 1.40000e+01, 0.00000e+00]])"
      ]
     },
     "execution_count": 103,
     "metadata": {},
     "output_type": "execute_result"
    }
   ],
   "source": [
    "lower20_minutes = np.where(minuteprints_arr <= 20)\n",
    "lower5_ingrids = np.where(minuteprints_arr <= 5)\n",
    "ic(np.shape(lower20_minutes), np.shape(lower5_ingrids))\n",
    "simple_recepy_idxs = np.intersect1d(lower20_minutes, lower5_ingrids)\n",
    "ic(np.shape(simple_recepy_idxs))\n",
    "\n",
    "is_recepy_simple = np.zeros(data_set_size).reshape(data_set_size,1)\n",
    "is_recepy_simple[simple_recepy_idxs] = 1\n",
    "\n",
    "full_dataset = np.concatenate((data_set, is_recepy_simple), axis=1)\n",
    "ic(full_dataset)"
   ]
  },
  {
   "cell_type": "markdown",
   "metadata": {},
   "source": [
    "13. Выведите процент \"простых\" рецептов в датасете"
   ]
  },
  {
   "cell_type": "code",
   "execution_count": 104,
   "metadata": {},
   "outputs": [
    {
     "name": "stderr",
     "output_type": "stream",
     "text": [
      "ic| f'percent simple recepyes {100*np.shape(simple_recepy_idxs)[0]/data_set_size}%': 'percent simple recepyes 6.343%'\n"
     ]
    },
    {
     "data": {
      "text/plain": [
       "'percent simple recepyes 6.343%'"
      ]
     },
     "execution_count": 104,
     "metadata": {},
     "output_type": "execute_result"
    }
   ],
   "source": [
    "ic(f'percent simple recepyes {100*np.shape(simple_recepy_idxs)[0]/data_set_size}%')"
   ]
  },
  {
   "cell_type": "markdown",
   "metadata": {},
   "source": [
    "14. Разделим рецепты на группы по следующему правилу. Назовем рецепты короткими, если их продолжительность составляет менее 10 минут; стандартными, если их продолжительность составляет более 10, но менее 20 минут; и длинными, если их продолжительность составляет не менее 20 минут. Создайте трехмерный массив, где нулевая ось отвечает за номер группы (короткий, стандартный или длинный рецепт), первая ось - за сам рецепт и вторая ось - за характеристики рецепта. Выберите максимальное количество рецептов из каждой группы таким образом, чтобы было возможно сформировать трехмерный массив. Выведите форму полученного массива."
   ]
  },
  {
   "cell_type": "code",
   "execution_count": 108,
   "metadata": {},
   "outputs": [
    {
     "ename": "ValueError",
     "evalue": "could not broadcast input array from shape (1,7588) into shape (1,3)",
     "output_type": "error",
     "traceback": [
      "\u001b[1;31m---------------------------------------------------------------------------\u001b[0m",
      "\u001b[1;31mValueError\u001b[0m                                Traceback (most recent call last)",
      "Cell \u001b[1;32mIn[108], line 6\u001b[0m\n\u001b[0;32m      3\u001b[0m standart_recepyes_idxs \u001b[38;5;241m=\u001b[39m np\u001b[38;5;241m.\u001b[39mintersect1d(np\u001b[38;5;241m.\u001b[39mwhere(\u001b[38;5;241m10\u001b[39m \u001b[38;5;241m<\u001b[39m\u001b[38;5;241m=\u001b[39m minutes_arr), np\u001b[38;5;241m.\u001b[39mwhere(minutes_arr \u001b[38;5;241m<\u001b[39m \u001b[38;5;241m20\u001b[39m ))\n\u001b[0;32m      4\u001b[0m long_recepyes_idxs \u001b[38;5;241m=\u001b[39m np\u001b[38;5;241m.\u001b[39mwhere(minutes_arr \u001b[38;5;241m>\u001b[39m\u001b[38;5;241m=\u001b[39m \u001b[38;5;241m20\u001b[39m )\n\u001b[1;32m----> 6\u001b[0m \u001b[43mthree_dim_data_set\u001b[49m\u001b[43m[\u001b[49m\u001b[38;5;241;43m0\u001b[39;49m\u001b[43m]\u001b[49m \u001b[38;5;241m=\u001b[39m short_recepyes_idxs\n",
      "\u001b[1;31mValueError\u001b[0m: could not broadcast input array from shape (1,7588) into shape (1,3)"
     ]
    }
   ],
   "source": [
    "three_dim_data_set = np.zeros((3, 1, 3))\n",
    "short_recepyes_idxs = np.where(minutes_arr < 10)\n",
    "standart_recepyes_idxs = np.intersect1d(np.where(10 <= minutes_arr), np.where(minutes_arr < 20 ))\n",
    "long_recepyes_idxs = np.where(minutes_arr >= 20)\n",
    "\n",
    "three_dim_data_set[0] = short_recepyes_idxs\n"
   ]
  }
 ],
 "metadata": {
  "kernelspec": {
   "display_name": "Python 3 (ipykernel)",
   "language": "python",
   "name": "python3"
  },
  "language_info": {
   "codemirror_mode": {
    "name": "ipython",
    "version": 3
   },
   "file_extension": ".py",
   "mimetype": "text/x-python",
   "name": "python",
   "nbconvert_exporter": "python",
   "pygments_lexer": "ipython3",
   "version": "3.10.11"
  }
 },
 "nbformat": 4,
 "nbformat_minor": 4
}
