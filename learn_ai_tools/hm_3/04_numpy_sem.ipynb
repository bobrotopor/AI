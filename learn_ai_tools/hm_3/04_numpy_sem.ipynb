{
 "cells": [
  {
   "cell_type": "markdown",
   "metadata": {},
   "source": [
    "# Numpy"
   ]
  },
  {
   "cell_type": "markdown",
   "metadata": {},
   "source": [
    "Материалы:\n",
    "* Макрушин С.В. \"Лекция 1: Библиотека Numpy\"\n",
    "* https://numpy.org/doc/stable/user/index.html\n",
    "* https://numpy.org/doc/stable/reference/index.html"
   ]
  },
  {
   "cell_type": "markdown",
   "metadata": {},
   "source": [
    "## Задачи для совместного разбора"
   ]
  },
  {
   "cell_type": "markdown",
   "metadata": {},
   "source": [
    "1. Сгенерировать двухмерный массив `arr` размерности (4, 7), состоящий из случайных действительных чисел, равномерно распределенных в диапазоне от 0 до 20. Нормализовать значения массива с помощью преобразования вида  $𝑎𝑥+𝑏$  так, что после нормализации максимальный элемент масcива будет равен 1.0, минимальный 0.0"
   ]
  },
  {
   "cell_type": "code",
   "execution_count": 94,
   "metadata": {},
   "outputs": [
    {
     "name": "stderr",
     "output_type": "stream",
     "text": [
      "ic| res: array([[11, 15, 16, 18, 18,  1, 17],\n",
      "                [13,  1, 17, 12,  5,  8,  8],\n",
      "                [ 3, 11,  1, 13, 16,  6,  7],\n",
      "                [ 1,  6, 19, 11,  3, 15,  4]])\n",
      "ic| normed_res: array([[0.55555556, 0.77777778, 0.83333333, 0.94444444, 0.94444444,\n",
      "                        0.        , 0.88888889]"
     ]
    },
    {
     "name": "stderr",
     "output_type": "stream",
     "text": [
      ",\n",
      "                       [0.66666667, 0.        , 0.88888889, 0.61111111, 0.22222222,\n",
      "                        0.38888889, 0.38888889],\n",
      "                       [0.11111111, 0.55555556, 0.        , 0.66666667, 0.83333333,\n",
      "                        0.27777778, 0.33333333],\n",
      "                       [0.        , 0.27777778, 1.        , 0.55555556, 0.11111111,\n",
      "                        0.77777778, 0.16666667]])\n",
      "ic| 1.0 in normed_res: True\n",
      "ic| 0.0 in normed_res: True\n"
     ]
    },
    {
     "data": {
      "text/plain": [
       "True"
      ]
     },
     "execution_count": 94,
     "metadata": {},
     "output_type": "execute_result"
    }
   ],
   "source": [
    "import numpy as np\n",
    "from icecream import ic \n",
    "\n",
    "res = np.random.randint(low=0, high=20, size=4*7).reshape((4,7))    # не понял как чделоать float\n",
    "ic(res)\n",
    "\n",
    "max_el = np.max(res)\n",
    "min_el = np.min(res)\n",
    "\n",
    "normed_res = (res - min_el) / (max_el-min_el)\n",
    "ic(normed_res)\n",
    "\n",
    "ic(1.0 in normed_res)\n",
    "ic(0.0 in normed_res)"
   ]
  },
  {
   "cell_type": "markdown",
   "metadata": {},
   "source": [
    "2. Создать матрицу 8 на 10 из случайных целых (используя модуль `numpy.random`) чисел из диапозона от 0 до 10 и найти в ней строку (ее индекс и вывести саму строку), в которой сумма значений минимальна."
   ]
  },
  {
   "cell_type": "code",
   "execution_count": 95,
   "metadata": {},
   "outputs": [
    {
     "name": "stderr",
     "output_type": "stream",
     "text": [
      "ic| two_darr: array([[3, 2, 1, 6, 8, 5, 8, 2, 4, 8],\n",
      "                     [9, 1, 4, 5, 3, 3, 8, 4, 4, 6],\n",
      "                     [0, 4, 1, 8, 0, 2, 5, 7, 0, 5],\n",
      "                     [5, 0, 1, 3, 5, 9, 9, 8, 0, 5],\n",
      "                     [7, 2, 3, 7, 5, 3, 2, 1, 9, 5],\n",
      "                     [5, 6, 6, 6, 7, 0, 3, 1, 9, 8],\n",
      "                     [6, 1, 9, 8, 0, 7, 5, 5, 0, 4],\n",
      "                     [0, 9, 0, 5, 8, 7, 9, 9, 1, 0]])\n",
      "ic| f'index={idx_max_sum_one_darr}, one_dim_arr={two_darr[idx_max_sum_one_darr]}, sum={sum(two_darr[idx_max_sum_one_darr])}': 'index=5, one_dim_arr=[5 6 6 6 7 0 3 1 9 8], sum=51'\n"
     ]
    },
    {
     "data": {
      "text/plain": [
       "'index=5, one_dim_arr=[5 6 6 6 7 0 3 1 9 8], sum=51'"
      ]
     },
     "execution_count": 95,
     "metadata": {},
     "output_type": "execute_result"
    }
   ],
   "source": [
    "two_darr = np.random.randint(low=0, high=10, size=8*10).reshape((8,10))\n",
    "ic(two_darr)\n",
    "\n",
    "dict_sum_one_darr = {sum(one_dim_arr): idx for idx, one_dim_arr in enumerate(two_darr)}\n",
    "max_sum = max(dict_sum_one_darr.keys())\n",
    "\n",
    "idx_max_sum_one_darr = dict_sum_one_darr[max_sum]\n",
    "ic(f'index={idx_max_sum_one_darr}, one_dim_arr={two_darr[idx_max_sum_one_darr]}, sum={sum(two_darr[idx_max_sum_one_darr])}')\n",
    "\n"
   ]
  },
  {
   "cell_type": "code",
   "execution_count": 96,
   "metadata": {},
   "outputs": [
    {
     "name": "stderr",
     "output_type": "stream",
     "text": [
      "ic| f'sum_list={check_sum_list}, max_sum={max(check_sum_list)}': 'sum_list=[47, 47, 32, 45, 44, 51, 45, 48], max_sum=51'\n"
     ]
    },
    {
     "data": {
      "text/plain": [
       "'sum_list=[47, 47, 32, 45, 44, 51, 45, 48], max_sum=51'"
      ]
     },
     "execution_count": 96,
     "metadata": {},
     "output_type": "execute_result"
    }
   ],
   "source": [
    "check_sum_list = [sum(one_darr) for one_darr in two_darr]\n",
    "ic(f'sum_list={check_sum_list}, max_sum={max(check_sum_list)}')"
   ]
  },
  {
   "cell_type": "markdown",
   "metadata": {},
   "source": [
    "3. Найти евклидово расстояние между двумя одномерными векторами одинаковой размерности.\n",
    "\n",
    "![image.png](attachment:image.png)"
   ]
  },
  {
   "cell_type": "code",
   "execution_count": 97,
   "metadata": {},
   "outputs": [],
   "source": [
    "a= np.array([5,5,5])\n",
    "b=np.array([2,2,2])\n"
   ]
  },
  {
   "cell_type": "markdown",
   "metadata": {},
   "source": [
    "4. Решить матричное уравнение `A*X*B=-C` - найти матрицу `X`. Где `A = [[-1, 2, 4], [-3, 1, 2], [-3, 0, 1]]`, `B=[[3, -1], [2, 1]]`, `C=[[7, 21], [11, 8], [8, 4]]`."
   ]
  },
  {
   "cell_type": "code",
   "execution_count": 98,
   "metadata": {},
   "outputs": [
    {
     "data": {
      "text/plain": [
       "array([[ 1.00000000e+00,  5.32907052e-16],\n",
       "       [-2.00000000e+00,  1.00000000e+00],\n",
       "       [ 3.00000000e+00, -4.00000000e+00]])"
      ]
     },
     "execution_count": 98,
     "metadata": {},
     "output_type": "execute_result"
    }
   ],
   "source": [
    "A = np.array([[-1, 2, 4], [-3, 1, 2], [-3, 0, 1]])\n",
    "B = np.array([[3, -1], [2, 1]])\n",
    "C = np.array([[7, 21], [11, 8], [8, 4]])\n",
    "\n",
    "X = np.linalg.inv(A) @ (-C) @ np.linalg.inv(B)\n",
    "X"
   ]
  },
  {
   "cell_type": "markdown",
   "metadata": {},
   "source": [
    "## Лабораторная работа №1"
   ]
  },
  {
   "cell_type": "markdown",
   "metadata": {},
   "source": [
    "Замечание: при решении данных задач не подразумевается использования циклов или генераторов Python, если в задании не сказано обратного. Решение должно опираться на использования функционала библиотеки `numpy`."
   ]
  },
  {
   "cell_type": "markdown",
   "metadata": {},
   "source": [
    "1. Файл `minutes_n_ingredients.csv` содержит информацию об идентификаторе рецепта, времени его выполнения в минутах и количестве необходимых ингредиентов. Считайте данные из этого файла в виде массива `numpy` типа `int32`, используя `np.loadtxt`. Выведите на экран первые 5 строк массива."
   ]
  },
  {
   "cell_type": "code",
   "execution_count": 99,
   "metadata": {},
   "outputs": [
    {
     "data": {
      "text/plain": [
       "array([[127244,     60,     16],\n",
       "       [ 23891,     25,      7],\n",
       "       [ 94746,     10,      6],\n",
       "       [ 67660,      5,      6],\n",
       "       [157911,     60,     14]])"
      ]
     },
     "execution_count": 99,
     "metadata": {},
     "output_type": "execute_result"
    }
   ],
   "source": [
    "from pathlib import Path\n",
    "from csv import reader as csv_reader\n",
    "\n",
    "cfg_path = Path(__name__).parent / 'data/minutes_n_ingredients.csv'\n",
    "\n",
    "data_set = np.loadtxt(fname=cfg_path, delimiter=',', skiprows=1, dtype=np.int32)\n",
    "data_set[:5][:]\n"
   ]
  },
  {
   "cell_type": "markdown",
   "metadata": {},
   "source": [
    "2. Вычислите среднее значение, минимум, максимум и медиану по каждому из столбцов, кроме первого."
   ]
  },
  {
   "cell_type": "code",
   "execution_count": 100,
   "metadata": {},
   "outputs": [
    {
     "name": "stderr",
     "output_type": "stream",
     "text": [
      "ic| minutes_arr_params: {'max': 2147483647, 'mean': 21601.00169, 'median': 40.0, 'min': 0}\n",
      "ic| ingrids_arr_params: {'max': 39, 'mean': 9.05528, 'median': 9.0, 'min': 1}\n"
     ]
    },
    {
     "data": {
      "text/plain": [
       "{'min': 1, 'max': 39, 'mean': 9.05528, 'median': 9.0}"
      ]
     },
     "execution_count": 100,
     "metadata": {},
     "output_type": "execute_result"
    }
   ],
   "source": [
    "minutes_arr = data_set[:, 1]\n",
    "ingrids_arr = data_set[:, 2]\n",
    "\n",
    "get_one_dim_array_params = lambda arr: {\n",
    "    'min': np.min(arr), \n",
    "    'max': np.max(arr), \n",
    "    'mean': np.mean(arr),\n",
    "    'median': np.median(arr),\n",
    "}\n",
    "minutes_arr_params = get_one_dim_array_params(minutes_arr)\n",
    "ingrids_arr_params = get_one_dim_array_params(ingrids_arr)\n",
    "\n",
    "ic(minutes_arr_params)\n",
    "ic(ingrids_arr_params)\n"
   ]
  },
  {
   "cell_type": "markdown",
   "metadata": {},
   "source": [
    "3. Ограничьте сверху значения продолжительности выполнения рецепта значением квантиля $q_{0.75}$. "
   ]
  },
  {
   "cell_type": "code",
   "execution_count": 101,
   "metadata": {},
   "outputs": [
    {
     "data": {
      "text/plain": [
       "65.0"
      ]
     },
     "execution_count": 101,
     "metadata": {},
     "output_type": "execute_result"
    }
   ],
   "source": [
    "quantile_minutes = np.quantile(minutes_arr, 0.75)\n",
    "quantile_minutes \n",
    "# пороговое кол-во минут x_a, такое что вероятность P(X < x_a) >= 0.75, \n",
    "# где X - случайная величина распределения минут\n",
    "\n",
    "# то есть с вероятность не менее 75% мы получим рецепт длительностью не более x_a минут\n",
    "# по заданному распределению"
   ]
  },
  {
   "cell_type": "markdown",
   "metadata": {},
   "source": [
    "4. Посчитайте, для скольких рецептов указана продолжительность, равная нулю. Замените для таких строк значение в данном столбце на 1."
   ]
  },
  {
   "cell_type": "code",
   "execution_count": 102,
   "metadata": {},
   "outputs": [
    {
     "name": "stdout",
     "output_type": "stream",
     "text": [
      "before editing:\n",
      "479 zero_elements\n",
      "after editing:\n",
      "0 zero_elements\n"
     ]
    }
   ],
   "source": [
    "# Для проверки нужно обновить все ячейки !\n",
    "\n",
    "zero_elements_idxs = np.where(minutes_arr == 0)\n",
    "print(f'before editing:\\n{np.size(np.where(minutes_arr == 0))} zero_elements')\n",
    "\n",
    "data_set[zero_elements_idxs, 1] = 1\n",
    "minuteprints_arr = data_set[:, 1]\n",
    "\n",
    "print(f'after editing:\\n{np.size(np.where(minutes_arr == 0))} zero_elements')\n",
    "\n"
   ]
  },
  {
   "cell_type": "markdown",
   "metadata": {},
   "source": [
    "5. Посчитайте, сколько уникальных рецептов находится в датасете."
   ]
  },
  {
   "cell_type": "code",
   "execution_count": null,
   "metadata": {},
   "outputs": [],
   "source": []
  },
  {
   "cell_type": "markdown",
   "metadata": {},
   "source": [
    "6. Сколько и каких различных значений кол-ва ингредиентов присутвует в рецептах из датасета?"
   ]
  },
  {
   "cell_type": "markdown",
   "metadata": {},
   "source": [
    "7. Создайте версию массива, содержащую информацию только о рецептах, состоящих не более чем из 5 ингредиентов."
   ]
  },
  {
   "cell_type": "markdown",
   "metadata": {},
   "source": [
    "8. Для каждого рецепта посчитайте, сколько в среднем ингредиентов приходится на одну минуту рецепта. Найдите максимальное значение этой величины для всего датасета"
   ]
  },
  {
   "cell_type": "markdown",
   "metadata": {},
   "source": [
    "9. Вычислите среднее количество ингредиентов для топ-100 рецептов с наибольшей продолжительностью"
   ]
  },
  {
   "cell_type": "markdown",
   "metadata": {},
   "source": [
    "10. Выберите случайным образом и выведите информацию о 10 различных рецептах"
   ]
  },
  {
   "cell_type": "markdown",
   "metadata": {},
   "source": [
    "11. Выведите процент рецептов, кол-во ингредиентов в которых меньше среднего."
   ]
  },
  {
   "cell_type": "markdown",
   "metadata": {},
   "source": [
    "12. Назовем \"простым\" такой рецепт, длительность выполнения которого не больше 20 минут и кол-во ингредиентов в котором не больше 5. Создайте версию датасета с дополнительным столбцом, значениями которого являются 1, если рецепт простой, и 0 в противном случае."
   ]
  },
  {
   "cell_type": "markdown",
   "metadata": {},
   "source": [
    "13. Выведите процент \"простых\" рецептов в датасете"
   ]
  },
  {
   "cell_type": "markdown",
   "metadata": {},
   "source": [
    "14. Разделим рецепты на группы по следующему правилу. Назовем рецепты короткими, если их продолжительность составляет менее 10 минут; стандартными, если их продолжительность составляет более 10, но менее 20 минут; и длинными, если их продолжительность составляет не менее 20 минут. Создайте трехмерный массив, где нулевая ось отвечает за номер группы (короткий, стандартный или длинный рецепт), первая ось - за сам рецепт и вторая ось - за характеристики рецепта. Выберите максимальное количество рецептов из каждой группы таким образом, чтобы было возможно сформировать трехмерный массив. Выведите форму полученного массива."
   ]
  },
  {
   "cell_type": "code",
   "execution_count": null,
   "metadata": {},
   "outputs": [],
   "source": []
  }
 ],
 "metadata": {
  "kernelspec": {
   "display_name": "Python 3 (ipykernel)",
   "language": "python",
   "name": "python3"
  },
  "language_info": {
   "codemirror_mode": {
    "name": "ipython",
    "version": 3
   },
   "file_extension": ".py",
   "mimetype": "text/x-python",
   "name": "python",
   "nbconvert_exporter": "python",
   "pygments_lexer": "ipython3",
   "version": "3.10.11"
  }
 },
 "nbformat": 4,
 "nbformat_minor": 4
}
