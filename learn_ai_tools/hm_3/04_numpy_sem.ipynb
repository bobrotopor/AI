{
 "cells": [
  {
   "cell_type": "markdown",
   "metadata": {},
   "source": [
    "# Numpy"
   ]
  },
  {
   "cell_type": "markdown",
   "metadata": {},
   "source": [
    "Материалы:\n",
    "* Макрушин С.В. \"Лекция 1: Библиотека Numpy\"\n",
    "* https://numpy.org/doc/stable/user/index.html\n",
    "* https://numpy.org/doc/stable/reference/index.html"
   ]
  },
  {
   "cell_type": "markdown",
   "metadata": {},
   "source": [
    "## Задачи для совместного разбора"
   ]
  },
  {
   "cell_type": "markdown",
   "metadata": {},
   "source": [
    "1. Сгенерировать двухмерный массив `arr` размерности (4, 7), состоящий из случайных действительных чисел, равномерно распределенных в диапазоне от 0 до 20. Нормализовать значения массива с помощью преобразования вида  $𝑎𝑥+𝑏$  так, что после нормализации максимальный элемент масcива будет равен 1.0, минимальный 0.0"
   ]
  },
  {
   "cell_type": "code",
   "execution_count": 22,
   "metadata": {},
   "outputs": [
    {
     "name": "stderr",
     "output_type": "stream",
     "text": [
      "ic| res: array([[ 2,  3,  6, 12,  2, 11,  0],\n",
      "                [16, 17, 17, 18,  3,  7,  0],\n",
      "                [ 0, 12, 15,  1,  8, 14, 16],\n",
      "                [ 3, 14,  8, 10,  0, 17, 17]])\n",
      "ic| normed_res: array([[0.11111111, 0.16666667, 0.33333333, 0.66666667, 0.11111111,\n",
      "                        0.61111111, 0.        ],\n",
      "                       [0.88888889, 0.94444444, 0.94444444, 1.        , 0.16666667,\n",
      "                        0.38888889, 0.        ],\n",
      "                       [0.        , 0.66666667, 0.83333333, 0.05555556, 0.44444444,\n",
      "                        0.77777778, 0.88888889],\n",
      "                       [0.16666667, 0.77777778, 0.44444444, 0.55555556, 0.        ,\n",
      "                        0.94444444, 0.94444444]])\n",
      "ic| 1.0 in normed_res: True\n",
      "ic| 0.0 in normed_res: True\n"
     ]
    },
    {
     "data": {
      "text/plain": [
       "True"
      ]
     },
     "execution_count": 22,
     "metadata": {},
     "output_type": "execute_result"
    }
   ],
   "source": [
    "import numpy as np\n",
    "from icecream import ic \n",
    "\n",
    "res = np.random.randint(low=0, high=20, size=4*7).reshape((4,7))    # не понял как чделоать float\n",
    "ic(res)\n",
    "\n",
    "max_el = np.max(res)\n",
    "min_el = np.min(res)\n",
    "\n",
    "normed_res = (res - min_el) / (max_el-min_el)\n",
    "ic(normed_res)\n",
    "\n",
    "ic(1.0 in normed_res)\n",
    "ic(0.0 in normed_res)"
   ]
  },
  {
   "cell_type": "markdown",
   "metadata": {},
   "source": [
    "2. Создать матрицу 8 на 10 из случайных целых (используя модуль `numpy.random`) чисел из диапозона от 0 до 10 и найти в ней строку (ее индекс и вывести саму строку), в которой сумма значений минимальна."
   ]
  },
  {
   "cell_type": "code",
   "execution_count": 23,
   "metadata": {},
   "outputs": [
    {
     "name": "stderr",
     "output_type": "stream",
     "text": [
      "ic| two_darr: array([[9, 6, 8, 8, 7, 5, 9, 0, 1, 9],\n",
      "                     [2, 7, 1, 6, 0, 0, 7, 8, 9, 8],\n",
      "                     [2, 0, 8, 0, 3, 6, 5, 8, 3, 0],\n",
      "                     [2, 5, 6, 7, 9, 7, 9, 6, 7, 1],\n",
      "                     [2, 6, 3, 7, 2, 6, 5, 5, 0, 0],\n",
      "                     [7, 2, 9, 1, 3, 4, 5, 7, 3, 9],\n",
      "                     [8, 5, 5, 6, 5, 0, 9, 9, 6, 7],\n",
      "                     [3, 0, 0, 3, 9, 8, 2, 3, 6, 4]])\n",
      "ic| f'index={idx_max_sum_one_darr}, one_dim_arr={two_darr[idx_max_sum_one_darr]}, sum={sum(two_darr[idx_max_sum_one_darr])}': 'index=0, one_dim_arr=[9 6 8 8 7 5 9 0 1 9], sum=62'\n"
     ]
    },
    {
     "data": {
      "text/plain": [
       "'index=0, one_dim_arr=[9 6 8 8 7 5 9 0 1 9], sum=62'"
      ]
     },
     "execution_count": 23,
     "metadata": {},
     "output_type": "execute_result"
    }
   ],
   "source": [
    "two_darr = np.random.randint(low=0, high=10, size=8*10).reshape((8,10))\n",
    "ic(two_darr)\n",
    "\n",
    "dict_sum_one_darr = {sum(one_dim_arr): idx for idx, one_dim_arr in enumerate(two_darr)}\n",
    "max_sum = max(dict_sum_one_darr.keys())\n",
    "\n",
    "idx_max_sum_one_darr = dict_sum_one_darr[max_sum]\n",
    "ic(f'index={idx_max_sum_one_darr}, one_dim_arr={two_darr[idx_max_sum_one_darr]}, sum={sum(two_darr[idx_max_sum_one_darr])}')\n",
    "\n"
   ]
  },
  {
   "cell_type": "code",
   "execution_count": 24,
   "metadata": {},
   "outputs": [
    {
     "name": "stderr",
     "output_type": "stream",
     "text": [
      "ic| f'sum_list={check_sum_list}, max_sum={max(check_sum_list)}': 'sum_list=[62, 48, 35, 59, 36, 50, 60, 38], max_sum=62'\n"
     ]
    },
    {
     "data": {
      "text/plain": [
       "'sum_list=[62, 48, 35, 59, 36, 50, 60, 38], max_sum=62'"
      ]
     },
     "execution_count": 24,
     "metadata": {},
     "output_type": "execute_result"
    }
   ],
   "source": [
    "check_sum_list = [sum(one_darr) for one_darr in two_darr]\n",
    "ic(f'sum_list={check_sum_list}, max_sum={max(check_sum_list)}')"
   ]
  },
  {
   "cell_type": "markdown",
   "metadata": {},
   "source": [
    "3. Найти евклидово расстояние между двумя одномерными векторами одинаковой размерности.\n",
    "\n",
    "![image.png](attachment:image.png)"
   ]
  },
  {
   "cell_type": "code",
   "execution_count": 25,
   "metadata": {},
   "outputs": [],
   "source": [
    "a= np.array([5,5,5])\n",
    "b=np.array([2,2,2])\n"
   ]
  },
  {
   "cell_type": "markdown",
   "metadata": {},
   "source": [
    "4. Решить матричное уравнение `A*X*B=-C` - найти матрицу `X`. Где `A = [[-1, 2, 4], [-3, 1, 2], [-3, 0, 1]]`, `B=[[3, -1], [2, 1]]`, `C=[[7, 21], [11, 8], [8, 4]]`."
   ]
  },
  {
   "cell_type": "code",
   "execution_count": 26,
   "metadata": {},
   "outputs": [
    {
     "data": {
      "text/plain": [
       "array([[ 1.00000000e+00,  5.32907052e-16],\n",
       "       [-2.00000000e+00,  1.00000000e+00],\n",
       "       [ 3.00000000e+00, -4.00000000e+00]])"
      ]
     },
     "execution_count": 26,
     "metadata": {},
     "output_type": "execute_result"
    }
   ],
   "source": [
    "A = np.array([[-1, 2, 4], [-3, 1, 2], [-3, 0, 1]])\n",
    "B = np.array([[3, -1], [2, 1]])\n",
    "C = np.array([[7, 21], [11, 8], [8, 4]])\n",
    "\n",
    "X = np.linalg.inv(A) @ (-C) @ np.linalg.inv(B)\n",
    "X"
   ]
  },
  {
   "cell_type": "markdown",
   "metadata": {},
   "source": [
    "## Лабораторная работа №1"
   ]
  },
  {
   "cell_type": "markdown",
   "metadata": {},
   "source": [
    "Замечание: при решении данных задач не подразумевается использования циклов или генераторов Python, если в задании не сказано обратного. Решение должно опираться на использования функционала библиотеки `numpy`."
   ]
  },
  {
   "cell_type": "markdown",
   "metadata": {},
   "source": [
    "1. Файл `minutes_n_ingredients.csv` содержит информацию об идентификаторе рецепта, времени его выполнения в минутах и количестве необходимых ингредиентов. Считайте данные из этого файла в виде массива `numpy` типа `int32`, используя `np.loadtxt`. Выведите на экран первые 5 строк массива."
   ]
  },
  {
   "cell_type": "code",
   "execution_count": 27,
   "metadata": {},
   "outputs": [
    {
     "data": {
      "text/plain": [
       "array([[127244,     60,     16],\n",
       "       [ 23891,     25,      7],\n",
       "       [ 94746,     10,      6],\n",
       "       [ 67660,      5,      6],\n",
       "       [157911,     60,     14]])"
      ]
     },
     "execution_count": 27,
     "metadata": {},
     "output_type": "execute_result"
    }
   ],
   "source": [
    "from pathlib import Path\n",
    "from csv import reader as csv_reader\n",
    "\n",
    "cfg_path = Path(__name__).parent / 'data/minutes_n_ingredients.csv'\n",
    "\n",
    "data_set = np.loadtxt(fname=cfg_path, delimiter=',', skiprows=1, dtype=np.int32)\n",
    "data_set[:5][:]\n"
   ]
  },
  {
   "cell_type": "markdown",
   "metadata": {},
   "source": [
    "2. Вычислите среднее значение, минимум, максимум и медиану по каждому из столбцов, кроме первого."
   ]
  },
  {
   "cell_type": "code",
   "execution_count": 32,
   "metadata": {},
   "outputs": [
    {
     "name": "stderr",
     "output_type": "stream",
     "text": [
      "ic| minutes_arr_params: {'max': 2147483647, 'mean': 21601.00169, 'median': 40.0, 'min': 0}\n",
      "ic| ingrids_arr_params:"
     ]
    },
    {
     "name": "stderr",
     "output_type": "stream",
     "text": [
      " {'max': 39, 'mean': 9.05528, 'median': 9.0, 'min': 1}\n",
      "ic| data_set[:, 1]: array([ 60,  25,  10, ...,  65,   5, 140])\n",
      "ic| data_set[:, 2]: array([16,  7,  6, ..., 15,  4, 14])\n"
     ]
    },
    {
     "data": {
      "text/plain": [
       "array([16,  7,  6, ..., 15,  4, 14])"
      ]
     },
     "execution_count": 32,
     "metadata": {},
     "output_type": "execute_result"
    }
   ],
   "source": [
    "get_one_dim_array_params = lambda arr: {\n",
    "    'min': np.min(arr), \n",
    "    'max': np.max(arr), \n",
    "    'mean': np.mean(arr),\n",
    "    'median': np.median(arr),\n",
    "}\n",
    "minutes_arr_params = get_one_dim_array_params(data_set[:, 1])\n",
    "ingrids_arr_params = get_one_dim_array_params(data_set[:, 2])\n",
    "\n",
    "ic(minutes_arr_params)\n",
    "ic(ingrids_arr_params)\n"
   ]
  },
  {
   "cell_type": "markdown",
   "metadata": {},
   "source": [
    "3. Ограничьте сверху значения продолжительности выполнения рецепта значением квантиля $q_{0.75}$. "
   ]
  },
  {
   "cell_type": "markdown",
   "metadata": {},
   "source": [
    "4. Посчитайте, для скольких рецептов указана продолжительность, равная нулю. Замените для таких строк значение в данном столбце на 1."
   ]
  },
  {
   "cell_type": "markdown",
   "metadata": {},
   "source": [
    "5. Посчитайте, сколько уникальных рецептов находится в датасете."
   ]
  },
  {
   "cell_type": "markdown",
   "metadata": {},
   "source": [
    "6. Сколько и каких различных значений кол-ва ингредиентов присутвует в рецептах из датасета?"
   ]
  },
  {
   "cell_type": "markdown",
   "metadata": {},
   "source": [
    "7. Создайте версию массива, содержащую информацию только о рецептах, состоящих не более чем из 5 ингредиентов."
   ]
  },
  {
   "cell_type": "markdown",
   "metadata": {},
   "source": [
    "8. Для каждого рецепта посчитайте, сколько в среднем ингредиентов приходится на одну минуту рецепта. Найдите максимальное значение этой величины для всего датасета"
   ]
  },
  {
   "cell_type": "markdown",
   "metadata": {},
   "source": [
    "9. Вычислите среднее количество ингредиентов для топ-100 рецептов с наибольшей продолжительностью"
   ]
  },
  {
   "cell_type": "markdown",
   "metadata": {},
   "source": [
    "10. Выберите случайным образом и выведите информацию о 10 различных рецептах"
   ]
  },
  {
   "cell_type": "markdown",
   "metadata": {},
   "source": [
    "11. Выведите процент рецептов, кол-во ингредиентов в которых меньше среднего."
   ]
  },
  {
   "cell_type": "markdown",
   "metadata": {},
   "source": [
    "12. Назовем \"простым\" такой рецепт, длительность выполнения которого не больше 20 минут и кол-во ингредиентов в котором не больше 5. Создайте версию датасета с дополнительным столбцом, значениями которого являются 1, если рецепт простой, и 0 в противном случае."
   ]
  },
  {
   "cell_type": "markdown",
   "metadata": {},
   "source": [
    "13. Выведите процент \"простых\" рецептов в датасете"
   ]
  },
  {
   "cell_type": "markdown",
   "metadata": {},
   "source": [
    "14. Разделим рецепты на группы по следующему правилу. Назовем рецепты короткими, если их продолжительность составляет менее 10 минут; стандартными, если их продолжительность составляет более 10, но менее 20 минут; и длинными, если их продолжительность составляет не менее 20 минут. Создайте трехмерный массив, где нулевая ось отвечает за номер группы (короткий, стандартный или длинный рецепт), первая ось - за сам рецепт и вторая ось - за характеристики рецепта. Выберите максимальное количество рецептов из каждой группы таким образом, чтобы было возможно сформировать трехмерный массив. Выведите форму полученного массива."
   ]
  },
  {
   "cell_type": "code",
   "execution_count": null,
   "metadata": {},
   "outputs": [],
   "source": []
  }
 ],
 "metadata": {
  "kernelspec": {
   "display_name": "Python 3 (ipykernel)",
   "language": "python",
   "name": "python3"
  },
  "language_info": {
   "codemirror_mode": {
    "name": "ipython",
    "version": 3
   },
   "file_extension": ".py",
   "mimetype": "text/x-python",
   "name": "python",
   "nbconvert_exporter": "python",
   "pygments_lexer": "ipython3",
   "version": "3.10.11"
  }
 },
 "nbformat": 4,
 "nbformat_minor": 4
}
