{
 "cells": [
  {
   "cell_type": "code",
   "execution_count": 113,
   "metadata": {},
   "outputs": [],
   "source": [
    "#Загрузим необходимые библиотеки\n",
    "import numpy as np\n",
    "import pandas as pd\n",
    "import matplotlib.pyplot as plt\n",
    "from icecream import ic\n",
    "from sklearn.impute import SimpleImputer\n",
    "from sklearn.metrics import f1_score"
   ]
  },
  {
   "cell_type": "markdown",
   "metadata": {},
   "source": [
    "# Условие"
   ]
  },
  {
   "cell_type": "code",
   "execution_count": 114,
   "metadata": {},
   "outputs": [],
   "source": [
    "TEST_DATA_NUM = 22624"
   ]
  },
  {
   "cell_type": "markdown",
   "metadata": {},
   "source": [
    "- Реализовать расчеты способами а и б для набора данных из файла insclass_train.csv/\n",
    "2- Для 151 406 договоров страхования транспортных средств известны значения ряда признаков,\n",
    "в том числе пол, возраст, стаж вождения и коэффициент бонус-малус водителя, тип, марка, модель,\n",
    "год выпуска, страна – производитель, мощность и объем двигателя, а также признак target, равный 1,\n",
    " если заключение договора с клиентом является рисковым, и 0 в противном случае (файл insclass_train.csv).\n",
    "\n",
    "- Требуется построить модель, предсказывающую значение признака target для 22 624 договоров из тестового набора данных (файл insclass_test.csv).\n",
    "\n",
    "- В обучающем наборе данных для каждого договора известны следующие поля:\n",
    "\n",
    "variable_1 - агрегированный коэффициент бонус-малус (повышающий или понижающий стоимость полиса в зависимости от аварийности в предыдущие периоды);\n",
    "\n",
    "variable_2 - индикатор расторжения договора по инициативе страхователя (клиента);\n",
    "\n",
    "variable_3 - индикатор расторжения договора по инициативе страховщика (страховой компании);\n",
    "\n",
    "variable_4 - идентификатор года выпуска транспортного средства;\n",
    "\n",
    "variable_5 - идентификатор страны - производителя транспортного средства;\n",
    "\n",
    "variable_6 - мощность двигателя в лошадиных силах;\n",
    "\n",
    "variable_7 - объем двигателя в куб. см;\n",
    "\n",
    "variable_8 - идентификатор стороны расположения руля (левый или правый);\n",
    "\n",
    "variable_9 - пробег транспортного средства, покрываемый гарантией производителя;\n",
    "\n",
    "variable_10 - индикатор действия гарантии на транспортное средство;\n",
    "\n",
    "variable_11 - \"мультидрайв\" - индикатор допуска к управлению транспортным средством более одного водителя;\n",
    "\n",
    "variable_12 - возраст транспортного средства (в мес.);\n",
    "\n",
    "variable_13 - возраст водителя с максимальным стажем;\n",
    "\n",
    "variable_14 - коэффициент возраст-стаж;\n",
    "\n",
    "variable_15 - коэффициент краткосрочности;\n",
    "\n",
    "variable_16 - коэффициент мощности;\n",
    "\n",
    "variable_17 - коэффициент \"мультидрайв\";\n",
    "\n",
    "variable_18 - территориальный коэффициент;\n",
    "\n",
    "variable_19 - коэффициент \"КНДР\";\n",
    "\n",
    "variable_20 - идентификатор канала продаж;\n",
    "\n",
    "variable_21 - марка транспортного средства;\n",
    "\n",
    "variable_22 - модель транспортного средства;\n",
    "\n",
    "variable_23 - индикатор отечественных транспортных средств;\n",
    "\n",
    "variable_24 - пол водителя с максимальным коэффициентом \"возраст-стаж\";\n",
    "\n",
    "variable_25 - индикатор пролонгации;\n",
    "\n",
    "variable_26 - индикатор совпадения собственника транспортного средства и водителя;\n",
    "\n",
    "variable_27 - стаж водителя с максимальным коэффициентом \"возраст-стаж\";\n",
    "\n",
    "variable_28 - тип транспортного средства;\n",
    "\n",
    "target - класс риска, равный 1, если заключение договора с клиентом является рисковым, и 0 в противном случае."
   ]
  },
  {
   "cell_type": "markdown",
   "metadata": {},
   "source": [
    "# Подготовка данных "
   ]
  },
  {
   "cell_type": "code",
   "execution_count": 115,
   "metadata": {},
   "outputs": [],
   "source": [
    "init_df = pd.read_csv('insclass_train.csv')\n",
    "refacted_df = init_df.copy()"
   ]
  },
  {
   "cell_type": "markdown",
   "metadata": {},
   "source": [
    "### 1 Энкодим строковые признаки"
   ]
  },
  {
   "cell_type": "code",
   "execution_count": 116,
   "metadata": {},
   "outputs": [
    {
     "data": {
      "text/html": [
       "<div>\n",
       "<style scoped>\n",
       "    .dataframe tbody tr th:only-of-type {\n",
       "        vertical-align: middle;\n",
       "    }\n",
       "\n",
       "    .dataframe tbody tr th {\n",
       "        vertical-align: top;\n",
       "    }\n",
       "\n",
       "    .dataframe thead th {\n",
       "        text-align: right;\n",
       "    }\n",
       "</style>\n",
       "<table border=\"1\" class=\"dataframe\">\n",
       "  <thead>\n",
       "    <tr style=\"text-align: right;\">\n",
       "      <th></th>\n",
       "      <th>variable_1</th>\n",
       "      <th>variable_5</th>\n",
       "      <th>variable_20</th>\n",
       "      <th>variable_21</th>\n",
       "      <th>variable_22</th>\n",
       "      <th>variable_28</th>\n",
       "    </tr>\n",
       "  </thead>\n",
       "  <tbody>\n",
       "    <tr>\n",
       "      <th>0</th>\n",
       "      <td>8</td>\n",
       "      <td>12</td>\n",
       "      <td>2</td>\n",
       "      <td>92</td>\n",
       "      <td>910</td>\n",
       "      <td>0</td>\n",
       "    </tr>\n",
       "    <tr>\n",
       "      <th>1</th>\n",
       "      <td>4</td>\n",
       "      <td>3</td>\n",
       "      <td>2</td>\n",
       "      <td>123</td>\n",
       "      <td>679</td>\n",
       "      <td>0</td>\n",
       "    </tr>\n",
       "    <tr>\n",
       "      <th>2</th>\n",
       "      <td>8</td>\n",
       "      <td>23</td>\n",
       "      <td>1</td>\n",
       "      <td>23</td>\n",
       "      <td>728</td>\n",
       "      <td>0</td>\n",
       "    </tr>\n",
       "    <tr>\n",
       "      <th>3</th>\n",
       "      <td>8</td>\n",
       "      <td>23</td>\n",
       "      <td>2</td>\n",
       "      <td>23</td>\n",
       "      <td>1112</td>\n",
       "      <td>0</td>\n",
       "    </tr>\n",
       "    <tr>\n",
       "      <th>4</th>\n",
       "      <td>8</td>\n",
       "      <td>13</td>\n",
       "      <td>2</td>\n",
       "      <td>14</td>\n",
       "      <td>1467</td>\n",
       "      <td>0</td>\n",
       "    </tr>\n",
       "  </tbody>\n",
       "</table>\n",
       "</div>"
      ],
      "text/plain": [
       "   variable_1  variable_5  variable_20  variable_21  variable_22  variable_28\n",
       "0           8          12            2           92          910            0\n",
       "1           4           3            2          123          679            0\n",
       "2           8          23            1           23          728            0\n",
       "3           8          23            2           23         1112            0\n",
       "4           8          13            2           14         1467            0"
      ]
     },
     "execution_count": 116,
     "metadata": {},
     "output_type": "execute_result"
    }
   ],
   "source": [
    "from sklearn import preprocessing\n",
    "\n",
    "label_encoder = preprocessing.LabelEncoder()\n",
    "\n",
    "need_encoding_cols = refacted_df.select_dtypes(include='object').columns\n",
    "\n",
    "for col_name in need_encoding_cols:\n",
    "    # закидываем множество значений признака для операции энкодинга\n",
    "    label_encoder.fit(refacted_df[col_name].unique())   \n",
    "    refacted_df[col_name] = label_encoder.transform(refacted_df[col_name])\n",
    "\n",
    "refacted_df[need_encoding_cols].head()"
   ]
  },
  {
   "cell_type": "markdown",
   "metadata": {},
   "source": [
    "### 2 Уничтожаем NaN"
   ]
  },
  {
   "cell_type": "code",
   "execution_count": 117,
   "metadata": {},
   "outputs": [
    {
     "data": {
      "text/plain": [
       "variable_6        111\n",
       "variable_7      95639\n",
       "variable_8      29899\n",
       "variable_9     134436\n",
       "variable_12      1528\n",
       "variable_13      1657\n",
       "variable_14      2927\n",
       "variable_15    151393\n",
       "variable_16        12\n",
       "variable_17        12\n",
       "variable_18        12\n",
       "variable_20         1\n",
       "variable_24      2207\n",
       "variable_27      2067\n",
       "dtype: int64"
      ]
     },
     "execution_count": 117,
     "metadata": {},
     "output_type": "execute_result"
    }
   ],
   "source": [
    "keys_with_nan = init_df.isna().sum()    \n",
    "keys_with_nan = keys_with_nan[keys_with_nan !=0]\n",
    "keys_with_nan\n"
   ]
  },
  {
   "cell_type": "markdown",
   "metadata": {},
   "source": [
    "variable_9 и variable_15 не несут полезной информации, тк как Nan в них > 90% от датасета!"
   ]
  },
  {
   "cell_type": "code",
   "execution_count": 118,
   "metadata": {},
   "outputs": [
    {
     "data": {
      "text/html": [
       "<div>\n",
       "<style scoped>\n",
       "    .dataframe tbody tr th:only-of-type {\n",
       "        vertical-align: middle;\n",
       "    }\n",
       "\n",
       "    .dataframe tbody tr th {\n",
       "        vertical-align: top;\n",
       "    }\n",
       "\n",
       "    .dataframe thead th {\n",
       "        text-align: right;\n",
       "    }\n",
       "</style>\n",
       "<table border=\"1\" class=\"dataframe\">\n",
       "  <thead>\n",
       "    <tr style=\"text-align: right;\">\n",
       "      <th></th>\n",
       "      <th>variable_1</th>\n",
       "      <th>variable_2</th>\n",
       "      <th>variable_3</th>\n",
       "      <th>variable_4</th>\n",
       "      <th>variable_5</th>\n",
       "      <th>variable_6</th>\n",
       "      <th>variable_7</th>\n",
       "      <th>variable_8</th>\n",
       "      <th>variable_10</th>\n",
       "      <th>variable_11</th>\n",
       "      <th>...</th>\n",
       "      <th>variable_20</th>\n",
       "      <th>variable_21</th>\n",
       "      <th>variable_22</th>\n",
       "      <th>variable_23</th>\n",
       "      <th>variable_24</th>\n",
       "      <th>variable_25</th>\n",
       "      <th>variable_26</th>\n",
       "      <th>variable_27</th>\n",
       "      <th>variable_28</th>\n",
       "      <th>target</th>\n",
       "    </tr>\n",
       "  </thead>\n",
       "  <tbody>\n",
       "    <tr>\n",
       "      <th>0</th>\n",
       "      <td>8</td>\n",
       "      <td>0</td>\n",
       "      <td>0</td>\n",
       "      <td>14</td>\n",
       "      <td>12</td>\n",
       "      <td>98.0</td>\n",
       "      <td>NaN</td>\n",
       "      <td>0.0</td>\n",
       "      <td>0</td>\n",
       "      <td>0</td>\n",
       "      <td>...</td>\n",
       "      <td>2</td>\n",
       "      <td>92</td>\n",
       "      <td>910</td>\n",
       "      <td>0</td>\n",
       "      <td>0.0</td>\n",
       "      <td>0</td>\n",
       "      <td>1</td>\n",
       "      <td>19.323463</td>\n",
       "      <td>0</td>\n",
       "      <td>0</td>\n",
       "    </tr>\n",
       "    <tr>\n",
       "      <th>1</th>\n",
       "      <td>4</td>\n",
       "      <td>0</td>\n",
       "      <td>0</td>\n",
       "      <td>7</td>\n",
       "      <td>3</td>\n",
       "      <td>106.0</td>\n",
       "      <td>NaN</td>\n",
       "      <td>0.0</td>\n",
       "      <td>0</td>\n",
       "      <td>0</td>\n",
       "      <td>...</td>\n",
       "      <td>2</td>\n",
       "      <td>123</td>\n",
       "      <td>679</td>\n",
       "      <td>0</td>\n",
       "      <td>1.0</td>\n",
       "      <td>0</td>\n",
       "      <td>1</td>\n",
       "      <td>41.177900</td>\n",
       "      <td>0</td>\n",
       "      <td>0</td>\n",
       "    </tr>\n",
       "    <tr>\n",
       "      <th>2</th>\n",
       "      <td>8</td>\n",
       "      <td>0</td>\n",
       "      <td>0</td>\n",
       "      <td>4</td>\n",
       "      <td>23</td>\n",
       "      <td>123.0</td>\n",
       "      <td>NaN</td>\n",
       "      <td>0.0</td>\n",
       "      <td>0</td>\n",
       "      <td>0</td>\n",
       "      <td>...</td>\n",
       "      <td>1</td>\n",
       "      <td>23</td>\n",
       "      <td>728</td>\n",
       "      <td>0</td>\n",
       "      <td>0.0</td>\n",
       "      <td>0</td>\n",
       "      <td>1</td>\n",
       "      <td>3.614395</td>\n",
       "      <td>0</td>\n",
       "      <td>0</td>\n",
       "    </tr>\n",
       "    <tr>\n",
       "      <th>3</th>\n",
       "      <td>8</td>\n",
       "      <td>0</td>\n",
       "      <td>0</td>\n",
       "      <td>9</td>\n",
       "      <td>23</td>\n",
       "      <td>102.0</td>\n",
       "      <td>NaN</td>\n",
       "      <td>0.0</td>\n",
       "      <td>0</td>\n",
       "      <td>0</td>\n",
       "      <td>...</td>\n",
       "      <td>2</td>\n",
       "      <td>23</td>\n",
       "      <td>1112</td>\n",
       "      <td>0</td>\n",
       "      <td>1.0</td>\n",
       "      <td>0</td>\n",
       "      <td>0</td>\n",
       "      <td>49.041674</td>\n",
       "      <td>0</td>\n",
       "      <td>0</td>\n",
       "    </tr>\n",
       "    <tr>\n",
       "      <th>4</th>\n",
       "      <td>8</td>\n",
       "      <td>0</td>\n",
       "      <td>0</td>\n",
       "      <td>18</td>\n",
       "      <td>13</td>\n",
       "      <td>117.0</td>\n",
       "      <td>NaN</td>\n",
       "      <td>0.0</td>\n",
       "      <td>0</td>\n",
       "      <td>0</td>\n",
       "      <td>...</td>\n",
       "      <td>2</td>\n",
       "      <td>14</td>\n",
       "      <td>1467</td>\n",
       "      <td>0</td>\n",
       "      <td>1.0</td>\n",
       "      <td>0</td>\n",
       "      <td>0</td>\n",
       "      <td>17.909612</td>\n",
       "      <td>0</td>\n",
       "      <td>0</td>\n",
       "    </tr>\n",
       "  </tbody>\n",
       "</table>\n",
       "<p>5 rows × 27 columns</p>\n",
       "</div>"
      ],
      "text/plain": [
       "   variable_1  variable_2  variable_3  variable_4  variable_5  variable_6  \\\n",
       "0           8           0           0          14          12        98.0   \n",
       "1           4           0           0           7           3       106.0   \n",
       "2           8           0           0           4          23       123.0   \n",
       "3           8           0           0           9          23       102.0   \n",
       "4           8           0           0          18          13       117.0   \n",
       "\n",
       "   variable_7  variable_8  variable_10  variable_11  ...  variable_20  \\\n",
       "0         NaN         0.0            0            0  ...            2   \n",
       "1         NaN         0.0            0            0  ...            2   \n",
       "2         NaN         0.0            0            0  ...            1   \n",
       "3         NaN         0.0            0            0  ...            2   \n",
       "4         NaN         0.0            0            0  ...            2   \n",
       "\n",
       "   variable_21  variable_22  variable_23  variable_24  variable_25  \\\n",
       "0           92          910            0          0.0            0   \n",
       "1          123          679            0          1.0            0   \n",
       "2           23          728            0          0.0            0   \n",
       "3           23         1112            0          1.0            0   \n",
       "4           14         1467            0          1.0            0   \n",
       "\n",
       "   variable_26  variable_27  variable_28  target  \n",
       "0            1    19.323463            0       0  \n",
       "1            1    41.177900            0       0  \n",
       "2            1     3.614395            0       0  \n",
       "3            0    49.041674            0       0  \n",
       "4            0    17.909612            0       0  \n",
       "\n",
       "[5 rows x 27 columns]"
      ]
     },
     "execution_count": 118,
     "metadata": {},
     "output_type": "execute_result"
    }
   ],
   "source": [
    "refacted_df = refacted_df.drop(['variable_9', 'variable_15'], axis=1)\n",
    "keys_with_nan = keys_with_nan.drop(labels=['variable_9', 'variable_15'])\n",
    "refacted_df.head()"
   ]
  },
  {
   "cell_type": "code",
   "execution_count": 119,
   "metadata": {},
   "outputs": [
    {
     "data": {
      "text/plain": [
       "variable_6       111\n",
       "variable_7     95639\n",
       "variable_8     29899\n",
       "variable_12     1528\n",
       "variable_13     1657\n",
       "variable_14     2927\n",
       "variable_16       12\n",
       "variable_17       12\n",
       "variable_18       12\n",
       "variable_24     2207\n",
       "variable_27     2067\n",
       "dtype: int64"
      ]
     },
     "execution_count": 119,
     "metadata": {},
     "output_type": "execute_result"
    }
   ],
   "source": [
    "keys_with_nan = refacted_df.isna().sum()    \n",
    "keys_with_nan = keys_with_nan[keys_with_nan !=0]\n",
    "keys_with_nan"
   ]
  },
  {
   "cell_type": "code",
   "execution_count": 120,
   "metadata": {},
   "outputs": [
    {
     "data": {
      "text/html": [
       "<div>\n",
       "<style scoped>\n",
       "    .dataframe tbody tr th:only-of-type {\n",
       "        vertical-align: middle;\n",
       "    }\n",
       "\n",
       "    .dataframe tbody tr th {\n",
       "        vertical-align: top;\n",
       "    }\n",
       "\n",
       "    .dataframe thead th {\n",
       "        text-align: right;\n",
       "    }\n",
       "</style>\n",
       "<table border=\"1\" class=\"dataframe\">\n",
       "  <thead>\n",
       "    <tr style=\"text-align: right;\">\n",
       "      <th></th>\n",
       "      <th>variable_1</th>\n",
       "      <th>variable_2</th>\n",
       "      <th>variable_3</th>\n",
       "      <th>variable_4</th>\n",
       "      <th>variable_5</th>\n",
       "      <th>variable_6</th>\n",
       "      <th>variable_7</th>\n",
       "      <th>variable_8</th>\n",
       "      <th>variable_10</th>\n",
       "      <th>variable_11</th>\n",
       "      <th>...</th>\n",
       "      <th>variable_20</th>\n",
       "      <th>variable_21</th>\n",
       "      <th>variable_22</th>\n",
       "      <th>variable_23</th>\n",
       "      <th>variable_24</th>\n",
       "      <th>variable_25</th>\n",
       "      <th>variable_26</th>\n",
       "      <th>variable_27</th>\n",
       "      <th>variable_28</th>\n",
       "      <th>target</th>\n",
       "    </tr>\n",
       "  </thead>\n",
       "  <tbody>\n",
       "    <tr>\n",
       "      <th>0</th>\n",
       "      <td>8</td>\n",
       "      <td>0</td>\n",
       "      <td>0</td>\n",
       "      <td>14</td>\n",
       "      <td>12</td>\n",
       "      <td>98.0</td>\n",
       "      <td>NaN</td>\n",
       "      <td>0.0</td>\n",
       "      <td>0</td>\n",
       "      <td>0</td>\n",
       "      <td>...</td>\n",
       "      <td>2</td>\n",
       "      <td>92</td>\n",
       "      <td>910</td>\n",
       "      <td>0</td>\n",
       "      <td>0.0</td>\n",
       "      <td>0</td>\n",
       "      <td>1</td>\n",
       "      <td>19.323463</td>\n",
       "      <td>0</td>\n",
       "      <td>0</td>\n",
       "    </tr>\n",
       "    <tr>\n",
       "      <th>1</th>\n",
       "      <td>4</td>\n",
       "      <td>0</td>\n",
       "      <td>0</td>\n",
       "      <td>7</td>\n",
       "      <td>3</td>\n",
       "      <td>106.0</td>\n",
       "      <td>NaN</td>\n",
       "      <td>0.0</td>\n",
       "      <td>0</td>\n",
       "      <td>0</td>\n",
       "      <td>...</td>\n",
       "      <td>2</td>\n",
       "      <td>123</td>\n",
       "      <td>679</td>\n",
       "      <td>0</td>\n",
       "      <td>1.0</td>\n",
       "      <td>0</td>\n",
       "      <td>1</td>\n",
       "      <td>41.177900</td>\n",
       "      <td>0</td>\n",
       "      <td>0</td>\n",
       "    </tr>\n",
       "    <tr>\n",
       "      <th>2</th>\n",
       "      <td>8</td>\n",
       "      <td>0</td>\n",
       "      <td>0</td>\n",
       "      <td>4</td>\n",
       "      <td>23</td>\n",
       "      <td>123.0</td>\n",
       "      <td>NaN</td>\n",
       "      <td>0.0</td>\n",
       "      <td>0</td>\n",
       "      <td>0</td>\n",
       "      <td>...</td>\n",
       "      <td>1</td>\n",
       "      <td>23</td>\n",
       "      <td>728</td>\n",
       "      <td>0</td>\n",
       "      <td>0.0</td>\n",
       "      <td>0</td>\n",
       "      <td>1</td>\n",
       "      <td>3.614395</td>\n",
       "      <td>0</td>\n",
       "      <td>0</td>\n",
       "    </tr>\n",
       "    <tr>\n",
       "      <th>3</th>\n",
       "      <td>8</td>\n",
       "      <td>0</td>\n",
       "      <td>0</td>\n",
       "      <td>9</td>\n",
       "      <td>23</td>\n",
       "      <td>102.0</td>\n",
       "      <td>NaN</td>\n",
       "      <td>0.0</td>\n",
       "      <td>0</td>\n",
       "      <td>0</td>\n",
       "      <td>...</td>\n",
       "      <td>2</td>\n",
       "      <td>23</td>\n",
       "      <td>1112</td>\n",
       "      <td>0</td>\n",
       "      <td>1.0</td>\n",
       "      <td>0</td>\n",
       "      <td>0</td>\n",
       "      <td>49.041674</td>\n",
       "      <td>0</td>\n",
       "      <td>0</td>\n",
       "    </tr>\n",
       "    <tr>\n",
       "      <th>4</th>\n",
       "      <td>8</td>\n",
       "      <td>0</td>\n",
       "      <td>0</td>\n",
       "      <td>18</td>\n",
       "      <td>13</td>\n",
       "      <td>117.0</td>\n",
       "      <td>NaN</td>\n",
       "      <td>0.0</td>\n",
       "      <td>0</td>\n",
       "      <td>0</td>\n",
       "      <td>...</td>\n",
       "      <td>2</td>\n",
       "      <td>14</td>\n",
       "      <td>1467</td>\n",
       "      <td>0</td>\n",
       "      <td>1.0</td>\n",
       "      <td>0</td>\n",
       "      <td>0</td>\n",
       "      <td>17.909612</td>\n",
       "      <td>0</td>\n",
       "      <td>0</td>\n",
       "    </tr>\n",
       "  </tbody>\n",
       "</table>\n",
       "<p>5 rows × 27 columns</p>\n",
       "</div>"
      ],
      "text/plain": [
       "   variable_1  variable_2  variable_3  variable_4  variable_5  variable_6  \\\n",
       "0           8           0           0          14          12        98.0   \n",
       "1           4           0           0           7           3       106.0   \n",
       "2           8           0           0           4          23       123.0   \n",
       "3           8           0           0           9          23       102.0   \n",
       "4           8           0           0          18          13       117.0   \n",
       "\n",
       "   variable_7  variable_8  variable_10  variable_11  ...  variable_20  \\\n",
       "0         NaN         0.0            0            0  ...            2   \n",
       "1         NaN         0.0            0            0  ...            2   \n",
       "2         NaN         0.0            0            0  ...            1   \n",
       "3         NaN         0.0            0            0  ...            2   \n",
       "4         NaN         0.0            0            0  ...            2   \n",
       "\n",
       "   variable_21  variable_22  variable_23  variable_24  variable_25  \\\n",
       "0           92          910            0          0.0            0   \n",
       "1          123          679            0          1.0            0   \n",
       "2           23          728            0          0.0            0   \n",
       "3           23         1112            0          1.0            0   \n",
       "4           14         1467            0          1.0            0   \n",
       "\n",
       "   variable_26  variable_27  variable_28  target  \n",
       "0            1    19.323463            0       0  \n",
       "1            1    41.177900            0       0  \n",
       "2            1     3.614395            0       0  \n",
       "3            0    49.041674            0       0  \n",
       "4            0    17.909612            0       0  \n",
       "\n",
       "[5 rows x 27 columns]"
      ]
     },
     "execution_count": 120,
     "metadata": {},
     "output_type": "execute_result"
    }
   ],
   "source": [
    "refacted_df.head()"
   ]
  },
  {
   "cell_type": "markdown",
   "metadata": {},
   "source": [
    "Заполняем Nan средними занчениями"
   ]
  },
  {
   "cell_type": "code",
   "execution_count": 121,
   "metadata": {},
   "outputs": [
    {
     "data": {
      "text/html": [
       "<div>\n",
       "<style scoped>\n",
       "    .dataframe tbody tr th:only-of-type {\n",
       "        vertical-align: middle;\n",
       "    }\n",
       "\n",
       "    .dataframe tbody tr th {\n",
       "        vertical-align: top;\n",
       "    }\n",
       "\n",
       "    .dataframe thead th {\n",
       "        text-align: right;\n",
       "    }\n",
       "</style>\n",
       "<table border=\"1\" class=\"dataframe\">\n",
       "  <thead>\n",
       "    <tr style=\"text-align: right;\">\n",
       "      <th></th>\n",
       "      <th>variable_1</th>\n",
       "      <th>variable_2</th>\n",
       "      <th>variable_3</th>\n",
       "      <th>variable_4</th>\n",
       "      <th>variable_5</th>\n",
       "      <th>variable_6</th>\n",
       "      <th>variable_7</th>\n",
       "      <th>variable_8</th>\n",
       "      <th>variable_10</th>\n",
       "      <th>variable_11</th>\n",
       "      <th>...</th>\n",
       "      <th>variable_20</th>\n",
       "      <th>variable_21</th>\n",
       "      <th>variable_22</th>\n",
       "      <th>variable_23</th>\n",
       "      <th>variable_24</th>\n",
       "      <th>variable_25</th>\n",
       "      <th>variable_26</th>\n",
       "      <th>variable_27</th>\n",
       "      <th>variable_28</th>\n",
       "      <th>target</th>\n",
       "    </tr>\n",
       "  </thead>\n",
       "  <tbody>\n",
       "    <tr>\n",
       "      <th>0</th>\n",
       "      <td>8</td>\n",
       "      <td>0</td>\n",
       "      <td>0</td>\n",
       "      <td>14</td>\n",
       "      <td>12</td>\n",
       "      <td>98.0</td>\n",
       "      <td>1865.909732</td>\n",
       "      <td>0.0</td>\n",
       "      <td>0</td>\n",
       "      <td>0</td>\n",
       "      <td>...</td>\n",
       "      <td>2</td>\n",
       "      <td>92</td>\n",
       "      <td>910</td>\n",
       "      <td>0</td>\n",
       "      <td>0.0</td>\n",
       "      <td>0</td>\n",
       "      <td>1</td>\n",
       "      <td>19.323463</td>\n",
       "      <td>0</td>\n",
       "      <td>0</td>\n",
       "    </tr>\n",
       "    <tr>\n",
       "      <th>1</th>\n",
       "      <td>4</td>\n",
       "      <td>0</td>\n",
       "      <td>0</td>\n",
       "      <td>7</td>\n",
       "      <td>3</td>\n",
       "      <td>106.0</td>\n",
       "      <td>1865.909732</td>\n",
       "      <td>0.0</td>\n",
       "      <td>0</td>\n",
       "      <td>0</td>\n",
       "      <td>...</td>\n",
       "      <td>2</td>\n",
       "      <td>123</td>\n",
       "      <td>679</td>\n",
       "      <td>0</td>\n",
       "      <td>1.0</td>\n",
       "      <td>0</td>\n",
       "      <td>1</td>\n",
       "      <td>41.177900</td>\n",
       "      <td>0</td>\n",
       "      <td>0</td>\n",
       "    </tr>\n",
       "    <tr>\n",
       "      <th>2</th>\n",
       "      <td>8</td>\n",
       "      <td>0</td>\n",
       "      <td>0</td>\n",
       "      <td>4</td>\n",
       "      <td>23</td>\n",
       "      <td>123.0</td>\n",
       "      <td>1865.909732</td>\n",
       "      <td>0.0</td>\n",
       "      <td>0</td>\n",
       "      <td>0</td>\n",
       "      <td>...</td>\n",
       "      <td>1</td>\n",
       "      <td>23</td>\n",
       "      <td>728</td>\n",
       "      <td>0</td>\n",
       "      <td>0.0</td>\n",
       "      <td>0</td>\n",
       "      <td>1</td>\n",
       "      <td>3.614395</td>\n",
       "      <td>0</td>\n",
       "      <td>0</td>\n",
       "    </tr>\n",
       "    <tr>\n",
       "      <th>3</th>\n",
       "      <td>8</td>\n",
       "      <td>0</td>\n",
       "      <td>0</td>\n",
       "      <td>9</td>\n",
       "      <td>23</td>\n",
       "      <td>102.0</td>\n",
       "      <td>1865.909732</td>\n",
       "      <td>0.0</td>\n",
       "      <td>0</td>\n",
       "      <td>0</td>\n",
       "      <td>...</td>\n",
       "      <td>2</td>\n",
       "      <td>23</td>\n",
       "      <td>1112</td>\n",
       "      <td>0</td>\n",
       "      <td>1.0</td>\n",
       "      <td>0</td>\n",
       "      <td>0</td>\n",
       "      <td>49.041674</td>\n",
       "      <td>0</td>\n",
       "      <td>0</td>\n",
       "    </tr>\n",
       "    <tr>\n",
       "      <th>4</th>\n",
       "      <td>8</td>\n",
       "      <td>0</td>\n",
       "      <td>0</td>\n",
       "      <td>18</td>\n",
       "      <td>13</td>\n",
       "      <td>117.0</td>\n",
       "      <td>1865.909732</td>\n",
       "      <td>0.0</td>\n",
       "      <td>0</td>\n",
       "      <td>0</td>\n",
       "      <td>...</td>\n",
       "      <td>2</td>\n",
       "      <td>14</td>\n",
       "      <td>1467</td>\n",
       "      <td>0</td>\n",
       "      <td>1.0</td>\n",
       "      <td>0</td>\n",
       "      <td>0</td>\n",
       "      <td>17.909612</td>\n",
       "      <td>0</td>\n",
       "      <td>0</td>\n",
       "    </tr>\n",
       "  </tbody>\n",
       "</table>\n",
       "<p>5 rows × 27 columns</p>\n",
       "</div>"
      ],
      "text/plain": [
       "   variable_1  variable_2  variable_3  variable_4  variable_5  variable_6  \\\n",
       "0           8           0           0          14          12        98.0   \n",
       "1           4           0           0           7           3       106.0   \n",
       "2           8           0           0           4          23       123.0   \n",
       "3           8           0           0           9          23       102.0   \n",
       "4           8           0           0          18          13       117.0   \n",
       "\n",
       "    variable_7  variable_8  variable_10  variable_11  ...  variable_20  \\\n",
       "0  1865.909732         0.0            0            0  ...            2   \n",
       "1  1865.909732         0.0            0            0  ...            2   \n",
       "2  1865.909732         0.0            0            0  ...            1   \n",
       "3  1865.909732         0.0            0            0  ...            2   \n",
       "4  1865.909732         0.0            0            0  ...            2   \n",
       "\n",
       "   variable_21  variable_22  variable_23  variable_24  variable_25  \\\n",
       "0           92          910            0          0.0            0   \n",
       "1          123          679            0          1.0            0   \n",
       "2           23          728            0          0.0            0   \n",
       "3           23         1112            0          1.0            0   \n",
       "4           14         1467            0          1.0            0   \n",
       "\n",
       "   variable_26  variable_27  variable_28  target  \n",
       "0            1    19.323463            0       0  \n",
       "1            1    41.177900            0       0  \n",
       "2            1     3.614395            0       0  \n",
       "3            0    49.041674            0       0  \n",
       "4            0    17.909612            0       0  \n",
       "\n",
       "[5 rows x 27 columns]"
      ]
     },
     "execution_count": 121,
     "metadata": {},
     "output_type": "execute_result"
    }
   ],
   "source": [
    "\n",
    "imputer = SimpleImputer(missing_values=np.nan, strategy='mean')\n",
    "imputer = imputer.fit(refacted_df[keys_with_nan.index])\n",
    "\n",
    "refacted_df[keys_with_nan.index] = imputer.transform(refacted_df[keys_with_nan.index])\n",
    "refacted_df.head()"
   ]
  },
  {
   "cell_type": "markdown",
   "metadata": {},
   "source": [
    "Проверка: остались ли ещё NaN"
   ]
  },
  {
   "cell_type": "code",
   "execution_count": 122,
   "metadata": {},
   "outputs": [
    {
     "data": {
      "text/plain": [
       "Series([], dtype: int64)"
      ]
     },
     "execution_count": 122,
     "metadata": {},
     "output_type": "execute_result"
    }
   ],
   "source": [
    "keys_with_nan = refacted_df.isna().sum()\n",
    "keys_with_nan = keys_with_nan[keys_with_nan !=0]\n",
    "keys_with_nan"
   ]
  },
  {
   "cell_type": "markdown",
   "metadata": {},
   "source": [
    "### 3 Проверим есть ли признаки, с константными значениями"
   ]
  },
  {
   "cell_type": "code",
   "execution_count": 123,
   "metadata": {},
   "outputs": [
    {
     "data": {
      "text/plain": [
       "variable_1     False\n",
       "variable_2     False\n",
       "variable_3      True\n",
       "variable_4     False\n",
       "variable_5     False\n",
       "variable_6     False\n",
       "variable_7     False\n",
       "variable_8     False\n",
       "variable_10    False\n",
       "variable_11    False\n",
       "variable_12    False\n",
       "variable_13    False\n",
       "variable_14    False\n",
       "variable_16    False\n",
       "variable_17    False\n",
       "variable_18    False\n",
       "variable_19    False\n",
       "variable_20    False\n",
       "variable_21    False\n",
       "variable_22    False\n",
       "variable_23    False\n",
       "variable_24    False\n",
       "variable_25    False\n",
       "variable_26    False\n",
       "variable_27    False\n",
       "variable_28    False\n",
       "target         False\n",
       "dtype: bool"
      ]
     },
     "execution_count": 123,
     "metadata": {},
     "output_type": "execute_result"
    }
   ],
   "source": [
    "# сравниеваем каждое значение факторного признака с первым значением\n",
    "(refacted_df.iloc[0] == refacted_df).all()"
   ]
  },
  {
   "cell_type": "markdown",
   "metadata": {},
   "source": [
    "Шпион обнаружен - удаляем"
   ]
  },
  {
   "cell_type": "code",
   "execution_count": 124,
   "metadata": {},
   "outputs": [],
   "source": [
    "refacted_df = refacted_df.drop(['variable_3'], axis=1)"
   ]
  },
  {
   "cell_type": "markdown",
   "metadata": {},
   "source": [
    "### 3 Нормируем факторные признаки"
   ]
  },
  {
   "cell_type": "code",
   "execution_count": 125,
   "metadata": {},
   "outputs": [],
   "source": [
    "def mean_from_df(df: pd.DataFrame) -> float:\n",
    "    \"\"\"Можно пихать срезы.\"\"\"\n",
    "    means = df.mean()\n",
    "    return sum(means) / len(means)\n",
    "\n",
    "def norm_by_target(target_mean: float, not_normed_1d_arr: pd.Series):\n",
    "    not_normed_mean = not_normed_1d_arr.mean()\n",
    "    norm_coef = target_mean / not_normed_mean\n",
    "    return not_normed_1d_arr * norm_coef"
   ]
  },
  {
   "cell_type": "markdown",
   "metadata": {},
   "source": [
    "Создадим целевое срднее значение и список факторов для нормирования"
   ]
  },
  {
   "cell_type": "code",
   "execution_count": 126,
   "metadata": {},
   "outputs": [
    {
     "name": "stderr",
     "output_type": "stream",
     "text": [
      "ic| refacted_df[for_mean_cols].sum(): variable_2     2581\n",
      "                                      variable_10    2629\n",
      "                                      variable_11    2958\n",
      "                                      variable_28    2675\n",
      "                                      dtype: int64\n"
     ]
    },
    {
     "data": {
      "text/plain": [
       "variable_1      2710.75\n",
       "variable_2      2581.00\n",
       "variable_4      2710.75\n",
       "variable_5      2710.75\n",
       "variable_6      2710.75\n",
       "variable_7      2710.75\n",
       "variable_8      2710.75\n",
       "variable_10     2629.00\n",
       "variable_11     2958.00\n",
       "variable_12     2710.75\n",
       "variable_13     2710.75\n",
       "variable_14     2710.75\n",
       "variable_16     2710.75\n",
       "variable_17     2710.75\n",
       "variable_18     2710.75\n",
       "variable_19     2710.75\n",
       "variable_20     2710.75\n",
       "variable_21     2710.75\n",
       "variable_22     2710.75\n",
       "variable_23     2710.75\n",
       "variable_24     2710.75\n",
       "variable_25     2710.75\n",
       "variable_26     2710.75\n",
       "variable_27     2710.75\n",
       "variable_28     2675.00\n",
       "target         14459.00\n",
       "dtype: float64"
      ]
     },
     "execution_count": 126,
     "metadata": {},
     "output_type": "execute_result"
    }
   ],
   "source": [
    "for_mean_cols = ['variable_2', 'variable_10', 'variable_11', 'variable_28']\n",
    "ic(refacted_df[for_mean_cols].sum())\n",
    "target_mean = mean_from_df(refacted_df[for_mean_cols])\n",
    "\n",
    "all_factors_set =set(list(refacted_df.columns))\n",
    "mean_factors_set = set(for_mean_cols)\n",
    "\n",
    "need_to_norm_factors = all_factors_set - mean_factors_set\n",
    "need_to_norm_factors.remove('target')\n",
    "\n",
    "for factor in  need_to_norm_factors:\n",
    "    refacted_df[factor] = norm_by_target(target_mean=target_mean, not_normed_1d_arr=refacted_df[factor])\n",
    "refacted_df.sum()"
   ]
  },
  {
   "cell_type": "markdown",
   "metadata": {},
   "source": [
    "# Проверка сбалансированности датасета"
   ]
  },
  {
   "cell_type": "code",
   "execution_count": 127,
   "metadata": {},
   "outputs": [
    {
     "data": {
      "text/plain": [
       "<BarContainer object of 2 artists>"
      ]
     },
     "execution_count": 127,
     "metadata": {},
     "output_type": "execute_result"
    },
    {
     "data": {
      "image/png": "[encoded data removed]",
      "text/plain": [
       "<Figure size 640x480 with 1 Axes>"
      ]
     },
     "metadata": {},
     "output_type": "display_data"
    }
   ],
   "source": [
    "null_class_objs_count = (refacted_df['target'] == 0).sum()\n",
    "first_class_objs_count = (refacted_df['target'] == 1).sum()\n",
    "plt.figure()\n",
    "plt.bar(['0', '1'], [null_class_objs_count, first_class_objs_count])\n",
    "\n"
   ]
  },
  {
   "cell_type": "markdown",
   "metadata": {},
   "source": [
    "# Балансируем датасет"
   ]
  },
  {
   "cell_type": "code",
   "execution_count": 128,
   "metadata": {},
   "outputs": [
    {
     "name": "stderr",
     "output_type": "stream",
     "text": [
      "ic| zero_target_df_part.shape: (14459, 26)\n",
      "ic| (zero_target_df_part['target'] == 0).sum(): 14459\n",
      "ic| first_class_objs_count: 14459\n"
     ]
    },
    {
     "data": {
      "text/plain": [
       "14459"
      ]
     },
     "execution_count": 128,
     "metadata": {},
     "output_type": "execute_result"
    }
   ],
   "source": [
    "zero_target_df_part = refacted_df[refacted_df['target'] == 0].sample(n=first_class_objs_count, random_state=1)\n",
    "# проверка \n",
    "ic(zero_target_df_part.shape)\n",
    "ic((zero_target_df_part['target'] == 0).sum())\n",
    "ic(first_class_objs_count)"
   ]
  },
  {
   "cell_type": "markdown",
   "metadata": {},
   "source": [
    "Теперь супер важный момент - до этого я склеивал first_target_df_part c zero_target_df_part, но по хорошему их нужно премешивать! Иначе обучение будт происходит с избыточной законеомерностью - сначала идут пецики с 0-классом, а потом 1-классом "
   ]
  },
  {
   "cell_type": "code",
   "execution_count": 129,
   "metadata": {},
   "outputs": [
    {
     "data": {
      "text/html": [
       "<div>\n",
       "<style scoped>\n",
       "    .dataframe tbody tr th:only-of-type {\n",
       "        vertical-align: middle;\n",
       "    }\n",
       "\n",
       "    .dataframe tbody tr th {\n",
       "        vertical-align: top;\n",
       "    }\n",
       "\n",
       "    .dataframe thead th {\n",
       "        text-align: right;\n",
       "    }\n",
       "</style>\n",
       "<table border=\"1\" class=\"dataframe\">\n",
       "  <thead>\n",
       "    <tr style=\"text-align: right;\">\n",
       "      <th></th>\n",
       "      <th>variable_1</th>\n",
       "      <th>variable_2</th>\n",
       "      <th>variable_4</th>\n",
       "      <th>variable_5</th>\n",
       "      <th>variable_6</th>\n",
       "      <th>variable_7</th>\n",
       "      <th>variable_8</th>\n",
       "      <th>variable_10</th>\n",
       "      <th>variable_11</th>\n",
       "      <th>variable_12</th>\n",
       "      <th>...</th>\n",
       "      <th>variable_20</th>\n",
       "      <th>variable_21</th>\n",
       "      <th>variable_22</th>\n",
       "      <th>variable_23</th>\n",
       "      <th>variable_24</th>\n",
       "      <th>variable_25</th>\n",
       "      <th>variable_26</th>\n",
       "      <th>variable_27</th>\n",
       "      <th>variable_28</th>\n",
       "      <th>target</th>\n",
       "    </tr>\n",
       "  </thead>\n",
       "  <tbody>\n",
       "    <tr>\n",
       "      <th>18454</th>\n",
       "      <td>0.025491</td>\n",
       "      <td>0</td>\n",
       "      <td>0.036417</td>\n",
       "      <td>0.012802</td>\n",
       "      <td>0.021557</td>\n",
       "      <td>0.017904</td>\n",
       "      <td>0.0</td>\n",
       "      <td>0</td>\n",
       "      <td>0</td>\n",
       "      <td>0.037666</td>\n",
       "      <td>...</td>\n",
       "      <td>0.011508</td>\n",
       "      <td>0.025360</td>\n",
       "      <td>0.026575</td>\n",
       "      <td>0.000000</td>\n",
       "      <td>0.02429</td>\n",
       "      <td>0.0</td>\n",
       "      <td>0.020757</td>\n",
       "      <td>0.007422</td>\n",
       "      <td>0</td>\n",
       "      <td>1</td>\n",
       "    </tr>\n",
       "    <tr>\n",
       "      <th>120407</th>\n",
       "      <td>0.025491</td>\n",
       "      <td>0</td>\n",
       "      <td>0.030083</td>\n",
       "      <td>0.033073</td>\n",
       "      <td>0.010930</td>\n",
       "      <td>0.017904</td>\n",
       "      <td>0.0</td>\n",
       "      <td>0</td>\n",
       "      <td>0</td>\n",
       "      <td>0.031766</td>\n",
       "      <td>...</td>\n",
       "      <td>0.023016</td>\n",
       "      <td>0.029651</td>\n",
       "      <td>0.015596</td>\n",
       "      <td>0.088734</td>\n",
       "      <td>0.02429</td>\n",
       "      <td>0.0</td>\n",
       "      <td>0.020757</td>\n",
       "      <td>0.036596</td>\n",
       "      <td>0</td>\n",
       "      <td>0</td>\n",
       "    </tr>\n",
       "    <tr>\n",
       "      <th>56692</th>\n",
       "      <td>0.038237</td>\n",
       "      <td>0</td>\n",
       "      <td>0.017417</td>\n",
       "      <td>0.003201</td>\n",
       "      <td>0.019431</td>\n",
       "      <td>0.022558</td>\n",
       "      <td>0.0</td>\n",
       "      <td>0</td>\n",
       "      <td>0</td>\n",
       "      <td>0.018270</td>\n",
       "      <td>...</td>\n",
       "      <td>0.023016</td>\n",
       "      <td>0.021653</td>\n",
       "      <td>0.023703</td>\n",
       "      <td>0.000000</td>\n",
       "      <td>0.02429</td>\n",
       "      <td>0.0</td>\n",
       "      <td>0.020757</td>\n",
       "      <td>0.057952</td>\n",
       "      <td>0</td>\n",
       "      <td>0</td>\n",
       "    </tr>\n",
       "    <tr>\n",
       "      <th>10494</th>\n",
       "      <td>0.025491</td>\n",
       "      <td>0</td>\n",
       "      <td>0.036417</td>\n",
       "      <td>0.033073</td>\n",
       "      <td>0.004402</td>\n",
       "      <td>0.017904</td>\n",
       "      <td>0.0</td>\n",
       "      <td>0</td>\n",
       "      <td>0</td>\n",
       "      <td>0.037794</td>\n",
       "      <td>...</td>\n",
       "      <td>0.023016</td>\n",
       "      <td>0.029651</td>\n",
       "      <td>0.016833</td>\n",
       "      <td>0.088734</td>\n",
       "      <td>0.02429</td>\n",
       "      <td>0.0</td>\n",
       "      <td>0.020757</td>\n",
       "      <td>0.012391</td>\n",
       "      <td>0</td>\n",
       "      <td>0</td>\n",
       "    </tr>\n",
       "    <tr>\n",
       "      <th>149600</th>\n",
       "      <td>0.012746</td>\n",
       "      <td>0</td>\n",
       "      <td>0.028500</td>\n",
       "      <td>0.033073</td>\n",
       "      <td>0.010778</td>\n",
       "      <td>0.017904</td>\n",
       "      <td>0.0</td>\n",
       "      <td>0</td>\n",
       "      <td>0</td>\n",
       "      <td>0.029477</td>\n",
       "      <td>...</td>\n",
       "      <td>0.023016</td>\n",
       "      <td>0.029651</td>\n",
       "      <td>0.022024</td>\n",
       "      <td>0.088734</td>\n",
       "      <td>0.02429</td>\n",
       "      <td>0.0</td>\n",
       "      <td>0.020757</td>\n",
       "      <td>0.030285</td>\n",
       "      <td>0</td>\n",
       "      <td>0</td>\n",
       "    </tr>\n",
       "  </tbody>\n",
       "</table>\n",
       "<p>5 rows × 26 columns</p>\n",
       "</div>"
      ],
      "text/plain": [
       "        variable_1  variable_2  variable_4  variable_5  variable_6  \\\n",
       "18454     0.025491           0    0.036417    0.012802    0.021557   \n",
       "120407    0.025491           0    0.030083    0.033073    0.010930   \n",
       "56692     0.038237           0    0.017417    0.003201    0.019431   \n",
       "10494     0.025491           0    0.036417    0.033073    0.004402   \n",
       "149600    0.012746           0    0.028500    0.033073    0.010778   \n",
       "\n",
       "        variable_7  variable_8  variable_10  variable_11  variable_12  ...  \\\n",
       "18454     0.017904         0.0            0            0     0.037666  ...   \n",
       "120407    0.017904         0.0            0            0     0.031766  ...   \n",
       "56692     0.022558         0.0            0            0     0.018270  ...   \n",
       "10494     0.017904         0.0            0            0     0.037794  ...   \n",
       "149600    0.017904         0.0            0            0     0.029477  ...   \n",
       "\n",
       "        variable_20  variable_21  variable_22  variable_23  variable_24  \\\n",
       "18454      0.011508     0.025360     0.026575     0.000000      0.02429   \n",
       "120407     0.023016     0.029651     0.015596     0.088734      0.02429   \n",
       "56692      0.023016     0.021653     0.023703     0.000000      0.02429   \n",
       "10494      0.023016     0.029651     0.016833     0.088734      0.02429   \n",
       "149600     0.023016     0.029651     0.022024     0.088734      0.02429   \n",
       "\n",
       "        variable_25  variable_26  variable_27  variable_28  target  \n",
       "18454           0.0     0.020757     0.007422            0       1  \n",
       "120407          0.0     0.020757     0.036596            0       0  \n",
       "56692           0.0     0.020757     0.057952            0       0  \n",
       "10494           0.0     0.020757     0.012391            0       0  \n",
       "149600          0.0     0.020757     0.030285            0       0  \n",
       "\n",
       "[5 rows x 26 columns]"
      ]
     },
     "execution_count": 129,
     "metadata": {},
     "output_type": "execute_result"
    }
   ],
   "source": [
    "first_target_df_part = refacted_df[refacted_df['target'] == 1]\n",
    "balanced_df = pd.concat((zero_target_df_part, first_target_df_part), axis=0)\n",
    "balanced_df = balanced_df.sample(n=2*zero_target_df_part.shape[0], random_state=1)\n",
    "balanced_df.head()"
   ]
  },
  {
   "cell_type": "markdown",
   "metadata": {},
   "source": [
    "Проверка"
   ]
  },
  {
   "cell_type": "code",
   "execution_count": 130,
   "metadata": {},
   "outputs": [
    {
     "data": {
      "text/plain": [
       "<BarContainer object of 2 artists>"
      ]
     },
     "execution_count": 130,
     "metadata": {},
     "output_type": "execute_result"
    },
    {
     "data": {
      "image/png": "[encoded data removed]",
      "text/plain": [
       "<Figure size 640x480 with 1 Axes>"
      ]
     },
     "metadata": {},
     "output_type": "display_data"
    }
   ],
   "source": [
    "null_class_objs_count = (balanced_df['target'] == 0).sum()\n",
    "first_class_objs_count = (balanced_df['target'] == 1).sum()\n",
    "plt.figure()\n",
    "plt.bar(['0', '1'], [null_class_objs_count, first_class_objs_count])"
   ]
  },
  {
   "cell_type": "code",
   "execution_count": 131,
   "metadata": {},
   "outputs": [],
   "source": [
    "balanced_df.to_csv('balanced_df.csv', index=False)"
   ]
  },
  {
   "cell_type": "markdown",
   "metadata": {},
   "source": [
    "# Разделяем датасет на learn и test части"
   ]
  },
  {
   "cell_type": "markdown",
   "metadata": {},
   "source": [
    "##### Замечания\n",
    "* Даже часть тестовых данных не должна вхолить в обучающую выборку => случайным семплированием я не обойдусь!\n",
    "* Так как датасет несбалансирован, а после балансировки будет иметь всего лишь 28918 примеров"
   ]
  },
  {
   "cell_type": "code",
   "execution_count": 132,
   "metadata": {},
   "outputs": [
    {
     "data": {
      "text/plain": [
       "6294"
      ]
     },
     "execution_count": 132,
     "metadata": {},
     "output_type": "execute_result"
    }
   ],
   "source": [
    "num_data_to_learn = balanced_df.shape[0] - TEST_DATA_NUM\n",
    "num_data_to_learn"
   ]
  },
  {
   "cell_type": "markdown",
   "metadata": {},
   "source": [
    "Получается всего лишь 6294 примеров для обучения модели! Возможно этого и достаточно, но это кажется очень малым относительно исходного датасета!"
   ]
  },
  {
   "cell_type": "code",
   "execution_count": 133,
   "metadata": {},
   "outputs": [],
   "source": [
    "learn_df = balanced_df.iloc[:num_data_to_learn]\n",
    "test_df = balanced_df.iloc[num_data_to_learn:]\n",
    "test_df.to_csv('insclass_test.csv', index=False)"
   ]
  },
  {
   "cell_type": "markdown",
   "metadata": {},
   "source": [
    "# Модель GD Logistic Regression"
   ]
  },
  {
   "cell_type": "code",
   "execution_count": 134,
   "metadata": {},
   "outputs": [],
   "source": [
    "class LogisticRegressionGD(object):\n",
    "    \n",
    "    def init(self, intercept = True): \n",
    "        self.intercept = intercept  # наличие свободного члена\n",
    "        self.a = None\n",
    "\n",
    "    def sigmoid(self, x):\n",
    "        return 1 / (1 + np.exp(-x @ self.a))\n",
    "    def predict(self, x):\n",
    "        return self.sigmoid(x)\n",
    "    \n",
    "    def predict_from_raw_data(self, x):\n",
    "        x.insert(0, 'ones_col', np.ones(x.shape[0]))\n",
    "        return self.predict(np.array(x))\n",
    "\n",
    "    def coefs(self):\n",
    "        return self.a\n",
    "    def LogLikelihood(self, x, Y):\n",
    "        predict = self.predict(x)\n",
    "        return -sum(Y * np.log2(predict) + (1 - Y) * np.log2(1 - predict)) / self.m\n",
    "    def CrossEntropy(self, x, Y):\n",
    "        return (-Y*np.log(self.predict(x)) - (1- Y)*np.log(1 - self.predict(x))).sum()\n",
    "\n",
    "    def accuracy(self, x, Y):\n",
    "        x = x.copy()\n",
    "        Y = Y.copy()\n",
    "        \n",
    "        x.insert(0, 'ones_col', np.ones(x.shape[0]))\n",
    "        predicts = self.predict(np.array(x))\n",
    "        binary_predicts = np.rint(predicts)\n",
    "        np_target = np.array(Y).reshape(x.shape[0], 1)\n",
    "\n",
    "        compare_target_predict = binary_predicts == np_target\n",
    "        num_right_answers = compare_target_predict.sum()\n",
    "\n",
    "        accuracy = num_right_answers / np_target.shape[0]\n",
    "        return accuracy\n",
    "    \n",
    "    def fit(self, x, Y, alpha = 0.001, epsylon = 0.01, max_steps = 2500, Rtype = \"LL\"):\n",
    "        \n",
    "        x = x.copy()\n",
    "        Y = Y.copy()\n",
    "        \n",
    "        x.insert(0, 'ones_col', np.ones(x.shape[0]))\n",
    "        self.a = np.zeros(x.shape[1]).reshape(x.shape[1], 1)\n",
    "        self.m = x.shape[0]\n",
    "        \n",
    "        x = np.array(x)\n",
    "        Y = np.array(Y)\n",
    "        Y = Y.reshape(Y.shape[0], 1)\n",
    "\n",
    "        steps, errors = [], []\n",
    "        step = 0\n",
    "        for _ in range(max_steps):\n",
    "            if Rtype == \"LL\":\n",
    "                new_error = self.LogLikelihood(x, Y)\n",
    "                dJ = x.T @ (self.predict(x) - Y) / self.m\n",
    "                self.a -= alpha*dJ\n",
    "            elif Rtype == \"CE\":\n",
    "                raise Exception('TODO')\n",
    "                # new_error = self.CrossEntropy(x, Y)\n",
    "                # #display(new_error)\n",
    "                # dT_a = -x.T @(Y - self.predict(x))\n",
    "                # self.a -= alpha*dT_a\n",
    "            step += 1\n",
    "            steps.append(step)\n",
    "            errors.append(new_error)\n",
    "            if abs(new_error) < epsylon or len(steps) > max_steps:  # лучше использовать норму антиградиента\n",
    "               break\n",
    "        return steps, errors"
   ]
  },
  {
   "cell_type": "markdown",
   "metadata": {},
   "source": [
    "# Обучение модели"
   ]
  },
  {
   "cell_type": "code",
   "execution_count": 135,
   "metadata": {},
   "outputs": [],
   "source": [
    "X = learn_df.drop(['target'], axis=1)\n",
    "Y = learn_df['target']\n",
    "\n",
    "log_classification = LogisticRegressionGD()\n",
    "steps, errors = log_classification.fit(X, Y,  alpha = 2, epsylon = 0.1, max_steps = 400, Rtype = \"LL\")"
   ]
  },
  {
   "cell_type": "code",
   "execution_count": 136,
   "metadata": {},
   "outputs": [
    {
     "data": {
      "text/plain": [
       "[<matplotlib.lines.Line2D at 0x25609c04250>]"
      ]
     },
     "execution_count": 136,
     "metadata": {},
     "output_type": "execute_result"
    },
    {
     "data": {
      "image/png": "[encoded data removed]",
      "text/plain": [
       "<Figure size 640x480 with 1 Axes>"
      ]
     },
     "metadata": {},
     "output_type": "display_data"
    }
   ],
   "source": [
    "plt.figure()\n",
    "plt.title('График ошибки')\n",
    "plt.xlabel('Итерации')\n",
    "plt.plot(steps, errors)"
   ]
  },
  {
   "cell_type": "code",
   "execution_count": 137,
   "metadata": {},
   "outputs": [
    {
     "data": {
      "text/plain": [
       "array([0.95033402])"
      ]
     },
     "execution_count": 137,
     "metadata": {},
     "output_type": "execute_result"
    }
   ],
   "source": [
    "errors[-1]"
   ]
  },
  {
   "cell_type": "markdown",
   "metadata": {},
   "source": [
    "# Тестируем обученную модель"
   ]
  },
  {
   "cell_type": "markdown",
   "metadata": {},
   "source": [
    "Сравниваем полученные результаты классификации с истинными значениями классов"
   ]
  },
  {
   "cell_type": "code",
   "execution_count": 138,
   "metadata": {},
   "outputs": [
    {
     "data": {
      "text/plain": [
       "0.5666106789250354"
      ]
     },
     "execution_count": 138,
     "metadata": {},
     "output_type": "execute_result"
    }
   ],
   "source": [
    "test_df = pd.read_csv('insclass_test.csv')\n",
    "test_x = test_df.drop(['target'], axis=1)\n",
    "log_classification.accuracy(x=test_x, Y=test_df['target'])\n"
   ]
  },
  {
   "cell_type": "markdown",
   "metadata": {},
   "source": [
    "f1 score"
   ]
  },
  {
   "cell_type": "code",
   "execution_count": 139,
   "metadata": {},
   "outputs": [
    {
     "data": {
      "text/plain": [
       "0.3087768769827282"
      ]
     },
     "execution_count": 139,
     "metadata": {},
     "output_type": "execute_result"
    }
   ],
   "source": [
    "y_preidct = log_classification.predict_from_raw_data(test_x)\n",
    "binary_predicts = np.rint(y_preidct)\n",
    "f1_score(y_true=test_df['target'], y_pred=binary_predicts)"
   ]
  },
  {
   "cell_type": "markdown",
   "metadata": {},
   "source": [
    "Протетсируем на данных сбалансированного датасета "
   ]
  },
  {
   "cell_type": "markdown",
   "metadata": {},
   "source": [
    "accuracy"
   ]
  },
  {
   "cell_type": "code",
   "execution_count": 140,
   "metadata": {},
   "outputs": [
    {
     "data": {
      "text/plain": [
       "0.5684779154750557"
      ]
     },
     "execution_count": 140,
     "metadata": {},
     "output_type": "execute_result"
    }
   ],
   "source": [
    "x = learn_df.drop(['target'], axis=1)\n",
    "log_classification.accuracy(x=x, Y=learn_df['target'])"
   ]
  },
  {
   "cell_type": "markdown",
   "metadata": {},
   "source": [
    "f1 score"
   ]
  },
  {
   "cell_type": "code",
   "execution_count": 141,
   "metadata": {},
   "outputs": [
    {
     "ename": "ValueError",
     "evalue": "Found input variables with inconsistent numbers of samples: [6294, 22624]",
     "output_type": "error",
     "traceback": [
      "\u001b[1;31m---------------------------------------------------------------------------\u001b[0m",
      "\u001b[1;31mValueError\u001b[0m                                Traceback (most recent call last)",
      "Cell \u001b[1;32mIn[141], line 3\u001b[0m\n\u001b[0;32m      1\u001b[0m y_preidct \u001b[38;5;241m=\u001b[39m log_classification\u001b[38;5;241m.\u001b[39mpredict(test_x)\n\u001b[0;32m      2\u001b[0m binary_predicts \u001b[38;5;241m=\u001b[39m np\u001b[38;5;241m.\u001b[39mrint(y_preidct)\n\u001b[1;32m----> 3\u001b[0m \u001b[43mf1_score\u001b[49m\u001b[43m(\u001b[49m\u001b[43my_true\u001b[49m\u001b[38;5;241;43m=\u001b[39;49m\u001b[43mlearn_df\u001b[49m\u001b[43m[\u001b[49m\u001b[38;5;124;43m'\u001b[39;49m\u001b[38;5;124;43mtarget\u001b[39;49m\u001b[38;5;124;43m'\u001b[39;49m\u001b[43m]\u001b[49m\u001b[43m,\u001b[49m\u001b[43m \u001b[49m\u001b[43my_pred\u001b[49m\u001b[38;5;241;43m=\u001b[39;49m\u001b[43mbinary_predicts\u001b[49m\u001b[43m)\u001b[49m\n",
      "File \u001b[1;32mc:\\Users\\Константин\\Documents\\GitHub\\AI\\.venv\\lib\\site-packages\\sklearn\\utils\\_param_validation.py:213\u001b[0m, in \u001b[0;36mvalidate_params.<locals>.decorator.<locals>.wrapper\u001b[1;34m(*args, **kwargs)\u001b[0m\n\u001b[0;32m    207\u001b[0m \u001b[38;5;28;01mtry\u001b[39;00m:\n\u001b[0;32m    208\u001b[0m     \u001b[38;5;28;01mwith\u001b[39;00m config_context(\n\u001b[0;32m    209\u001b[0m         skip_parameter_validation\u001b[38;5;241m=\u001b[39m(\n\u001b[0;32m    210\u001b[0m             prefer_skip_nested_validation \u001b[38;5;129;01mor\u001b[39;00m global_skip_validation\n\u001b[0;32m    211\u001b[0m         )\n\u001b[0;32m    212\u001b[0m     ):\n\u001b[1;32m--> 213\u001b[0m         \u001b[38;5;28;01mreturn\u001b[39;00m func(\u001b[38;5;241m*\u001b[39margs, \u001b[38;5;241m*\u001b[39m\u001b[38;5;241m*\u001b[39mkwargs)\n\u001b[0;32m    214\u001b[0m \u001b[38;5;28;01mexcept\u001b[39;00m InvalidParameterError \u001b[38;5;28;01mas\u001b[39;00m e:\n\u001b[0;32m    215\u001b[0m     \u001b[38;5;66;03m# When the function is just a wrapper around an estimator, we allow\u001b[39;00m\n\u001b[0;32m    216\u001b[0m     \u001b[38;5;66;03m# the function to delegate validation to the estimator, but we replace\u001b[39;00m\n\u001b[0;32m    217\u001b[0m     \u001b[38;5;66;03m# the name of the estimator by the name of the function in the error\u001b[39;00m\n\u001b[0;32m    218\u001b[0m     \u001b[38;5;66;03m# message to avoid confusion.\u001b[39;00m\n\u001b[0;32m    219\u001b[0m     msg \u001b[38;5;241m=\u001b[39m re\u001b[38;5;241m.\u001b[39msub(\n\u001b[0;32m    220\u001b[0m         \u001b[38;5;124mr\u001b[39m\u001b[38;5;124m\"\u001b[39m\u001b[38;5;124mparameter of \u001b[39m\u001b[38;5;124m\\\u001b[39m\u001b[38;5;124mw+ must be\u001b[39m\u001b[38;5;124m\"\u001b[39m,\n\u001b[0;32m    221\u001b[0m         \u001b[38;5;124mf\u001b[39m\u001b[38;5;124m\"\u001b[39m\u001b[38;5;124mparameter of \u001b[39m\u001b[38;5;132;01m{\u001b[39;00mfunc\u001b[38;5;241m.\u001b[39m\u001b[38;5;18m__qualname__\u001b[39m\u001b[38;5;132;01m}\u001b[39;00m\u001b[38;5;124m must be\u001b[39m\u001b[38;5;124m\"\u001b[39m,\n\u001b[0;32m    222\u001b[0m         \u001b[38;5;28mstr\u001b[39m(e),\n\u001b[0;32m    223\u001b[0m     )\n",
      "File \u001b[1;32mc:\\Users\\Константин\\Documents\\GitHub\\AI\\.venv\\lib\\site-packages\\sklearn\\metrics\\_classification.py:1271\u001b[0m, in \u001b[0;36mf1_score\u001b[1;34m(y_true, y_pred, labels, pos_label, average, sample_weight, zero_division)\u001b[0m\n\u001b[0;32m   1091\u001b[0m \u001b[38;5;129m@validate_params\u001b[39m(\n\u001b[0;32m   1092\u001b[0m     {\n\u001b[0;32m   1093\u001b[0m         \u001b[38;5;124m\"\u001b[39m\u001b[38;5;124my_true\u001b[39m\u001b[38;5;124m\"\u001b[39m: [\u001b[38;5;124m\"\u001b[39m\u001b[38;5;124marray-like\u001b[39m\u001b[38;5;124m\"\u001b[39m, \u001b[38;5;124m\"\u001b[39m\u001b[38;5;124msparse matrix\u001b[39m\u001b[38;5;124m\"\u001b[39m],\n\u001b[1;32m   (...)\u001b[0m\n\u001b[0;32m   1118\u001b[0m     zero_division\u001b[38;5;241m=\u001b[39m\u001b[38;5;124m\"\u001b[39m\u001b[38;5;124mwarn\u001b[39m\u001b[38;5;124m\"\u001b[39m,\n\u001b[0;32m   1119\u001b[0m ):\n\u001b[0;32m   1120\u001b[0m \u001b[38;5;250m    \u001b[39m\u001b[38;5;124;03m\"\"\"Compute the F1 score, also known as balanced F-score or F-measure.\u001b[39;00m\n\u001b[0;32m   1121\u001b[0m \n\u001b[0;32m   1122\u001b[0m \u001b[38;5;124;03m    The F1 score can be interpreted as a harmonic mean of the precision and\u001b[39;00m\n\u001b[1;32m   (...)\u001b[0m\n\u001b[0;32m   1269\u001b[0m \u001b[38;5;124;03m    array([0.66666667, 1.        , 0.66666667])\u001b[39;00m\n\u001b[0;32m   1270\u001b[0m \u001b[38;5;124;03m    \"\"\"\u001b[39;00m\n\u001b[1;32m-> 1271\u001b[0m     \u001b[38;5;28;01mreturn\u001b[39;00m \u001b[43mfbeta_score\u001b[49m\u001b[43m(\u001b[49m\n\u001b[0;32m   1272\u001b[0m \u001b[43m        \u001b[49m\u001b[43my_true\u001b[49m\u001b[43m,\u001b[49m\n\u001b[0;32m   1273\u001b[0m \u001b[43m        \u001b[49m\u001b[43my_pred\u001b[49m\u001b[43m,\u001b[49m\n\u001b[0;32m   1274\u001b[0m \u001b[43m        \u001b[49m\u001b[43mbeta\u001b[49m\u001b[38;5;241;43m=\u001b[39;49m\u001b[38;5;241;43m1\u001b[39;49m\u001b[43m,\u001b[49m\n\u001b[0;32m   1275\u001b[0m \u001b[43m        \u001b[49m\u001b[43mlabels\u001b[49m\u001b[38;5;241;43m=\u001b[39;49m\u001b[43mlabels\u001b[49m\u001b[43m,\u001b[49m\n\u001b[0;32m   1276\u001b[0m \u001b[43m        \u001b[49m\u001b[43mpos_label\u001b[49m\u001b[38;5;241;43m=\u001b[39;49m\u001b[43mpos_label\u001b[49m\u001b[43m,\u001b[49m\n\u001b[0;32m   1277\u001b[0m \u001b[43m        \u001b[49m\u001b[43maverage\u001b[49m\u001b[38;5;241;43m=\u001b[39;49m\u001b[43maverage\u001b[49m\u001b[43m,\u001b[49m\n\u001b[0;32m   1278\u001b[0m \u001b[43m        \u001b[49m\u001b[43msample_weight\u001b[49m\u001b[38;5;241;43m=\u001b[39;49m\u001b[43msample_weight\u001b[49m\u001b[43m,\u001b[49m\n\u001b[0;32m   1279\u001b[0m \u001b[43m        \u001b[49m\u001b[43mzero_division\u001b[49m\u001b[38;5;241;43m=\u001b[39;49m\u001b[43mzero_division\u001b[49m\u001b[43m,\u001b[49m\n\u001b[0;32m   1280\u001b[0m \u001b[43m    \u001b[49m\u001b[43m)\u001b[49m\n",
      "File \u001b[1;32mc:\\Users\\Константин\\Documents\\GitHub\\AI\\.venv\\lib\\site-packages\\sklearn\\utils\\_param_validation.py:186\u001b[0m, in \u001b[0;36mvalidate_params.<locals>.decorator.<locals>.wrapper\u001b[1;34m(*args, **kwargs)\u001b[0m\n\u001b[0;32m    184\u001b[0m global_skip_validation \u001b[38;5;241m=\u001b[39m get_config()[\u001b[38;5;124m\"\u001b[39m\u001b[38;5;124mskip_parameter_validation\u001b[39m\u001b[38;5;124m\"\u001b[39m]\n\u001b[0;32m    185\u001b[0m \u001b[38;5;28;01mif\u001b[39;00m global_skip_validation:\n\u001b[1;32m--> 186\u001b[0m     \u001b[38;5;28;01mreturn\u001b[39;00m func(\u001b[38;5;241m*\u001b[39margs, \u001b[38;5;241m*\u001b[39m\u001b[38;5;241m*\u001b[39mkwargs)\n\u001b[0;32m    188\u001b[0m func_sig \u001b[38;5;241m=\u001b[39m signature(func)\n\u001b[0;32m    190\u001b[0m \u001b[38;5;66;03m# Map *args/**kwargs to the function signature\u001b[39;00m\n",
      "File \u001b[1;32mc:\\Users\\Константин\\Documents\\GitHub\\AI\\.venv\\lib\\site-packages\\sklearn\\metrics\\_classification.py:1463\u001b[0m, in \u001b[0;36mfbeta_score\u001b[1;34m(y_true, y_pred, beta, labels, pos_label, average, sample_weight, zero_division)\u001b[0m\n\u001b[0;32m   1283\u001b[0m \u001b[38;5;129m@validate_params\u001b[39m(\n\u001b[0;32m   1284\u001b[0m     {\n\u001b[0;32m   1285\u001b[0m         \u001b[38;5;124m\"\u001b[39m\u001b[38;5;124my_true\u001b[39m\u001b[38;5;124m\"\u001b[39m: [\u001b[38;5;124m\"\u001b[39m\u001b[38;5;124marray-like\u001b[39m\u001b[38;5;124m\"\u001b[39m, \u001b[38;5;124m\"\u001b[39m\u001b[38;5;124msparse matrix\u001b[39m\u001b[38;5;124m\"\u001b[39m],\n\u001b[1;32m   (...)\u001b[0m\n\u001b[0;32m   1312\u001b[0m     zero_division\u001b[38;5;241m=\u001b[39m\u001b[38;5;124m\"\u001b[39m\u001b[38;5;124mwarn\u001b[39m\u001b[38;5;124m\"\u001b[39m,\n\u001b[0;32m   1313\u001b[0m ):\n\u001b[0;32m   1314\u001b[0m \u001b[38;5;250m    \u001b[39m\u001b[38;5;124;03m\"\"\"Compute the F-beta score.\u001b[39;00m\n\u001b[0;32m   1315\u001b[0m \n\u001b[0;32m   1316\u001b[0m \u001b[38;5;124;03m    The F-beta score is the weighted harmonic mean of precision and recall,\u001b[39;00m\n\u001b[1;32m   (...)\u001b[0m\n\u001b[0;32m   1460\u001b[0m \u001b[38;5;124;03m    0.12...\u001b[39;00m\n\u001b[0;32m   1461\u001b[0m \u001b[38;5;124;03m    \"\"\"\u001b[39;00m\n\u001b[1;32m-> 1463\u001b[0m     _, _, f, _ \u001b[38;5;241m=\u001b[39m \u001b[43mprecision_recall_fscore_support\u001b[49m\u001b[43m(\u001b[49m\n\u001b[0;32m   1464\u001b[0m \u001b[43m        \u001b[49m\u001b[43my_true\u001b[49m\u001b[43m,\u001b[49m\n\u001b[0;32m   1465\u001b[0m \u001b[43m        \u001b[49m\u001b[43my_pred\u001b[49m\u001b[43m,\u001b[49m\n\u001b[0;32m   1466\u001b[0m \u001b[43m        \u001b[49m\u001b[43mbeta\u001b[49m\u001b[38;5;241;43m=\u001b[39;49m\u001b[43mbeta\u001b[49m\u001b[43m,\u001b[49m\n\u001b[0;32m   1467\u001b[0m \u001b[43m        \u001b[49m\u001b[43mlabels\u001b[49m\u001b[38;5;241;43m=\u001b[39;49m\u001b[43mlabels\u001b[49m\u001b[43m,\u001b[49m\n\u001b[0;32m   1468\u001b[0m \u001b[43m        \u001b[49m\u001b[43mpos_label\u001b[49m\u001b[38;5;241;43m=\u001b[39;49m\u001b[43mpos_label\u001b[49m\u001b[43m,\u001b[49m\n\u001b[0;32m   1469\u001b[0m \u001b[43m        \u001b[49m\u001b[43maverage\u001b[49m\u001b[38;5;241;43m=\u001b[39;49m\u001b[43maverage\u001b[49m\u001b[43m,\u001b[49m\n\u001b[0;32m   1470\u001b[0m \u001b[43m        \u001b[49m\u001b[43mwarn_for\u001b[49m\u001b[38;5;241;43m=\u001b[39;49m\u001b[43m(\u001b[49m\u001b[38;5;124;43m\"\u001b[39;49m\u001b[38;5;124;43mf-score\u001b[39;49m\u001b[38;5;124;43m\"\u001b[39;49m\u001b[43m,\u001b[49m\u001b[43m)\u001b[49m\u001b[43m,\u001b[49m\n\u001b[0;32m   1471\u001b[0m \u001b[43m        \u001b[49m\u001b[43msample_weight\u001b[49m\u001b[38;5;241;43m=\u001b[39;49m\u001b[43msample_weight\u001b[49m\u001b[43m,\u001b[49m\n\u001b[0;32m   1472\u001b[0m \u001b[43m        \u001b[49m\u001b[43mzero_division\u001b[49m\u001b[38;5;241;43m=\u001b[39;49m\u001b[43mzero_division\u001b[49m\u001b[43m,\u001b[49m\n\u001b[0;32m   1473\u001b[0m \u001b[43m    \u001b[49m\u001b[43m)\u001b[49m\n\u001b[0;32m   1474\u001b[0m     \u001b[38;5;28;01mreturn\u001b[39;00m f\n",
      "File \u001b[1;32mc:\\Users\\Константин\\Documents\\GitHub\\AI\\.venv\\lib\\site-packages\\sklearn\\utils\\_param_validation.py:186\u001b[0m, in \u001b[0;36mvalidate_params.<locals>.decorator.<locals>.wrapper\u001b[1;34m(*args, **kwargs)\u001b[0m\n\u001b[0;32m    184\u001b[0m global_skip_validation \u001b[38;5;241m=\u001b[39m get_config()[\u001b[38;5;124m\"\u001b[39m\u001b[38;5;124mskip_parameter_validation\u001b[39m\u001b[38;5;124m\"\u001b[39m]\n\u001b[0;32m    185\u001b[0m \u001b[38;5;28;01mif\u001b[39;00m global_skip_validation:\n\u001b[1;32m--> 186\u001b[0m     \u001b[38;5;28;01mreturn\u001b[39;00m func(\u001b[38;5;241m*\u001b[39margs, \u001b[38;5;241m*\u001b[39m\u001b[38;5;241m*\u001b[39mkwargs)\n\u001b[0;32m    188\u001b[0m func_sig \u001b[38;5;241m=\u001b[39m signature(func)\n\u001b[0;32m    190\u001b[0m \u001b[38;5;66;03m# Map *args/**kwargs to the function signature\u001b[39;00m\n",
      "File \u001b[1;32mc:\\Users\\Константин\\Documents\\GitHub\\AI\\.venv\\lib\\site-packages\\sklearn\\metrics\\_classification.py:1767\u001b[0m, in \u001b[0;36mprecision_recall_fscore_support\u001b[1;34m(y_true, y_pred, beta, labels, pos_label, average, warn_for, sample_weight, zero_division)\u001b[0m\n\u001b[0;32m   1604\u001b[0m \u001b[38;5;250m\u001b[39m\u001b[38;5;124;03m\"\"\"Compute precision, recall, F-measure and support for each class.\u001b[39;00m\n\u001b[0;32m   1605\u001b[0m \n\u001b[0;32m   1606\u001b[0m \u001b[38;5;124;03mThe precision is the ratio ``tp / (tp + fp)`` where ``tp`` is the number of\u001b[39;00m\n\u001b[1;32m   (...)\u001b[0m\n\u001b[0;32m   1764\u001b[0m \u001b[38;5;124;03m array([2, 2, 2]))\u001b[39;00m\n\u001b[0;32m   1765\u001b[0m \u001b[38;5;124;03m\"\"\"\u001b[39;00m\n\u001b[0;32m   1766\u001b[0m _check_zero_division(zero_division)\n\u001b[1;32m-> 1767\u001b[0m labels \u001b[38;5;241m=\u001b[39m \u001b[43m_check_set_wise_labels\u001b[49m\u001b[43m(\u001b[49m\u001b[43my_true\u001b[49m\u001b[43m,\u001b[49m\u001b[43m \u001b[49m\u001b[43my_pred\u001b[49m\u001b[43m,\u001b[49m\u001b[43m \u001b[49m\u001b[43maverage\u001b[49m\u001b[43m,\u001b[49m\u001b[43m \u001b[49m\u001b[43mlabels\u001b[49m\u001b[43m,\u001b[49m\u001b[43m \u001b[49m\u001b[43mpos_label\u001b[49m\u001b[43m)\u001b[49m\n\u001b[0;32m   1769\u001b[0m \u001b[38;5;66;03m# Calculate tp_sum, pred_sum, true_sum ###\u001b[39;00m\n\u001b[0;32m   1770\u001b[0m samplewise \u001b[38;5;241m=\u001b[39m average \u001b[38;5;241m==\u001b[39m \u001b[38;5;124m\"\u001b[39m\u001b[38;5;124msamples\u001b[39m\u001b[38;5;124m\"\u001b[39m\n",
      "File \u001b[1;32mc:\\Users\\Константин\\Documents\\GitHub\\AI\\.venv\\lib\\site-packages\\sklearn\\metrics\\_classification.py:1539\u001b[0m, in \u001b[0;36m_check_set_wise_labels\u001b[1;34m(y_true, y_pred, average, labels, pos_label)\u001b[0m\n\u001b[0;32m   1536\u001b[0m \u001b[38;5;28;01mif\u001b[39;00m average \u001b[38;5;129;01mnot\u001b[39;00m \u001b[38;5;129;01min\u001b[39;00m average_options \u001b[38;5;129;01mand\u001b[39;00m average \u001b[38;5;241m!=\u001b[39m \u001b[38;5;124m\"\u001b[39m\u001b[38;5;124mbinary\u001b[39m\u001b[38;5;124m\"\u001b[39m:\n\u001b[0;32m   1537\u001b[0m     \u001b[38;5;28;01mraise\u001b[39;00m \u001b[38;5;167;01mValueError\u001b[39;00m(\u001b[38;5;124m\"\u001b[39m\u001b[38;5;124maverage has to be one of \u001b[39m\u001b[38;5;124m\"\u001b[39m \u001b[38;5;241m+\u001b[39m \u001b[38;5;28mstr\u001b[39m(average_options))\n\u001b[1;32m-> 1539\u001b[0m y_type, y_true, y_pred \u001b[38;5;241m=\u001b[39m \u001b[43m_check_targets\u001b[49m\u001b[43m(\u001b[49m\u001b[43my_true\u001b[49m\u001b[43m,\u001b[49m\u001b[43m \u001b[49m\u001b[43my_pred\u001b[49m\u001b[43m)\u001b[49m\n\u001b[0;32m   1540\u001b[0m \u001b[38;5;66;03m# Convert to Python primitive type to avoid NumPy type / Python str\u001b[39;00m\n\u001b[0;32m   1541\u001b[0m \u001b[38;5;66;03m# comparison. See https://github.com/numpy/numpy/issues/6784\u001b[39;00m\n\u001b[0;32m   1542\u001b[0m present_labels \u001b[38;5;241m=\u001b[39m unique_labels(y_true, y_pred)\u001b[38;5;241m.\u001b[39mtolist()\n",
      "File \u001b[1;32mc:\\Users\\Константин\\Documents\\GitHub\\AI\\.venv\\lib\\site-packages\\sklearn\\metrics\\_classification.py:85\u001b[0m, in \u001b[0;36m_check_targets\u001b[1;34m(y_true, y_pred)\u001b[0m\n\u001b[0;32m     58\u001b[0m \u001b[38;5;28;01mdef\u001b[39;00m \u001b[38;5;21m_check_targets\u001b[39m(y_true, y_pred):\n\u001b[0;32m     59\u001b[0m \u001b[38;5;250m    \u001b[39m\u001b[38;5;124;03m\"\"\"Check that y_true and y_pred belong to the same classification task.\u001b[39;00m\n\u001b[0;32m     60\u001b[0m \n\u001b[0;32m     61\u001b[0m \u001b[38;5;124;03m    This converts multiclass or binary types to a common shape, and raises a\u001b[39;00m\n\u001b[1;32m   (...)\u001b[0m\n\u001b[0;32m     83\u001b[0m \u001b[38;5;124;03m    y_pred : array or indicator matrix\u001b[39;00m\n\u001b[0;32m     84\u001b[0m \u001b[38;5;124;03m    \"\"\"\u001b[39;00m\n\u001b[1;32m---> 85\u001b[0m     \u001b[43mcheck_consistent_length\u001b[49m\u001b[43m(\u001b[49m\u001b[43my_true\u001b[49m\u001b[43m,\u001b[49m\u001b[43m \u001b[49m\u001b[43my_pred\u001b[49m\u001b[43m)\u001b[49m\n\u001b[0;32m     86\u001b[0m     type_true \u001b[38;5;241m=\u001b[39m type_of_target(y_true, input_name\u001b[38;5;241m=\u001b[39m\u001b[38;5;124m\"\u001b[39m\u001b[38;5;124my_true\u001b[39m\u001b[38;5;124m\"\u001b[39m)\n\u001b[0;32m     87\u001b[0m     type_pred \u001b[38;5;241m=\u001b[39m type_of_target(y_pred, input_name\u001b[38;5;241m=\u001b[39m\u001b[38;5;124m\"\u001b[39m\u001b[38;5;124my_pred\u001b[39m\u001b[38;5;124m\"\u001b[39m)\n",
      "File \u001b[1;32mc:\\Users\\Константин\\Documents\\GitHub\\AI\\.venv\\lib\\site-packages\\sklearn\\utils\\validation.py:457\u001b[0m, in \u001b[0;36mcheck_consistent_length\u001b[1;34m(*arrays)\u001b[0m\n\u001b[0;32m    455\u001b[0m uniques \u001b[38;5;241m=\u001b[39m np\u001b[38;5;241m.\u001b[39munique(lengths)\n\u001b[0;32m    456\u001b[0m \u001b[38;5;28;01mif\u001b[39;00m \u001b[38;5;28mlen\u001b[39m(uniques) \u001b[38;5;241m>\u001b[39m \u001b[38;5;241m1\u001b[39m:\n\u001b[1;32m--> 457\u001b[0m     \u001b[38;5;28;01mraise\u001b[39;00m \u001b[38;5;167;01mValueError\u001b[39;00m(\n\u001b[0;32m    458\u001b[0m         \u001b[38;5;124m\"\u001b[39m\u001b[38;5;124mFound input variables with inconsistent numbers of samples: \u001b[39m\u001b[38;5;132;01m%r\u001b[39;00m\u001b[38;5;124m\"\u001b[39m\n\u001b[0;32m    459\u001b[0m         \u001b[38;5;241m%\u001b[39m [\u001b[38;5;28mint\u001b[39m(l) \u001b[38;5;28;01mfor\u001b[39;00m l \u001b[38;5;129;01min\u001b[39;00m lengths]\n\u001b[0;32m    460\u001b[0m     )\n",
      "\u001b[1;31mValueError\u001b[0m: Found input variables with inconsistent numbers of samples: [6294, 22624]"
     ]
    }
   ],
   "source": [
    "y_preidct = log_classification.predict(test_x)\n",
    "binary_predicts = np.rint(y_preidct)\n",
    "f1_score(y_true=learn_df['target'], y_pred=binary_predicts)"
   ]
  },
  {
   "cell_type": "markdown",
   "metadata": {},
   "source": [
    "Как видим точность сильно хуже !"
   ]
  },
  {
   "cell_type": "markdown",
   "metadata": {},
   "source": [
    "# SGD"
   ]
  },
  {
   "cell_type": "code",
   "execution_count": null,
   "metadata": {},
   "outputs": [],
   "source": [
    "class BinaryClassificationSGD:\n",
    "    def __init__(self, lr=0.01, max_iter=1000, batch_size=32, tol=1e-3, intercept = True):\n",
    "        # скорость обучения градиентного спуска\n",
    "        self.learning_rate = lr \n",
    "        # максимальное число итераций\n",
    "        self.max_iteration = max_iter \n",
    "        # размер мини-батча \n",
    "        self.batch_size = batch_size  \n",
    "        # критерий сходимости  \n",
    "        self.tolerance_convergence  = tol\n",
    "        # наличие свободного члена\n",
    "        self.intercept = intercept\n",
    "        # инициальзация весов: None\n",
    "        self.theta = None\n",
    "        self.n = None\n",
    "        self.d = None\n",
    "         \n",
    "    def fit(self, X, y):\n",
    "        self.X = np.array(X.copy())\n",
    "        self.y = np.array(y.copy())\n",
    "        if self.intercept:\n",
    "            self.X = np.hstack((np.ones((self.X.shape[0], 1)), self.X))   \n",
    "        # размерность вектора X \n",
    "        self.n, self.d = self.X.shape\n",
    "        # инициализация случайных весов\n",
    "        self.theta = np.random.randn(self.d)\n",
    "        steps, errors = [], []\n",
    "        step = 0\n",
    "        for _ in range(self.max_iteration):\n",
    "            # перемешивание данных\n",
    "            indices = np.random.permutation(self.n)\n",
    "            X = self.X[indices]\n",
    "            y = self.y[indices]\n",
    "            # цикл по мини-батчам\n",
    "            for i in range(0, self.n, self.batch_size):\n",
    "                X_batch = X[i:i+self.batch_size]\n",
    "                y_batch = y[i:i+self.batch_size]\n",
    "                grad = self.gradient(X_batch, y_batch)\n",
    "                self.theta -= self.learning_rate * grad\n",
    "            new_error = ((self.y - self.X @ self.theta).T @ (self.y - self.X @ self.theta)) / self.n\n",
    "            step += 1\n",
    "            steps.append(step)\n",
    "            errors.append(new_error)\n",
    "            # проверка сходимости\n",
    "            if np.linalg.norm(grad) < self.tolerance_convergence:\n",
    "                break\n",
    "        return steps, errors\n",
    "    \n",
    "    def gradient(self, X, y):\n",
    "        return X.T @ (X @ self.theta - y) / len(y)\n",
    "             \n",
    "    def predict(self, X):\n",
    "        if self.intercept:\n",
    "            X_ = np.hstack((np.ones((X.shape[0],1)), X))\n",
    "        else:\n",
    "            X_ = X\n",
    "        z = X_ @ self.theta\n",
    "        return 1 / (1 + np.exp(-z))\n",
    "\n",
    "    def MSE(self, X, y):\n",
    "        return ((y - self.predict(X)).T @ (y - self.predict(X))) / len(y)\n",
    "    \n",
    "    def MAE(self, X, y):\n",
    "        return abs(y - self.predict(X)).mean()\n",
    "    \n",
    "    def MAPE(self, X, y):\n",
    "        return abs((y - self.predict(X))/y).mean()\n"
   ]
  },
  {
   "cell_type": "code",
   "execution_count": null,
   "metadata": {},
   "outputs": [],
   "source": [
    "sgd_classificator = BinaryClassificationSGD(max_iter=400)\n",
    "steps, errors = sgd_classificator.fit(X=learn_df.drop(['target'], axis=1), y=learn_df['target'])"
   ]
  },
  {
   "cell_type": "code",
   "execution_count": null,
   "metadata": {},
   "outputs": [
    {
     "data": {
      "text/plain": [
       "[<matplotlib.lines.Line2D at 0x25603ac4070>]"
      ]
     },
     "execution_count": 109,
     "metadata": {},
     "output_type": "execute_result"
    },
    {
     "data": {
      "image/png": "[encoded data removed]",
      "text/plain": [
       "<Figure size 640x480 with 1 Axes>"
      ]
     },
     "metadata": {},
     "output_type": "display_data"
    }
   ],
   "source": [
    "plt.figure()\n",
    "plt.title('График ошибки')\n",
    "plt.xlabel('Итерации')\n",
    "plt.plot(steps, errors)"
   ]
  },
  {
   "cell_type": "code",
   "execution_count": null,
   "metadata": {},
   "outputs": [
    {
     "data": {
      "text/plain": [
       "0.6677855313134882"
      ]
     },
     "execution_count": 110,
     "metadata": {},
     "output_type": "execute_result"
    }
   ],
   "source": [
    "\n",
    "y_preidct = sgd_classificator.predict(test_df.drop(['target'], axis=1))\n",
    "binary_predicts = np.rint(y_preidct)\n",
    "f1_score(y_true=test_df['target'], y_pred=binary_predicts)"
   ]
  },
  {
   "cell_type": "code",
   "execution_count": null,
   "metadata": {},
   "outputs": [
    {
     "data": {
      "text/plain": [
       "0.6627005205566769"
      ]
     },
     "execution_count": 111,
     "metadata": {},
     "output_type": "execute_result"
    }
   ],
   "source": [
    " \n",
    "y_preidct = sgd_classificator.predict(learn_df.drop(['target'], axis=1))\n",
    "binary_predicts = np.rint(y_preidct)\n",
    "f1_score(y_true=learn_df['target'], y_pred=binary_predicts)"
   ]
  }
 ],
 "metadata": {
  "kernelspec": {
   "display_name": ".venv",
   "language": "python",
   "name": "python3"
  },
  "language_info": {
   "codemirror_mode": {
    "name": "ipython",
    "version": 3
   },
   "file_extension": ".py",
   "mimetype": "text/x-python",
   "name": "python",
   "nbconvert_exporter": "python",
   "pygments_lexer": "ipython3",
   "version": "3.10.11"
  }
 },
 "nbformat": 4,
 "nbformat_minor": 2
}
