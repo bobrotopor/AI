{
 "cells": [
  {
   "cell_type": "code",
   "execution_count": 1,
   "metadata": {},
   "outputs": [],
   "source": [
    "#Загрузим необходимые библиотеки\n",
    "import numpy as np\n",
    "import pandas as pd\n",
    "import matplotlib.pyplot as plt\n",
    "from icecream import ic\n",
    "from sklearn.impute import SimpleImputer\n",
    "from sklearn.metrics import f1_score"
   ]
  },
  {
   "cell_type": "markdown",
   "metadata": {},
   "source": [
    "# Условие"
   ]
  },
  {
   "cell_type": "code",
   "execution_count": 2,
   "metadata": {},
   "outputs": [],
   "source": [
    "TEST_DATA_NUM = 22624"
   ]
  },
  {
   "cell_type": "markdown",
   "metadata": {},
   "source": [
    "- Реализовать расчеты способами а и б для набора данных из файла insclass_train.csv/\n",
    "2- Для 151 406 договоров страхования транспортных средств известны значения ряда признаков,\n",
    "в том числе пол, возраст, стаж вождения и коэффициент бонус-малус водителя, тип, марка, модель,\n",
    "год выпуска, страна – производитель, мощность и объем двигателя, а также признак target, равный 1,\n",
    " если заключение договора с клиентом является рисковым, и 0 в противном случае (файл insclass_train.csv).\n",
    "\n",
    "- Требуется построить модель, предсказывающую значение признака target для 22 624 договоров из тестового набора данных (файл insclass_test.csv).\n",
    "\n",
    "- В обучающем наборе данных для каждого договора известны следующие поля:\n",
    "\n",
    "variable_1 - агрегированный коэффициент бонус-малус (повышающий или понижающий стоимость полиса в зависимости от аварийности в предыдущие периоды);\n",
    "\n",
    "variable_2 - индикатор расторжения договора по инициативе страхователя (клиента);\n",
    "\n",
    "variable_3 - индикатор расторжения договора по инициативе страховщика (страховой компании);\n",
    "\n",
    "variable_4 - идентификатор года выпуска транспортного средства;\n",
    "\n",
    "variable_5 - идентификатор страны - производителя транспортного средства;\n",
    "\n",
    "variable_6 - мощность двигателя в лошадиных силах;\n",
    "\n",
    "variable_7 - объем двигателя в куб. см;\n",
    "\n",
    "variable_8 - идентификатор стороны расположения руля (левый или правый);\n",
    "\n",
    "variable_9 - пробег транспортного средства, покрываемый гарантией производителя;\n",
    "\n",
    "variable_10 - индикатор действия гарантии на транспортное средство;\n",
    "\n",
    "variable_11 - \"мультидрайв\" - индикатор допуска к управлению транспортным средством более одного водителя;\n",
    "\n",
    "variable_12 - возраст транспортного средства (в мес.);\n",
    "\n",
    "variable_13 - возраст водителя с максимальным стажем;\n",
    "\n",
    "variable_14 - коэффициент возраст-стаж;\n",
    "\n",
    "variable_15 - коэффициент краткосрочности;\n",
    "\n",
    "variable_16 - коэффициент мощности;\n",
    "\n",
    "variable_17 - коэффициент \"мультидрайв\";\n",
    "\n",
    "variable_18 - территориальный коэффициент;\n",
    "\n",
    "variable_19 - коэффициент \"КНДР\";\n",
    "\n",
    "variable_20 - идентификатор канала продаж;\n",
    "\n",
    "variable_21 - марка транспортного средства;\n",
    "\n",
    "variable_22 - модель транспортного средства;\n",
    "\n",
    "variable_23 - индикатор отечественных транспортных средств;\n",
    "\n",
    "variable_24 - пол водителя с максимальным коэффициентом \"возраст-стаж\";\n",
    "\n",
    "variable_25 - индикатор пролонгации;\n",
    "\n",
    "variable_26 - индикатор совпадения собственника транспортного средства и водителя;\n",
    "\n",
    "variable_27 - стаж водителя с максимальным коэффициентом \"возраст-стаж\";\n",
    "\n",
    "variable_28 - тип транспортного средства;\n",
    "\n",
    "target - класс риска, равный 1, если заключение договора с клиентом является рисковым, и 0 в противном случае."
   ]
  },
  {
   "cell_type": "markdown",
   "metadata": {},
   "source": [
    "# Подготовка данных "
   ]
  },
  {
   "cell_type": "code",
   "execution_count": 3,
   "metadata": {},
   "outputs": [],
   "source": [
    "init_df = pd.read_csv('insclass_train.csv')\n",
    "refacted_df = init_df.copy()"
   ]
  },
  {
   "cell_type": "markdown",
   "metadata": {},
   "source": [
    "### 1 Энкодим строковые признаки"
   ]
  },
  {
   "cell_type": "code",
   "execution_count": 4,
   "metadata": {},
   "outputs": [
    {
     "data": {
      "text/html": [
       "<div>\n",
       "<style scoped>\n",
       "    .dataframe tbody tr th:only-of-type {\n",
       "        vertical-align: middle;\n",
       "    }\n",
       "\n",
       "    .dataframe tbody tr th {\n",
       "        vertical-align: top;\n",
       "    }\n",
       "\n",
       "    .dataframe thead th {\n",
       "        text-align: right;\n",
       "    }\n",
       "</style>\n",
       "<table border=\"1\" class=\"dataframe\">\n",
       "  <thead>\n",
       "    <tr style=\"text-align: right;\">\n",
       "      <th></th>\n",
       "      <th>variable_1</th>\n",
       "      <th>variable_5</th>\n",
       "      <th>variable_20</th>\n",
       "      <th>variable_21</th>\n",
       "      <th>variable_22</th>\n",
       "      <th>variable_28</th>\n",
       "    </tr>\n",
       "  </thead>\n",
       "  <tbody>\n",
       "    <tr>\n",
       "      <th>0</th>\n",
       "      <td>8</td>\n",
       "      <td>12</td>\n",
       "      <td>2</td>\n",
       "      <td>92</td>\n",
       "      <td>910</td>\n",
       "      <td>0</td>\n",
       "    </tr>\n",
       "    <tr>\n",
       "      <th>1</th>\n",
       "      <td>4</td>\n",
       "      <td>3</td>\n",
       "      <td>2</td>\n",
       "      <td>123</td>\n",
       "      <td>679</td>\n",
       "      <td>0</td>\n",
       "    </tr>\n",
       "    <tr>\n",
       "      <th>2</th>\n",
       "      <td>8</td>\n",
       "      <td>23</td>\n",
       "      <td>1</td>\n",
       "      <td>23</td>\n",
       "      <td>728</td>\n",
       "      <td>0</td>\n",
       "    </tr>\n",
       "    <tr>\n",
       "      <th>3</th>\n",
       "      <td>8</td>\n",
       "      <td>23</td>\n",
       "      <td>2</td>\n",
       "      <td>23</td>\n",
       "      <td>1112</td>\n",
       "      <td>0</td>\n",
       "    </tr>\n",
       "    <tr>\n",
       "      <th>4</th>\n",
       "      <td>8</td>\n",
       "      <td>13</td>\n",
       "      <td>2</td>\n",
       "      <td>14</td>\n",
       "      <td>1467</td>\n",
       "      <td>0</td>\n",
       "    </tr>\n",
       "  </tbody>\n",
       "</table>\n",
       "</div>"
      ],
      "text/plain": [
       "   variable_1  variable_5  variable_20  variable_21  variable_22  variable_28\n",
       "0           8          12            2           92          910            0\n",
       "1           4           3            2          123          679            0\n",
       "2           8          23            1           23          728            0\n",
       "3           8          23            2           23         1112            0\n",
       "4           8          13            2           14         1467            0"
      ]
     },
     "execution_count": 4,
     "metadata": {},
     "output_type": "execute_result"
    }
   ],
   "source": [
    "from sklearn import preprocessing\n",
    "\n",
    "label_encoder = preprocessing.LabelEncoder()\n",
    "\n",
    "need_encoding_cols = refacted_df.select_dtypes(include='object').columns\n",
    "\n",
    "for col_name in need_encoding_cols:\n",
    "    # закидываем множество значений признака для операции энкодинга\n",
    "    label_encoder.fit(refacted_df[col_name].unique())   \n",
    "    refacted_df[col_name] = label_encoder.transform(refacted_df[col_name])\n",
    "\n",
    "refacted_df[need_encoding_cols].head()"
   ]
  },
  {
   "cell_type": "markdown",
   "metadata": {},
   "source": [
    "### 2 Уничтожаем NaN"
   ]
  },
  {
   "cell_type": "code",
   "execution_count": 5,
   "metadata": {},
   "outputs": [
    {
     "data": {
      "text/plain": [
       "variable_6        111\n",
       "variable_7      95639\n",
       "variable_8      29899\n",
       "variable_9     134436\n",
       "variable_12      1528\n",
       "variable_13      1657\n",
       "variable_14      2927\n",
       "variable_15    151393\n",
       "variable_16        12\n",
       "variable_17        12\n",
       "variable_18        12\n",
       "variable_20         1\n",
       "variable_24      2207\n",
       "variable_27      2067\n",
       "dtype: int64"
      ]
     },
     "execution_count": 5,
     "metadata": {},
     "output_type": "execute_result"
    }
   ],
   "source": [
    "keys_with_nan = init_df.isna().sum()    \n",
    "keys_with_nan = keys_with_nan[keys_with_nan !=0]\n",
    "keys_with_nan\n"
   ]
  },
  {
   "cell_type": "markdown",
   "metadata": {},
   "source": [
    "variable_9 и variable_15 не несут полезной информации, тк как Nan в них > 90% от датасета!"
   ]
  },
  {
   "cell_type": "code",
   "execution_count": 6,
   "metadata": {},
   "outputs": [
    {
     "data": {
      "text/html": [
       "<div>\n",
       "<style scoped>\n",
       "    .dataframe tbody tr th:only-of-type {\n",
       "        vertical-align: middle;\n",
       "    }\n",
       "\n",
       "    .dataframe tbody tr th {\n",
       "        vertical-align: top;\n",
       "    }\n",
       "\n",
       "    .dataframe thead th {\n",
       "        text-align: right;\n",
       "    }\n",
       "</style>\n",
       "<table border=\"1\" class=\"dataframe\">\n",
       "  <thead>\n",
       "    <tr style=\"text-align: right;\">\n",
       "      <th></th>\n",
       "      <th>variable_1</th>\n",
       "      <th>variable_2</th>\n",
       "      <th>variable_3</th>\n",
       "      <th>variable_4</th>\n",
       "      <th>variable_5</th>\n",
       "      <th>variable_6</th>\n",
       "      <th>variable_7</th>\n",
       "      <th>variable_8</th>\n",
       "      <th>variable_10</th>\n",
       "      <th>variable_11</th>\n",
       "      <th>...</th>\n",
       "      <th>variable_20</th>\n",
       "      <th>variable_21</th>\n",
       "      <th>variable_22</th>\n",
       "      <th>variable_23</th>\n",
       "      <th>variable_24</th>\n",
       "      <th>variable_25</th>\n",
       "      <th>variable_26</th>\n",
       "      <th>variable_27</th>\n",
       "      <th>variable_28</th>\n",
       "      <th>target</th>\n",
       "    </tr>\n",
       "  </thead>\n",
       "  <tbody>\n",
       "    <tr>\n",
       "      <th>0</th>\n",
       "      <td>8</td>\n",
       "      <td>0</td>\n",
       "      <td>0</td>\n",
       "      <td>14</td>\n",
       "      <td>12</td>\n",
       "      <td>98.0</td>\n",
       "      <td>NaN</td>\n",
       "      <td>0.0</td>\n",
       "      <td>0</td>\n",
       "      <td>0</td>\n",
       "      <td>...</td>\n",
       "      <td>2</td>\n",
       "      <td>92</td>\n",
       "      <td>910</td>\n",
       "      <td>0</td>\n",
       "      <td>0.0</td>\n",
       "      <td>0</td>\n",
       "      <td>1</td>\n",
       "      <td>19.323463</td>\n",
       "      <td>0</td>\n",
       "      <td>0</td>\n",
       "    </tr>\n",
       "    <tr>\n",
       "      <th>1</th>\n",
       "      <td>4</td>\n",
       "      <td>0</td>\n",
       "      <td>0</td>\n",
       "      <td>7</td>\n",
       "      <td>3</td>\n",
       "      <td>106.0</td>\n",
       "      <td>NaN</td>\n",
       "      <td>0.0</td>\n",
       "      <td>0</td>\n",
       "      <td>0</td>\n",
       "      <td>...</td>\n",
       "      <td>2</td>\n",
       "      <td>123</td>\n",
       "      <td>679</td>\n",
       "      <td>0</td>\n",
       "      <td>1.0</td>\n",
       "      <td>0</td>\n",
       "      <td>1</td>\n",
       "      <td>41.177900</td>\n",
       "      <td>0</td>\n",
       "      <td>0</td>\n",
       "    </tr>\n",
       "    <tr>\n",
       "      <th>2</th>\n",
       "      <td>8</td>\n",
       "      <td>0</td>\n",
       "      <td>0</td>\n",
       "      <td>4</td>\n",
       "      <td>23</td>\n",
       "      <td>123.0</td>\n",
       "      <td>NaN</td>\n",
       "      <td>0.0</td>\n",
       "      <td>0</td>\n",
       "      <td>0</td>\n",
       "      <td>...</td>\n",
       "      <td>1</td>\n",
       "      <td>23</td>\n",
       "      <td>728</td>\n",
       "      <td>0</td>\n",
       "      <td>0.0</td>\n",
       "      <td>0</td>\n",
       "      <td>1</td>\n",
       "      <td>3.614395</td>\n",
       "      <td>0</td>\n",
       "      <td>0</td>\n",
       "    </tr>\n",
       "    <tr>\n",
       "      <th>3</th>\n",
       "      <td>8</td>\n",
       "      <td>0</td>\n",
       "      <td>0</td>\n",
       "      <td>9</td>\n",
       "      <td>23</td>\n",
       "      <td>102.0</td>\n",
       "      <td>NaN</td>\n",
       "      <td>0.0</td>\n",
       "      <td>0</td>\n",
       "      <td>0</td>\n",
       "      <td>...</td>\n",
       "      <td>2</td>\n",
       "      <td>23</td>\n",
       "      <td>1112</td>\n",
       "      <td>0</td>\n",
       "      <td>1.0</td>\n",
       "      <td>0</td>\n",
       "      <td>0</td>\n",
       "      <td>49.041674</td>\n",
       "      <td>0</td>\n",
       "      <td>0</td>\n",
       "    </tr>\n",
       "    <tr>\n",
       "      <th>4</th>\n",
       "      <td>8</td>\n",
       "      <td>0</td>\n",
       "      <td>0</td>\n",
       "      <td>18</td>\n",
       "      <td>13</td>\n",
       "      <td>117.0</td>\n",
       "      <td>NaN</td>\n",
       "      <td>0.0</td>\n",
       "      <td>0</td>\n",
       "      <td>0</td>\n",
       "      <td>...</td>\n",
       "      <td>2</td>\n",
       "      <td>14</td>\n",
       "      <td>1467</td>\n",
       "      <td>0</td>\n",
       "      <td>1.0</td>\n",
       "      <td>0</td>\n",
       "      <td>0</td>\n",
       "      <td>17.909612</td>\n",
       "      <td>0</td>\n",
       "      <td>0</td>\n",
       "    </tr>\n",
       "  </tbody>\n",
       "</table>\n",
       "<p>5 rows × 27 columns</p>\n",
       "</div>"
      ],
      "text/plain": [
       "   variable_1  variable_2  variable_3  variable_4  variable_5  variable_6  \\\n",
       "0           8           0           0          14          12        98.0   \n",
       "1           4           0           0           7           3       106.0   \n",
       "2           8           0           0           4          23       123.0   \n",
       "3           8           0           0           9          23       102.0   \n",
       "4           8           0           0          18          13       117.0   \n",
       "\n",
       "   variable_7  variable_8  variable_10  variable_11  ...  variable_20  \\\n",
       "0         NaN         0.0            0            0  ...            2   \n",
       "1         NaN         0.0            0            0  ...            2   \n",
       "2         NaN         0.0            0            0  ...            1   \n",
       "3         NaN         0.0            0            0  ...            2   \n",
       "4         NaN         0.0            0            0  ...            2   \n",
       "\n",
       "   variable_21  variable_22  variable_23  variable_24  variable_25  \\\n",
       "0           92          910            0          0.0            0   \n",
       "1          123          679            0          1.0            0   \n",
       "2           23          728            0          0.0            0   \n",
       "3           23         1112            0          1.0            0   \n",
       "4           14         1467            0          1.0            0   \n",
       "\n",
       "   variable_26  variable_27  variable_28  target  \n",
       "0            1    19.323463            0       0  \n",
       "1            1    41.177900            0       0  \n",
       "2            1     3.614395            0       0  \n",
       "3            0    49.041674            0       0  \n",
       "4            0    17.909612            0       0  \n",
       "\n",
       "[5 rows x 27 columns]"
      ]
     },
     "execution_count": 6,
     "metadata": {},
     "output_type": "execute_result"
    }
   ],
   "source": [
    "refacted_df = refacted_df.drop(['variable_9', 'variable_15'], axis=1)\n",
    "keys_with_nan = keys_with_nan.drop(labels=['variable_9', 'variable_15'])\n",
    "refacted_df.head()"
   ]
  },
  {
   "cell_type": "code",
   "execution_count": 7,
   "metadata": {},
   "outputs": [
    {
     "data": {
      "text/plain": [
       "variable_6       111\n",
       "variable_7     95639\n",
       "variable_8     29899\n",
       "variable_12     1528\n",
       "variable_13     1657\n",
       "variable_14     2927\n",
       "variable_16       12\n",
       "variable_17       12\n",
       "variable_18       12\n",
       "variable_24     2207\n",
       "variable_27     2067\n",
       "dtype: int64"
      ]
     },
     "execution_count": 7,
     "metadata": {},
     "output_type": "execute_result"
    }
   ],
   "source": [
    "keys_with_nan = refacted_df.isna().sum()    \n",
    "keys_with_nan = keys_with_nan[keys_with_nan !=0]\n",
    "keys_with_nan"
   ]
  },
  {
   "cell_type": "code",
   "execution_count": 8,
   "metadata": {},
   "outputs": [
    {
     "data": {
      "text/html": [
       "<div>\n",
       "<style scoped>\n",
       "    .dataframe tbody tr th:only-of-type {\n",
       "        vertical-align: middle;\n",
       "    }\n",
       "\n",
       "    .dataframe tbody tr th {\n",
       "        vertical-align: top;\n",
       "    }\n",
       "\n",
       "    .dataframe thead th {\n",
       "        text-align: right;\n",
       "    }\n",
       "</style>\n",
       "<table border=\"1\" class=\"dataframe\">\n",
       "  <thead>\n",
       "    <tr style=\"text-align: right;\">\n",
       "      <th></th>\n",
       "      <th>variable_1</th>\n",
       "      <th>variable_2</th>\n",
       "      <th>variable_3</th>\n",
       "      <th>variable_4</th>\n",
       "      <th>variable_5</th>\n",
       "      <th>variable_6</th>\n",
       "      <th>variable_7</th>\n",
       "      <th>variable_8</th>\n",
       "      <th>variable_10</th>\n",
       "      <th>variable_11</th>\n",
       "      <th>...</th>\n",
       "      <th>variable_20</th>\n",
       "      <th>variable_21</th>\n",
       "      <th>variable_22</th>\n",
       "      <th>variable_23</th>\n",
       "      <th>variable_24</th>\n",
       "      <th>variable_25</th>\n",
       "      <th>variable_26</th>\n",
       "      <th>variable_27</th>\n",
       "      <th>variable_28</th>\n",
       "      <th>target</th>\n",
       "    </tr>\n",
       "  </thead>\n",
       "  <tbody>\n",
       "    <tr>\n",
       "      <th>0</th>\n",
       "      <td>8</td>\n",
       "      <td>0</td>\n",
       "      <td>0</td>\n",
       "      <td>14</td>\n",
       "      <td>12</td>\n",
       "      <td>98.0</td>\n",
       "      <td>NaN</td>\n",
       "      <td>0.0</td>\n",
       "      <td>0</td>\n",
       "      <td>0</td>\n",
       "      <td>...</td>\n",
       "      <td>2</td>\n",
       "      <td>92</td>\n",
       "      <td>910</td>\n",
       "      <td>0</td>\n",
       "      <td>0.0</td>\n",
       "      <td>0</td>\n",
       "      <td>1</td>\n",
       "      <td>19.323463</td>\n",
       "      <td>0</td>\n",
       "      <td>0</td>\n",
       "    </tr>\n",
       "    <tr>\n",
       "      <th>1</th>\n",
       "      <td>4</td>\n",
       "      <td>0</td>\n",
       "      <td>0</td>\n",
       "      <td>7</td>\n",
       "      <td>3</td>\n",
       "      <td>106.0</td>\n",
       "      <td>NaN</td>\n",
       "      <td>0.0</td>\n",
       "      <td>0</td>\n",
       "      <td>0</td>\n",
       "      <td>...</td>\n",
       "      <td>2</td>\n",
       "      <td>123</td>\n",
       "      <td>679</td>\n",
       "      <td>0</td>\n",
       "      <td>1.0</td>\n",
       "      <td>0</td>\n",
       "      <td>1</td>\n",
       "      <td>41.177900</td>\n",
       "      <td>0</td>\n",
       "      <td>0</td>\n",
       "    </tr>\n",
       "    <tr>\n",
       "      <th>2</th>\n",
       "      <td>8</td>\n",
       "      <td>0</td>\n",
       "      <td>0</td>\n",
       "      <td>4</td>\n",
       "      <td>23</td>\n",
       "      <td>123.0</td>\n",
       "      <td>NaN</td>\n",
       "      <td>0.0</td>\n",
       "      <td>0</td>\n",
       "      <td>0</td>\n",
       "      <td>...</td>\n",
       "      <td>1</td>\n",
       "      <td>23</td>\n",
       "      <td>728</td>\n",
       "      <td>0</td>\n",
       "      <td>0.0</td>\n",
       "      <td>0</td>\n",
       "      <td>1</td>\n",
       "      <td>3.614395</td>\n",
       "      <td>0</td>\n",
       "      <td>0</td>\n",
       "    </tr>\n",
       "    <tr>\n",
       "      <th>3</th>\n",
       "      <td>8</td>\n",
       "      <td>0</td>\n",
       "      <td>0</td>\n",
       "      <td>9</td>\n",
       "      <td>23</td>\n",
       "      <td>102.0</td>\n",
       "      <td>NaN</td>\n",
       "      <td>0.0</td>\n",
       "      <td>0</td>\n",
       "      <td>0</td>\n",
       "      <td>...</td>\n",
       "      <td>2</td>\n",
       "      <td>23</td>\n",
       "      <td>1112</td>\n",
       "      <td>0</td>\n",
       "      <td>1.0</td>\n",
       "      <td>0</td>\n",
       "      <td>0</td>\n",
       "      <td>49.041674</td>\n",
       "      <td>0</td>\n",
       "      <td>0</td>\n",
       "    </tr>\n",
       "    <tr>\n",
       "      <th>4</th>\n",
       "      <td>8</td>\n",
       "      <td>0</td>\n",
       "      <td>0</td>\n",
       "      <td>18</td>\n",
       "      <td>13</td>\n",
       "      <td>117.0</td>\n",
       "      <td>NaN</td>\n",
       "      <td>0.0</td>\n",
       "      <td>0</td>\n",
       "      <td>0</td>\n",
       "      <td>...</td>\n",
       "      <td>2</td>\n",
       "      <td>14</td>\n",
       "      <td>1467</td>\n",
       "      <td>0</td>\n",
       "      <td>1.0</td>\n",
       "      <td>0</td>\n",
       "      <td>0</td>\n",
       "      <td>17.909612</td>\n",
       "      <td>0</td>\n",
       "      <td>0</td>\n",
       "    </tr>\n",
       "  </tbody>\n",
       "</table>\n",
       "<p>5 rows × 27 columns</p>\n",
       "</div>"
      ],
      "text/plain": [
       "   variable_1  variable_2  variable_3  variable_4  variable_5  variable_6  \\\n",
       "0           8           0           0          14          12        98.0   \n",
       "1           4           0           0           7           3       106.0   \n",
       "2           8           0           0           4          23       123.0   \n",
       "3           8           0           0           9          23       102.0   \n",
       "4           8           0           0          18          13       117.0   \n",
       "\n",
       "   variable_7  variable_8  variable_10  variable_11  ...  variable_20  \\\n",
       "0         NaN         0.0            0            0  ...            2   \n",
       "1         NaN         0.0            0            0  ...            2   \n",
       "2         NaN         0.0            0            0  ...            1   \n",
       "3         NaN         0.0            0            0  ...            2   \n",
       "4         NaN         0.0            0            0  ...            2   \n",
       "\n",
       "   variable_21  variable_22  variable_23  variable_24  variable_25  \\\n",
       "0           92          910            0          0.0            0   \n",
       "1          123          679            0          1.0            0   \n",
       "2           23          728            0          0.0            0   \n",
       "3           23         1112            0          1.0            0   \n",
       "4           14         1467            0          1.0            0   \n",
       "\n",
       "   variable_26  variable_27  variable_28  target  \n",
       "0            1    19.323463            0       0  \n",
       "1            1    41.177900            0       0  \n",
       "2            1     3.614395            0       0  \n",
       "3            0    49.041674            0       0  \n",
       "4            0    17.909612            0       0  \n",
       "\n",
       "[5 rows x 27 columns]"
      ]
     },
     "execution_count": 8,
     "metadata": {},
     "output_type": "execute_result"
    }
   ],
   "source": [
    "refacted_df.head()"
   ]
  },
  {
   "cell_type": "markdown",
   "metadata": {},
   "source": [
    "Заполняем Nan средними занчениями"
   ]
  },
  {
   "cell_type": "code",
   "execution_count": 9,
   "metadata": {},
   "outputs": [
    {
     "data": {
      "text/html": [
       "<div>\n",
       "<style scoped>\n",
       "    .dataframe tbody tr th:only-of-type {\n",
       "        vertical-align: middle;\n",
       "    }\n",
       "\n",
       "    .dataframe tbody tr th {\n",
       "        vertical-align: top;\n",
       "    }\n",
       "\n",
       "    .dataframe thead th {\n",
       "        text-align: right;\n",
       "    }\n",
       "</style>\n",
       "<table border=\"1\" class=\"dataframe\">\n",
       "  <thead>\n",
       "    <tr style=\"text-align: right;\">\n",
       "      <th></th>\n",
       "      <th>variable_1</th>\n",
       "      <th>variable_2</th>\n",
       "      <th>variable_3</th>\n",
       "      <th>variable_4</th>\n",
       "      <th>variable_5</th>\n",
       "      <th>variable_6</th>\n",
       "      <th>variable_7</th>\n",
       "      <th>variable_8</th>\n",
       "      <th>variable_10</th>\n",
       "      <th>variable_11</th>\n",
       "      <th>...</th>\n",
       "      <th>variable_20</th>\n",
       "      <th>variable_21</th>\n",
       "      <th>variable_22</th>\n",
       "      <th>variable_23</th>\n",
       "      <th>variable_24</th>\n",
       "      <th>variable_25</th>\n",
       "      <th>variable_26</th>\n",
       "      <th>variable_27</th>\n",
       "      <th>variable_28</th>\n",
       "      <th>target</th>\n",
       "    </tr>\n",
       "  </thead>\n",
       "  <tbody>\n",
       "    <tr>\n",
       "      <th>0</th>\n",
       "      <td>8</td>\n",
       "      <td>0</td>\n",
       "      <td>0</td>\n",
       "      <td>14</td>\n",
       "      <td>12</td>\n",
       "      <td>98.0</td>\n",
       "      <td>1865.909732</td>\n",
       "      <td>0.0</td>\n",
       "      <td>0</td>\n",
       "      <td>0</td>\n",
       "      <td>...</td>\n",
       "      <td>2</td>\n",
       "      <td>92</td>\n",
       "      <td>910</td>\n",
       "      <td>0</td>\n",
       "      <td>0.0</td>\n",
       "      <td>0</td>\n",
       "      <td>1</td>\n",
       "      <td>19.323463</td>\n",
       "      <td>0</td>\n",
       "      <td>0</td>\n",
       "    </tr>\n",
       "    <tr>\n",
       "      <th>1</th>\n",
       "      <td>4</td>\n",
       "      <td>0</td>\n",
       "      <td>0</td>\n",
       "      <td>7</td>\n",
       "      <td>3</td>\n",
       "      <td>106.0</td>\n",
       "      <td>1865.909732</td>\n",
       "      <td>0.0</td>\n",
       "      <td>0</td>\n",
       "      <td>0</td>\n",
       "      <td>...</td>\n",
       "      <td>2</td>\n",
       "      <td>123</td>\n",
       "      <td>679</td>\n",
       "      <td>0</td>\n",
       "      <td>1.0</td>\n",
       "      <td>0</td>\n",
       "      <td>1</td>\n",
       "      <td>41.177900</td>\n",
       "      <td>0</td>\n",
       "      <td>0</td>\n",
       "    </tr>\n",
       "    <tr>\n",
       "      <th>2</th>\n",
       "      <td>8</td>\n",
       "      <td>0</td>\n",
       "      <td>0</td>\n",
       "      <td>4</td>\n",
       "      <td>23</td>\n",
       "      <td>123.0</td>\n",
       "      <td>1865.909732</td>\n",
       "      <td>0.0</td>\n",
       "      <td>0</td>\n",
       "      <td>0</td>\n",
       "      <td>...</td>\n",
       "      <td>1</td>\n",
       "      <td>23</td>\n",
       "      <td>728</td>\n",
       "      <td>0</td>\n",
       "      <td>0.0</td>\n",
       "      <td>0</td>\n",
       "      <td>1</td>\n",
       "      <td>3.614395</td>\n",
       "      <td>0</td>\n",
       "      <td>0</td>\n",
       "    </tr>\n",
       "    <tr>\n",
       "      <th>3</th>\n",
       "      <td>8</td>\n",
       "      <td>0</td>\n",
       "      <td>0</td>\n",
       "      <td>9</td>\n",
       "      <td>23</td>\n",
       "      <td>102.0</td>\n",
       "      <td>1865.909732</td>\n",
       "      <td>0.0</td>\n",
       "      <td>0</td>\n",
       "      <td>0</td>\n",
       "      <td>...</td>\n",
       "      <td>2</td>\n",
       "      <td>23</td>\n",
       "      <td>1112</td>\n",
       "      <td>0</td>\n",
       "      <td>1.0</td>\n",
       "      <td>0</td>\n",
       "      <td>0</td>\n",
       "      <td>49.041674</td>\n",
       "      <td>0</td>\n",
       "      <td>0</td>\n",
       "    </tr>\n",
       "    <tr>\n",
       "      <th>4</th>\n",
       "      <td>8</td>\n",
       "      <td>0</td>\n",
       "      <td>0</td>\n",
       "      <td>18</td>\n",
       "      <td>13</td>\n",
       "      <td>117.0</td>\n",
       "      <td>1865.909732</td>\n",
       "      <td>0.0</td>\n",
       "      <td>0</td>\n",
       "      <td>0</td>\n",
       "      <td>...</td>\n",
       "      <td>2</td>\n",
       "      <td>14</td>\n",
       "      <td>1467</td>\n",
       "      <td>0</td>\n",
       "      <td>1.0</td>\n",
       "      <td>0</td>\n",
       "      <td>0</td>\n",
       "      <td>17.909612</td>\n",
       "      <td>0</td>\n",
       "      <td>0</td>\n",
       "    </tr>\n",
       "  </tbody>\n",
       "</table>\n",
       "<p>5 rows × 27 columns</p>\n",
       "</div>"
      ],
      "text/plain": [
       "   variable_1  variable_2  variable_3  variable_4  variable_5  variable_6  \\\n",
       "0           8           0           0          14          12        98.0   \n",
       "1           4           0           0           7           3       106.0   \n",
       "2           8           0           0           4          23       123.0   \n",
       "3           8           0           0           9          23       102.0   \n",
       "4           8           0           0          18          13       117.0   \n",
       "\n",
       "    variable_7  variable_8  variable_10  variable_11  ...  variable_20  \\\n",
       "0  1865.909732         0.0            0            0  ...            2   \n",
       "1  1865.909732         0.0            0            0  ...            2   \n",
       "2  1865.909732         0.0            0            0  ...            1   \n",
       "3  1865.909732         0.0            0            0  ...            2   \n",
       "4  1865.909732         0.0            0            0  ...            2   \n",
       "\n",
       "   variable_21  variable_22  variable_23  variable_24  variable_25  \\\n",
       "0           92          910            0          0.0            0   \n",
       "1          123          679            0          1.0            0   \n",
       "2           23          728            0          0.0            0   \n",
       "3           23         1112            0          1.0            0   \n",
       "4           14         1467            0          1.0            0   \n",
       "\n",
       "   variable_26  variable_27  variable_28  target  \n",
       "0            1    19.323463            0       0  \n",
       "1            1    41.177900            0       0  \n",
       "2            1     3.614395            0       0  \n",
       "3            0    49.041674            0       0  \n",
       "4            0    17.909612            0       0  \n",
       "\n",
       "[5 rows x 27 columns]"
      ]
     },
     "execution_count": 9,
     "metadata": {},
     "output_type": "execute_result"
    }
   ],
   "source": [
    "\n",
    "imputer = SimpleImputer(missing_values=np.nan, strategy='mean')\n",
    "imputer = imputer.fit(refacted_df[keys_with_nan.index])\n",
    "\n",
    "refacted_df[keys_with_nan.index] = imputer.transform(refacted_df[keys_with_nan.index])\n",
    "refacted_df.head()"
   ]
  },
  {
   "cell_type": "markdown",
   "metadata": {},
   "source": [
    "Проверка: остались ли ещё NaN"
   ]
  },
  {
   "cell_type": "code",
   "execution_count": 10,
   "metadata": {},
   "outputs": [
    {
     "data": {
      "text/plain": [
       "Series([], dtype: int64)"
      ]
     },
     "execution_count": 10,
     "metadata": {},
     "output_type": "execute_result"
    }
   ],
   "source": [
    "keys_with_nan = refacted_df.isna().sum()\n",
    "keys_with_nan = keys_with_nan[keys_with_nan !=0]\n",
    "keys_with_nan"
   ]
  },
  {
   "cell_type": "markdown",
   "metadata": {},
   "source": [
    "### 3 Проверим есть ли признаки, с константными значениями"
   ]
  },
  {
   "cell_type": "code",
   "execution_count": 11,
   "metadata": {},
   "outputs": [
    {
     "data": {
      "text/plain": [
       "variable_1     False\n",
       "variable_2     False\n",
       "variable_3      True\n",
       "variable_4     False\n",
       "variable_5     False\n",
       "variable_6     False\n",
       "variable_7     False\n",
       "variable_8     False\n",
       "variable_10    False\n",
       "variable_11    False\n",
       "variable_12    False\n",
       "variable_13    False\n",
       "variable_14    False\n",
       "variable_16    False\n",
       "variable_17    False\n",
       "variable_18    False\n",
       "variable_19    False\n",
       "variable_20    False\n",
       "variable_21    False\n",
       "variable_22    False\n",
       "variable_23    False\n",
       "variable_24    False\n",
       "variable_25    False\n",
       "variable_26    False\n",
       "variable_27    False\n",
       "variable_28    False\n",
       "target         False\n",
       "dtype: bool"
      ]
     },
     "execution_count": 11,
     "metadata": {},
     "output_type": "execute_result"
    }
   ],
   "source": [
    "# сравниеваем каждое значение факторного признака с первым значением\n",
    "(refacted_df.iloc[0] == refacted_df).all()"
   ]
  },
  {
   "cell_type": "markdown",
   "metadata": {},
   "source": [
    "Шпион обнаружен - удаляем"
   ]
  },
  {
   "cell_type": "code",
   "execution_count": 12,
   "metadata": {},
   "outputs": [],
   "source": [
    "refacted_df = refacted_df.drop(['variable_3'], axis=1)"
   ]
  },
  {
   "cell_type": "markdown",
   "metadata": {},
   "source": [
    "### 3 Нормируем факторные признаки"
   ]
  },
  {
   "cell_type": "code",
   "execution_count": 13,
   "metadata": {},
   "outputs": [],
   "source": [
    "def mean_from_df(df: pd.DataFrame) -> float:\n",
    "    \"\"\"Можно пихать срезы.\"\"\"\n",
    "    means = df.mean()\n",
    "    return sum(means) / len(means)\n",
    "\n",
    "def norm_by_target(target_mean: float, not_normed_1d_arr: pd.Series):\n",
    "    not_normed_mean = not_normed_1d_arr.mean()\n",
    "    norm_coef = target_mean / not_normed_mean\n",
    "    return not_normed_1d_arr * norm_coef"
   ]
  },
  {
   "cell_type": "markdown",
   "metadata": {},
   "source": [
    "Создадим целевое срднее значение и список факторов для нормирования"
   ]
  },
  {
   "cell_type": "code",
   "execution_count": 14,
   "metadata": {},
   "outputs": [
    {
     "name": "stderr",
     "output_type": "stream",
     "text": [
      "ic| refacted_df[for_mean_cols].sum(): variable_2     2581\n",
      "                                      variable_10    2629\n",
      "                                      variable_11    2958\n",
      "                                      variable_28    2675\n",
      "                                      dtype: int64\n"
     ]
    },
    {
     "data": {
      "text/plain": [
       "variable_1      2710.75\n",
       "variable_2      2581.00\n",
       "variable_4      2710.75\n",
       "variable_5      2710.75\n",
       "variable_6      2710.75\n",
       "variable_7      2710.75\n",
       "variable_8      2710.75\n",
       "variable_10     2629.00\n",
       "variable_11     2958.00\n",
       "variable_12     2710.75\n",
       "variable_13     2710.75\n",
       "variable_14     2710.75\n",
       "variable_16     2710.75\n",
       "variable_17     2710.75\n",
       "variable_18     2710.75\n",
       "variable_19     2710.75\n",
       "variable_20     2710.75\n",
       "variable_21     2710.75\n",
       "variable_22     2710.75\n",
       "variable_23     2710.75\n",
       "variable_24     2710.75\n",
       "variable_25     2710.75\n",
       "variable_26     2710.75\n",
       "variable_27     2710.75\n",
       "variable_28     2675.00\n",
       "target         14459.00\n",
       "dtype: float64"
      ]
     },
     "execution_count": 14,
     "metadata": {},
     "output_type": "execute_result"
    }
   ],
   "source": [
    "for_mean_cols = ['variable_2', 'variable_10', 'variable_11', 'variable_28']\n",
    "ic(refacted_df[for_mean_cols].sum())\n",
    "target_mean = mean_from_df(refacted_df[for_mean_cols])\n",
    "\n",
    "all_factors_set =set(list(refacted_df.columns))\n",
    "mean_factors_set = set(for_mean_cols)\n",
    "\n",
    "need_to_norm_factors = all_factors_set - mean_factors_set\n",
    "need_to_norm_factors.remove('target')\n",
    "\n",
    "for factor in  need_to_norm_factors:\n",
    "    refacted_df[factor] = norm_by_target(target_mean=target_mean, not_normed_1d_arr=refacted_df[factor])\n",
    "refacted_df.sum()"
   ]
  },
  {
   "cell_type": "markdown",
   "metadata": {},
   "source": [
    "# Проверка сбалансированности датасета"
   ]
  },
  {
   "cell_type": "code",
   "execution_count": 15,
   "metadata": {},
   "outputs": [
    {
     "data": {
      "text/plain": [
       "<BarContainer object of 2 artists>"
      ]
     },
     "execution_count": 15,
     "metadata": {},
     "output_type": "execute_result"
    },
    {
     "data": {
      "image/png": "[encoded data removed]",
      "text/plain": [
       "<Figure size 640x480 with 1 Axes>"
      ]
     },
     "metadata": {},
     "output_type": "display_data"
    }
   ],
   "source": [
    "null_class_objs_count = (refacted_df['target'] == 0).sum()\n",
    "first_class_objs_count = (refacted_df['target'] == 1).sum()\n",
    "plt.figure()\n",
    "plt.bar(['0', '1'], [null_class_objs_count, first_class_objs_count])\n",
    "\n"
   ]
  },
  {
   "cell_type": "markdown",
   "metadata": {},
   "source": [
    "# Балансируем датасет"
   ]
  },
  {
   "cell_type": "code",
   "execution_count": 16,
   "metadata": {},
   "outputs": [
    {
     "name": "stderr",
     "output_type": "stream",
     "text": [
      "ic| zero_target_df_part.shape: (14459, 26)\n",
      "ic| (zero_target_df_part['target'] == 0).sum(): 14459"
     ]
    },
    {
     "name": "stderr",
     "output_type": "stream",
     "text": [
      "\n",
      "ic| first_class_objs_count: 14459\n"
     ]
    },
    {
     "data": {
      "text/plain": [
       "14459"
      ]
     },
     "execution_count": 16,
     "metadata": {},
     "output_type": "execute_result"
    }
   ],
   "source": [
    "zero_target_df_part = refacted_df[refacted_df['target'] == 0].sample(n=first_class_objs_count, random_state=1)\n",
    "# проверка \n",
    "ic(zero_target_df_part.shape)\n",
    "ic((zero_target_df_part['target'] == 0).sum())\n",
    "ic(first_class_objs_count)"
   ]
  },
  {
   "cell_type": "markdown",
   "metadata": {},
   "source": [
    "Теперь супер важный момент - до этого я склеивал first_target_df_part c zero_target_df_part, но по хорошему их нужно премешивать! Иначе обучение будт происходит с избыточной законеомерностью - сначала идут пецики с 0-классом, а потом 1-классом "
   ]
  },
  {
   "cell_type": "code",
   "execution_count": 17,
   "metadata": {},
   "outputs": [
    {
     "data": {
      "text/html": [
       "<div>\n",
       "<style scoped>\n",
       "    .dataframe tbody tr th:only-of-type {\n",
       "        vertical-align: middle;\n",
       "    }\n",
       "\n",
       "    .dataframe tbody tr th {\n",
       "        vertical-align: top;\n",
       "    }\n",
       "\n",
       "    .dataframe thead th {\n",
       "        text-align: right;\n",
       "    }\n",
       "</style>\n",
       "<table border=\"1\" class=\"dataframe\">\n",
       "  <thead>\n",
       "    <tr style=\"text-align: right;\">\n",
       "      <th></th>\n",
       "      <th>variable_1</th>\n",
       "      <th>variable_2</th>\n",
       "      <th>variable_4</th>\n",
       "      <th>variable_5</th>\n",
       "      <th>variable_6</th>\n",
       "      <th>variable_7</th>\n",
       "      <th>variable_8</th>\n",
       "      <th>variable_10</th>\n",
       "      <th>variable_11</th>\n",
       "      <th>variable_12</th>\n",
       "      <th>...</th>\n",
       "      <th>variable_20</th>\n",
       "      <th>variable_21</th>\n",
       "      <th>variable_22</th>\n",
       "      <th>variable_23</th>\n",
       "      <th>variable_24</th>\n",
       "      <th>variable_25</th>\n",
       "      <th>variable_26</th>\n",
       "      <th>variable_27</th>\n",
       "      <th>variable_28</th>\n",
       "      <th>target</th>\n",
       "    </tr>\n",
       "  </thead>\n",
       "  <tbody>\n",
       "    <tr>\n",
       "      <th>18454</th>\n",
       "      <td>0.025491</td>\n",
       "      <td>0</td>\n",
       "      <td>0.036417</td>\n",
       "      <td>0.012802</td>\n",
       "      <td>0.021557</td>\n",
       "      <td>0.017904</td>\n",
       "      <td>0.0</td>\n",
       "      <td>0</td>\n",
       "      <td>0</td>\n",
       "      <td>0.037666</td>\n",
       "      <td>...</td>\n",
       "      <td>0.011508</td>\n",
       "      <td>0.025360</td>\n",
       "      <td>0.026575</td>\n",
       "      <td>0.000000</td>\n",
       "      <td>0.02429</td>\n",
       "      <td>0.0</td>\n",
       "      <td>0.020757</td>\n",
       "      <td>0.007422</td>\n",
       "      <td>0</td>\n",
       "      <td>1</td>\n",
       "    </tr>\n",
       "    <tr>\n",
       "      <th>120407</th>\n",
       "      <td>0.025491</td>\n",
       "      <td>0</td>\n",
       "      <td>0.030083</td>\n",
       "      <td>0.033073</td>\n",
       "      <td>0.010930</td>\n",
       "      <td>0.017904</td>\n",
       "      <td>0.0</td>\n",
       "      <td>0</td>\n",
       "      <td>0</td>\n",
       "      <td>0.031766</td>\n",
       "      <td>...</td>\n",
       "      <td>0.023016</td>\n",
       "      <td>0.029651</td>\n",
       "      <td>0.015596</td>\n",
       "      <td>0.088734</td>\n",
       "      <td>0.02429</td>\n",
       "      <td>0.0</td>\n",
       "      <td>0.020757</td>\n",
       "      <td>0.036596</td>\n",
       "      <td>0</td>\n",
       "      <td>0</td>\n",
       "    </tr>\n",
       "    <tr>\n",
       "      <th>56692</th>\n",
       "      <td>0.038237</td>\n",
       "      <td>0</td>\n",
       "      <td>0.017417</td>\n",
       "      <td>0.003201</td>\n",
       "      <td>0.019431</td>\n",
       "      <td>0.022558</td>\n",
       "      <td>0.0</td>\n",
       "      <td>0</td>\n",
       "      <td>0</td>\n",
       "      <td>0.018270</td>\n",
       "      <td>...</td>\n",
       "      <td>0.023016</td>\n",
       "      <td>0.021653</td>\n",
       "      <td>0.023703</td>\n",
       "      <td>0.000000</td>\n",
       "      <td>0.02429</td>\n",
       "      <td>0.0</td>\n",
       "      <td>0.020757</td>\n",
       "      <td>0.057952</td>\n",
       "      <td>0</td>\n",
       "      <td>0</td>\n",
       "    </tr>\n",
       "    <tr>\n",
       "      <th>10494</th>\n",
       "      <td>0.025491</td>\n",
       "      <td>0</td>\n",
       "      <td>0.036417</td>\n",
       "      <td>0.033073</td>\n",
       "      <td>0.004402</td>\n",
       "      <td>0.017904</td>\n",
       "      <td>0.0</td>\n",
       "      <td>0</td>\n",
       "      <td>0</td>\n",
       "      <td>0.037794</td>\n",
       "      <td>...</td>\n",
       "      <td>0.023016</td>\n",
       "      <td>0.029651</td>\n",
       "      <td>0.016833</td>\n",
       "      <td>0.088734</td>\n",
       "      <td>0.02429</td>\n",
       "      <td>0.0</td>\n",
       "      <td>0.020757</td>\n",
       "      <td>0.012391</td>\n",
       "      <td>0</td>\n",
       "      <td>0</td>\n",
       "    </tr>\n",
       "    <tr>\n",
       "      <th>149600</th>\n",
       "      <td>0.012746</td>\n",
       "      <td>0</td>\n",
       "      <td>0.028500</td>\n",
       "      <td>0.033073</td>\n",
       "      <td>0.010778</td>\n",
       "      <td>0.017904</td>\n",
       "      <td>0.0</td>\n",
       "      <td>0</td>\n",
       "      <td>0</td>\n",
       "      <td>0.029477</td>\n",
       "      <td>...</td>\n",
       "      <td>0.023016</td>\n",
       "      <td>0.029651</td>\n",
       "      <td>0.022024</td>\n",
       "      <td>0.088734</td>\n",
       "      <td>0.02429</td>\n",
       "      <td>0.0</td>\n",
       "      <td>0.020757</td>\n",
       "      <td>0.030285</td>\n",
       "      <td>0</td>\n",
       "      <td>0</td>\n",
       "    </tr>\n",
       "  </tbody>\n",
       "</table>\n",
       "<p>5 rows × 26 columns</p>\n",
       "</div>"
      ],
      "text/plain": [
       "        variable_1  variable_2  variable_4  variable_5  variable_6  \\\n",
       "18454     0.025491           0    0.036417    0.012802    0.021557   \n",
       "120407    0.025491           0    0.030083    0.033073    0.010930   \n",
       "56692     0.038237           0    0.017417    0.003201    0.019431   \n",
       "10494     0.025491           0    0.036417    0.033073    0.004402   \n",
       "149600    0.012746           0    0.028500    0.033073    0.010778   \n",
       "\n",
       "        variable_7  variable_8  variable_10  variable_11  variable_12  ...  \\\n",
       "18454     0.017904         0.0            0            0     0.037666  ...   \n",
       "120407    0.017904         0.0            0            0     0.031766  ...   \n",
       "56692     0.022558         0.0            0            0     0.018270  ...   \n",
       "10494     0.017904         0.0            0            0     0.037794  ...   \n",
       "149600    0.017904         0.0            0            0     0.029477  ...   \n",
       "\n",
       "        variable_20  variable_21  variable_22  variable_23  variable_24  \\\n",
       "18454      0.011508     0.025360     0.026575     0.000000      0.02429   \n",
       "120407     0.023016     0.029651     0.015596     0.088734      0.02429   \n",
       "56692      0.023016     0.021653     0.023703     0.000000      0.02429   \n",
       "10494      0.023016     0.029651     0.016833     0.088734      0.02429   \n",
       "149600     0.023016     0.029651     0.022024     0.088734      0.02429   \n",
       "\n",
       "        variable_25  variable_26  variable_27  variable_28  target  \n",
       "18454           0.0     0.020757     0.007422            0       1  \n",
       "120407          0.0     0.020757     0.036596            0       0  \n",
       "56692           0.0     0.020757     0.057952            0       0  \n",
       "10494           0.0     0.020757     0.012391            0       0  \n",
       "149600          0.0     0.020757     0.030285            0       0  \n",
       "\n",
       "[5 rows x 26 columns]"
      ]
     },
     "execution_count": 17,
     "metadata": {},
     "output_type": "execute_result"
    }
   ],
   "source": [
    "first_target_df_part = refacted_df[refacted_df['target'] == 1]\n",
    "balanced_df = pd.concat((zero_target_df_part, first_target_df_part), axis=0)\n",
    "balanced_df = balanced_df.sample(n=2*zero_target_df_part.shape[0], random_state=1)\n",
    "balanced_df.head()"
   ]
  },
  {
   "cell_type": "markdown",
   "metadata": {},
   "source": [
    "Проверка"
   ]
  },
  {
   "cell_type": "code",
   "execution_count": 18,
   "metadata": {},
   "outputs": [
    {
     "data": {
      "text/plain": [
       "<BarContainer object of 2 artists>"
      ]
     },
     "execution_count": 18,
     "metadata": {},
     "output_type": "execute_result"
    },
    {
     "data": {
      "image/png": "[encoded data removed]",
      "text/plain": [
       "<Figure size 640x480 with 1 Axes>"
      ]
     },
     "metadata": {},
     "output_type": "display_data"
    }
   ],
   "source": [
    "null_class_objs_count = (balanced_df['target'] == 0).sum()\n",
    "first_class_objs_count = (balanced_df['target'] == 1).sum()\n",
    "plt.figure()\n",
    "plt.bar(['0', '1'], [null_class_objs_count, first_class_objs_count])"
   ]
  },
  {
   "cell_type": "code",
   "execution_count": 19,
   "metadata": {},
   "outputs": [],
   "source": [
    "balanced_df.to_csv('balanced_df.csv', index=False)"
   ]
  },
  {
   "cell_type": "markdown",
   "metadata": {},
   "source": [
    "# Разделяем датасет на learn и test части"
   ]
  },
  {
   "cell_type": "markdown",
   "metadata": {},
   "source": [
    "##### Замечания\n",
    "* Даже часть тестовых данных не должна вхолить в обучающую выборку => случайным семплированием я не обойдусь!\n",
    "* Так как датасет несбалансирован, а после балансировки будет иметь всего лишь 28918 примеров"
   ]
  },
  {
   "cell_type": "code",
   "execution_count": 20,
   "metadata": {},
   "outputs": [
    {
     "data": {
      "text/plain": [
       "6294"
      ]
     },
     "execution_count": 20,
     "metadata": {},
     "output_type": "execute_result"
    }
   ],
   "source": [
    "num_data_to_learn = balanced_df.shape[0] - TEST_DATA_NUM\n",
    "num_data_to_learn"
   ]
  },
  {
   "cell_type": "markdown",
   "metadata": {},
   "source": [
    "Получается всего лишь 6294 примеров для обучения модели! Возможно этого и достаточно, но это кажется очень малым относительно исходного датасета!"
   ]
  },
  {
   "cell_type": "code",
   "execution_count": 21,
   "metadata": {},
   "outputs": [],
   "source": [
    "learn_df = balanced_df.iloc[:num_data_to_learn]\n",
    "test_df = balanced_df.iloc[num_data_to_learn:]\n",
    "test_df.to_csv('insclass_test.csv', index=False)"
   ]
  },
  {
   "cell_type": "code",
   "execution_count": 22,
   "metadata": {},
   "outputs": [],
   "source": [
    "# learn_df.to_csv('learn_df', index=False)\n",
    "# test_df.to_csv('learn_df', index=False)"
   ]
  },
  {
   "cell_type": "markdown",
   "metadata": {},
   "source": [
    "# GD классификация"
   ]
  },
  {
   "cell_type": "code",
   "execution_count": 23,
   "metadata": {},
   "outputs": [],
   "source": [
    "class LogisticRegressionGD(object):\n",
    "    \n",
    "    def __init__(self, intercept: bool = True): \n",
    "        self.a = None\n",
    "\n",
    "    def sigmoid(self, z):\n",
    "        return 1 / (1 + np.exp(-z))\n",
    "    \n",
    "    def predict(self, x, intercept: bool = False):\n",
    "        if intercept is True:\n",
    "            x_ = np.hstack((np.ones((x.shape[0],1)), x))\n",
    "        else:\n",
    "            x_ = x\n",
    "\n",
    "        z = x_ @ self.a\n",
    "        return self.sigmoid(z)\n",
    "\n",
    "    def coefs(self):\n",
    "        return self.a\n",
    "    def LogLikelihood(self, x, Y):\n",
    "        predict = self.predict(x)\n",
    "        return -sum(Y * np.log2(predict) + (1 - Y) * np.log2(1 - predict)) / self.m\n",
    "    def CrossEntropy(self, x, Y):\n",
    "        return (-Y*np.log(self.predict(x)) - (1- Y)*np.log(1 - self.predict(x))).sum()\n",
    "\n",
    "    def accuracy(self, x, Y, intercept: bool):\n",
    "        x = x.copy()\n",
    "        Y = Y.copy()\n",
    "        \n",
    "        if intercept:\n",
    "            x = np.hstack((np.ones((x.shape[0], 1)), x))  \n",
    "        \n",
    "        predicts = self.predict(np.array(x))\n",
    "        binary_predicts = np.rint(predicts)\n",
    "        np_target = np.array(Y).reshape(x.shape[0], 1)\n",
    "\n",
    "        compare_target_predict = binary_predicts == np_target\n",
    "        num_right_answers = compare_target_predict.sum()\n",
    "\n",
    "        accuracy = num_right_answers / np_target.shape[0]\n",
    "        return accuracy\n",
    "    \n",
    "    def fit(self, x, Y, intercept: bool = True, alpha = 0.001, epsylon = 0.01, max_steps = 2500, Rtype = \"LL\"):\n",
    "        \n",
    "        x = x.copy()\n",
    "        Y = Y.copy()\n",
    "\n",
    "        if intercept:\n",
    "            x = np.hstack((np.ones((x.shape[0], 1)), x))   \n",
    "        \n",
    "        self.a = np.zeros(x.shape[1]).reshape(x.shape[1], 1)\n",
    "        self.m = x.shape[0]\n",
    "        \n",
    "        x = np.array(x)\n",
    "        Y = np.array(Y)\n",
    "        Y = Y.reshape(Y.shape[0], 1)        # приводим адекватной форме для работы @ в numpy\n",
    "\n",
    "        steps, errors = [], []\n",
    "        step = 0\n",
    "        for _ in range(max_steps):\n",
    "            if Rtype == \"LL\":\n",
    "                new_error = self.LogLikelihood(x, Y)\n",
    "                dJ = x.T @ (self.predict(x) - Y) / self.m\n",
    "                self.a -= alpha * dJ\n",
    "            elif Rtype == \"CE\":\n",
    "                raise Exception('TODO')\n",
    "                # new_error = self.CrossEntropy(x, Y)\n",
    "                # #display(new_error)\n",
    "                # dT_a = -x.T @(Y - self.predict(x))\n",
    "                # self.a -= alpha*dT_a\n",
    "            step += 1\n",
    "            steps.append(step)\n",
    "            errors.append(new_error)\n",
    "            if abs(new_error) < epsylon or len(steps) > max_steps:  # лучше использовать норму антиградиента\n",
    "               break\n",
    "        return steps, errors"
   ]
  },
  {
   "cell_type": "markdown",
   "metadata": {},
   "source": [
    "# Обучение модели"
   ]
  },
  {
   "cell_type": "code",
   "execution_count": 24,
   "metadata": {},
   "outputs": [],
   "source": [
    "X = learn_df.drop(['target'], axis=1)\n",
    "Y = learn_df['target']\n",
    "\n",
    "log_classification = LogisticRegressionGD(intercept=True)\n",
    "steps, errors = log_classification.fit(X, Y,  alpha = 2, epsylon = 0.1, max_steps = 400, Rtype = \"LL\")"
   ]
  },
  {
   "cell_type": "code",
   "execution_count": 25,
   "metadata": {},
   "outputs": [
    {
     "data": {
      "text/plain": [
       "[<matplotlib.lines.Line2D at 0x23b03f8de40>]"
      ]
     },
     "execution_count": 25,
     "metadata": {},
     "output_type": "execute_result"
    },
    {
     "data": {
      "image/png": "[encoded data removed]",
      "text/plain": [
       "<Figure size 640x480 with 1 Axes>"
      ]
     },
     "metadata": {},
     "output_type": "display_data"
    }
   ],
   "source": [
    "plt.figure()\n",
    "plt.title('График ошибки')\n",
    "plt.xlabel('Итерации')\n",
    "plt.plot(steps, errors)"
   ]
  },
  {
   "cell_type": "code",
   "execution_count": 26,
   "metadata": {},
   "outputs": [
    {
     "data": {
      "text/plain": [
       "array([0.95033402])"
      ]
     },
     "execution_count": 26,
     "metadata": {},
     "output_type": "execute_result"
    }
   ],
   "source": [
    "errors[-1]"
   ]
  },
  {
   "cell_type": "markdown",
   "metadata": {},
   "source": [
    "# Тестируем обученную модель"
   ]
  },
  {
   "cell_type": "markdown",
   "metadata": {},
   "source": [
    "Сравниваем полученные результаты классификации с истинными значениями классов"
   ]
  },
  {
   "cell_type": "code",
   "execution_count": 27,
   "metadata": {},
   "outputs": [
    {
     "data": {
      "text/plain": [
       "0.5666106789250354"
      ]
     },
     "execution_count": 27,
     "metadata": {},
     "output_type": "execute_result"
    }
   ],
   "source": [
    "test_df = pd.read_csv('insclass_test.csv')\n",
    "test_x = test_df.drop(['target'], axis=1)\n",
    "log_classification.accuracy(x=test_x, Y=test_df['target'], intercept=True)\n"
   ]
  },
  {
   "cell_type": "markdown",
   "metadata": {},
   "source": [
    "f1 score"
   ]
  },
  {
   "cell_type": "code",
   "execution_count": 28,
   "metadata": {},
   "outputs": [
    {
     "data": {
      "text/plain": [
       "0.3087768769827282"
      ]
     },
     "execution_count": 28,
     "metadata": {},
     "output_type": "execute_result"
    }
   ],
   "source": [
    "y_preidct = log_classification.predict(test_x, intercept=True)\n",
    "binary_predicts = np.rint(y_preidct)\n",
    "f1_score(y_true=test_df['target'], y_pred=binary_predicts)"
   ]
  },
  {
   "cell_type": "markdown",
   "metadata": {},
   "source": [
    "Протетсируем на данных сбалансированного датасета "
   ]
  },
  {
   "cell_type": "markdown",
   "metadata": {},
   "source": [
    "accuracy"
   ]
  },
  {
   "cell_type": "code",
   "execution_count": 29,
   "metadata": {},
   "outputs": [
    {
     "data": {
      "text/plain": [
       "0.5684779154750557"
      ]
     },
     "execution_count": 29,
     "metadata": {},
     "output_type": "execute_result"
    }
   ],
   "source": [
    "x = learn_df.drop(['target'], axis=1)\n",
    "log_classification.accuracy(x=x, Y=learn_df['target'], intercept=True)"
   ]
  },
  {
   "cell_type": "markdown",
   "metadata": {},
   "source": [
    "f1 score"
   ]
  },
  {
   "cell_type": "code",
   "execution_count": 30,
   "metadata": {},
   "outputs": [
    {
     "data": {
      "text/plain": [
       "0.30784913353720694"
      ]
     },
     "execution_count": 30,
     "metadata": {},
     "output_type": "execute_result"
    }
   ],
   "source": [
    "y_preidct = log_classification.predict(learn_df.drop(['target'], axis=1), intercept=True)\n",
    "binary_predicts = np.rint(y_preidct)\n",
    "f1_score(y_true=learn_df['target'], y_pred=binary_predicts)"
   ]
  },
  {
   "cell_type": "markdown",
   "metadata": {},
   "source": [
    "Как видим точность сильно хуже !"
   ]
  },
  {
   "cell_type": "markdown",
   "metadata": {},
   "source": [
    "# SGD классификация"
   ]
  },
  {
   "cell_type": "code",
   "execution_count": 31,
   "metadata": {},
   "outputs": [],
   "source": [
    "class BinaryClassificationSGD:\n",
    "    def __init__(self, lr=0.01, max_iter=1000, batch_size=32, tol=1e-3, intercept = True):\n",
    "        # скорость обучения градиентного спуска\n",
    "        self.learning_rate = lr \n",
    "        # максимальное число итераций\n",
    "        self.max_iteration = max_iter \n",
    "        # размер мини-батча \n",
    "        self.batch_size = batch_size  \n",
    "        # критерий сходимости  \n",
    "        self.tolerance_convergence  = tol\n",
    "        # наличие свободного члена\n",
    "        self.intercept = intercept\n",
    "        # инициальзация весов: None\n",
    "        self.theta = None\n",
    "        self.n = None\n",
    "        self.d = None\n",
    "         \n",
    "    def accuracy(self, x, Y):\n",
    "        x = x.copy()\n",
    "        Y = Y.copy()\n",
    "        \n",
    "        predicts = self.predict(np.array(x))\n",
    "        binary_predicts = np.rint(predicts)\n",
    "        np_target = np.array(Y).reshape(x.shape[0], 1)\n",
    "\n",
    "        compare_target_predict = binary_predicts == np_target\n",
    "        num_right_answers = compare_target_predict.sum()\n",
    "\n",
    "        accuracy = num_right_answers / np_target.shape[0]\n",
    "        return accuracy\n",
    "    \n",
    "    def fit(self, X, y):\n",
    "        self.X = np.array(X.copy())\n",
    "        self.y = np.array(y.copy())\n",
    "        if self.intercept:\n",
    "            self.X = np.hstack((np.ones((self.X.shape[0], 1)), self.X))   \n",
    "        # размерность вектора X \n",
    "        self.n, self.d = self.X.shape\n",
    "        # инициализация случайных весов\n",
    "        self.theta = np.random.randn(self.d)\n",
    "        steps, errors = [], []\n",
    "        step = 0\n",
    "        for _ in range(self.max_iteration):\n",
    "            # перемешивание данных\n",
    "            indices = np.random.permutation(self.n)\n",
    "            X = self.X[indices]\n",
    "            y = self.y[indices]\n",
    "            # цикл по мини-батчам\n",
    "            for i in range(0, self.n, self.batch_size):\n",
    "                X_batch = X[i:i+self.batch_size]\n",
    "                y_batch = y[i:i+self.batch_size]\n",
    "                grad = self.gradient(X_batch, y_batch)\n",
    "                self.theta -= self.learning_rate * grad\n",
    "            new_error = ((self.y - self.X @ self.theta).T @ (self.y - self.X @ self.theta)) / self.n\n",
    "            step += 1\n",
    "            steps.append(step)\n",
    "            errors.append(new_error)\n",
    "            # проверка сходимости\n",
    "            if np.linalg.norm(grad) < self.tolerance_convergence:\n",
    "                break\n",
    "        return steps, errors\n",
    "    \n",
    "    def gradient(self, X, y):\n",
    "        return X.T @ (X @ self.theta - y) / len(y)\n",
    "             \n",
    "    def predict(self, X):\n",
    "        if self.intercept:\n",
    "            X_ = np.hstack((np.ones((X.shape[0],1)), X))\n",
    "        else:\n",
    "            X_ = X\n",
    "        z = X_ @ self.theta\n",
    "        return 1 / (1 + np.exp(-z))\n",
    "\n",
    "    def MSE(self, X, y):\n",
    "        return ((y - self.predict(X)).T @ (y - self.predict(X))) / len(y)\n",
    "    \n",
    "    def MAE(self, X, y):\n",
    "        return abs(y - self.predict(X)).mean()\n",
    "    \n",
    "    def MAPE(self, X, y):\n",
    "        return abs((y - self.predict(X))/y).mean()\n"
   ]
  },
  {
   "cell_type": "code",
   "execution_count": 32,
   "metadata": {},
   "outputs": [],
   "source": [
    "sgd_classificator = BinaryClassificationSGD(max_iter=400)\n",
    "steps, errors = sgd_classificator.fit(X=learn_df.drop(['target'], axis=1), y=learn_df['target'])"
   ]
  },
  {
   "cell_type": "code",
   "execution_count": 33,
   "metadata": {},
   "outputs": [
    {
     "data": {
      "text/plain": [
       "[<matplotlib.lines.Line2D at 0x23b040031f0>]"
      ]
     },
     "execution_count": 33,
     "metadata": {},
     "output_type": "execute_result"
    },
    {
     "data": {
      "image/png": "[encoded data removed]",
      "text/plain": [
       "<Figure size 640x480 with 1 Axes>"
      ]
     },
     "metadata": {},
     "output_type": "display_data"
    }
   ],
   "source": [
    "plt.figure()\n",
    "plt.title('График ошибки')\n",
    "plt.xlabel('Итерации')\n",
    "plt.plot(steps, errors)"
   ]
  },
  {
   "cell_type": "code",
   "execution_count": 34,
   "metadata": {},
   "outputs": [
    {
     "data": {
      "text/plain": [
       "0.6677658697444353"
      ]
     },
     "execution_count": 34,
     "metadata": {},
     "output_type": "execute_result"
    }
   ],
   "source": [
    "\n",
    "y_preidct = sgd_classificator.predict(test_df.drop(['target'], axis=1))\n",
    "binary_predicts = np.rint(y_preidct)\n",
    "f1_score(y_true=test_df['target'], y_pred=binary_predicts)"
   ]
  },
  {
   "cell_type": "code",
   "execution_count": 35,
   "metadata": {},
   "outputs": [
    {
     "data": {
      "text/plain": [
       "0.6627005205566769"
      ]
     },
     "execution_count": 35,
     "metadata": {},
     "output_type": "execute_result"
    }
   ],
   "source": [
    " \n",
    "y_preidct = sgd_classificator.predict(learn_df.drop(['target'], axis=1))\n",
    "binary_predicts = np.rint(y_preidct)\n",
    "f1_score(y_true=learn_df['target'], y_pred=binary_predicts)"
   ]
  },
  {
   "cell_type": "code",
   "execution_count": 36,
   "metadata": {},
   "outputs": [
    {
     "data": {
      "text/plain": [
       "11340.0"
      ]
     },
     "execution_count": 36,
     "metadata": {},
     "output_type": "execute_result"
    }
   ],
   "source": [
    "\n",
    "sgd_classificator.accuracy(x=test_x, Y=test_df['target'])\n"
   ]
  }
 ],
 "metadata": {
  "kernelspec": {
   "display_name": ".venv",
   "language": "python",
   "name": "python3"
  },
  "language_info": {
   "codemirror_mode": {
    "name": "ipython",
    "version": 3
   },
   "file_extension": ".py",
   "mimetype": "text/x-python",
   "name": "python",
   "nbconvert_exporter": "python",
   "pygments_lexer": "ipython3",
   "version": "3.10.11"
  }
 },
 "nbformat": 4,
 "nbformat_minor": 2
}
