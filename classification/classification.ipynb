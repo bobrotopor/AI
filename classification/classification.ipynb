{
 "cells": [
  {
   "cell_type": "code",
   "execution_count": 35,
   "metadata": {},
   "outputs": [],
   "source": [
    "#Загрузим необходимые библиотеки\n",
    "import numpy as np\n",
    "import pandas as pd\n",
    "import matplotlib.pyplot as plt\n",
    "from icecream import ic\n",
    "from sklearn.impute import SimpleImputer\n",
    "from sklearn.metrics import f1_score"
   ]
  },
  {
   "cell_type": "markdown",
   "metadata": {},
   "source": [
    "# Условие\n",
    "\n",
    "- Реализовать расчеты способами а и б для набора данных из файла insclass_train.csv/\n",
    "2- Для 151 406 договоров страхования транспортных средств известны значения ряда признаков,\n",
    "в том числе пол, возраст, стаж вождения и коэффициент бонус-малус водителя, тип, марка, модель,\n",
    "год выпуска, страна – производитель, мощность и объем двигателя, а также признак target, равный 1,\n",
    " если заключение договора с клиентом является рисковым, и 0 в противном случае (файл insclass_train.csv).\n",
    "\n",
    "- Требуется построить модель, предсказывающую значение признака target для 22 624 договоров из тестового набора данных (файл insclass_test.csv).\n",
    "\n",
    "- В обучающем наборе данных для каждого договора известны следующие поля:\n",
    "\n",
    "variable_1 - агрегированный коэффициент бонус-малус (повышающий или понижающий стоимость полиса в зависимости от аварийности в предыдущие периоды);\n",
    "\n",
    "variable_2 - индикатор расторжения договора по инициативе страхователя (клиента);\n",
    "\n",
    "variable_3 - индикатор расторжения договора по инициативе страховщика (страховой компании);\n",
    "\n",
    "variable_4 - идентификатор года выпуска транспортного средства;\n",
    "\n",
    "variable_5 - идентификатор страны - производителя транспортного средства;\n",
    "\n",
    "variable_6 - мощность двигателя в лошадиных силах;\n",
    "\n",
    "variable_7 - объем двигателя в куб. см;\n",
    "\n",
    "variable_8 - идентификатор стороны расположения руля (левый или правый);\n",
    "\n",
    "variable_9 - пробег транспортного средства, покрываемый гарантией производителя;\n",
    "\n",
    "variable_10 - индикатор действия гарантии на транспортное средство;\n",
    "\n",
    "variable_11 - \"мультидрайв\" - индикатор допуска к управлению транспортным средством более одного водителя;\n",
    "\n",
    "variable_12 - возраст транспортного средства (в мес.);\n",
    "\n",
    "variable_13 - возраст водителя с максимальным стажем;\n",
    "\n",
    "variable_14 - коэффициент возраст-стаж;\n",
    "\n",
    "variable_15 - коэффициент краткосрочности;\n",
    "\n",
    "variable_16 - коэффициент мощности;\n",
    "\n",
    "variable_17 - коэффициент \"мультидрайв\";\n",
    "\n",
    "variable_18 - территориальный коэффициент;\n",
    "\n",
    "variable_19 - коэффициент \"КНДР\";\n",
    "\n",
    "variable_20 - идентификатор канала продаж;\n",
    "\n",
    "variable_21 - марка транспортного средства;\n",
    "\n",
    "variable_22 - модель транспортного средства;\n",
    "\n",
    "variable_23 - индикатор отечественных транспортных средств;\n",
    "\n",
    "variable_24 - пол водителя с максимальным коэффициентом \"возраст-стаж\";\n",
    "\n",
    "variable_25 - индикатор пролонгации;\n",
    "\n",
    "variable_26 - индикатор совпадения собственника транспортного средства и водителя;\n",
    "\n",
    "variable_27 - стаж водителя с максимальным коэффициентом \"возраст-стаж\";\n",
    "\n",
    "variable_28 - тип транспортного средства;\n",
    "\n",
    "target - класс риска, равный 1, если заключение договора с клиентом является рисковым, и 0 в противном случае."
   ]
  },
  {
   "cell_type": "code",
   "execution_count": 36,
   "metadata": {},
   "outputs": [],
   "source": [
    "TEST_DATA_NUM = 22624"
   ]
  },
  {
   "cell_type": "markdown",
   "metadata": {},
   "source": [
    "# Подготовка данных "
   ]
  },
  {
   "cell_type": "code",
   "execution_count": 37,
   "metadata": {},
   "outputs": [],
   "source": [
    "init_df = pd.read_csv('insclass_train.csv')\n",
    "refacted_df = init_df.copy()"
   ]
  },
  {
   "cell_type": "markdown",
   "metadata": {},
   "source": [
    "### 1 Энкодим строковые признаки"
   ]
  },
  {
   "cell_type": "code",
   "execution_count": 38,
   "metadata": {},
   "outputs": [
    {
     "data": {
      "text/html": [
       "<div>\n",
       "<style scoped>\n",
       "    .dataframe tbody tr th:only-of-type {\n",
       "        vertical-align: middle;\n",
       "    }\n",
       "\n",
       "    .dataframe tbody tr th {\n",
       "        vertical-align: top;\n",
       "    }\n",
       "\n",
       "    .dataframe thead th {\n",
       "        text-align: right;\n",
       "    }\n",
       "</style>\n",
       "<table border=\"1\" class=\"dataframe\">\n",
       "  <thead>\n",
       "    <tr style=\"text-align: right;\">\n",
       "      <th></th>\n",
       "      <th>variable_1</th>\n",
       "      <th>variable_5</th>\n",
       "      <th>variable_20</th>\n",
       "      <th>variable_21</th>\n",
       "      <th>variable_22</th>\n",
       "      <th>variable_28</th>\n",
       "    </tr>\n",
       "  </thead>\n",
       "  <tbody>\n",
       "    <tr>\n",
       "      <th>0</th>\n",
       "      <td>8</td>\n",
       "      <td>12</td>\n",
       "      <td>2</td>\n",
       "      <td>92</td>\n",
       "      <td>910</td>\n",
       "      <td>0</td>\n",
       "    </tr>\n",
       "    <tr>\n",
       "      <th>1</th>\n",
       "      <td>4</td>\n",
       "      <td>3</td>\n",
       "      <td>2</td>\n",
       "      <td>123</td>\n",
       "      <td>679</td>\n",
       "      <td>0</td>\n",
       "    </tr>\n",
       "    <tr>\n",
       "      <th>2</th>\n",
       "      <td>8</td>\n",
       "      <td>23</td>\n",
       "      <td>1</td>\n",
       "      <td>23</td>\n",
       "      <td>728</td>\n",
       "      <td>0</td>\n",
       "    </tr>\n",
       "    <tr>\n",
       "      <th>3</th>\n",
       "      <td>8</td>\n",
       "      <td>23</td>\n",
       "      <td>2</td>\n",
       "      <td>23</td>\n",
       "      <td>1112</td>\n",
       "      <td>0</td>\n",
       "    </tr>\n",
       "    <tr>\n",
       "      <th>4</th>\n",
       "      <td>8</td>\n",
       "      <td>13</td>\n",
       "      <td>2</td>\n",
       "      <td>14</td>\n",
       "      <td>1467</td>\n",
       "      <td>0</td>\n",
       "    </tr>\n",
       "  </tbody>\n",
       "</table>\n",
       "</div>"
      ],
      "text/plain": [
       "   variable_1  variable_5  variable_20  variable_21  variable_22  variable_28\n",
       "0           8          12            2           92          910            0\n",
       "1           4           3            2          123          679            0\n",
       "2           8          23            1           23          728            0\n",
       "3           8          23            2           23         1112            0\n",
       "4           8          13            2           14         1467            0"
      ]
     },
     "execution_count": 38,
     "metadata": {},
     "output_type": "execute_result"
    }
   ],
   "source": [
    "from sklearn import preprocessing\n",
    "\n",
    "label_encoder = preprocessing.LabelEncoder()\n",
    "\n",
    "need_encoding_cols = refacted_df.select_dtypes(include='object').columns\n",
    "\n",
    "for col_name in need_encoding_cols:\n",
    "    # закидываем множество значений признака для операции энкодинга\n",
    "    label_encoder.fit(refacted_df[col_name].unique())   \n",
    "    refacted_df[col_name] = label_encoder.transform(refacted_df[col_name])\n",
    "\n",
    "refacted_df[need_encoding_cols].head()"
   ]
  },
  {
   "cell_type": "markdown",
   "metadata": {},
   "source": [
    "### 2 Уничтожаем NaN"
   ]
  },
  {
   "cell_type": "code",
   "execution_count": 39,
   "metadata": {},
   "outputs": [
    {
     "data": {
      "text/plain": [
       "variable_6        111\n",
       "variable_7      95639\n",
       "variable_8      29899\n",
       "variable_9     134436\n",
       "variable_12      1528\n",
       "variable_13      1657\n",
       "variable_14      2927\n",
       "variable_15    151393\n",
       "variable_16        12\n",
       "variable_17        12\n",
       "variable_18        12\n",
       "variable_20         1\n",
       "variable_24      2207\n",
       "variable_27      2067\n",
       "dtype: int64"
      ]
     },
     "execution_count": 39,
     "metadata": {},
     "output_type": "execute_result"
    }
   ],
   "source": [
    "keys_with_nan = init_df.isna().sum()    \n",
    "keys_with_nan = keys_with_nan[keys_with_nan !=0]\n",
    "keys_with_nan\n"
   ]
  },
  {
   "cell_type": "markdown",
   "metadata": {},
   "source": [
    "variable_9 и variable_15 не несут полезной информации, тк как Nan в них > 90% от датасета!"
   ]
  },
  {
   "cell_type": "code",
   "execution_count": 40,
   "metadata": {},
   "outputs": [
    {
     "data": {
      "text/html": [
       "<div>\n",
       "<style scoped>\n",
       "    .dataframe tbody tr th:only-of-type {\n",
       "        vertical-align: middle;\n",
       "    }\n",
       "\n",
       "    .dataframe tbody tr th {\n",
       "        vertical-align: top;\n",
       "    }\n",
       "\n",
       "    .dataframe thead th {\n",
       "        text-align: right;\n",
       "    }\n",
       "</style>\n",
       "<table border=\"1\" class=\"dataframe\">\n",
       "  <thead>\n",
       "    <tr style=\"text-align: right;\">\n",
       "      <th></th>\n",
       "      <th>variable_1</th>\n",
       "      <th>variable_2</th>\n",
       "      <th>variable_3</th>\n",
       "      <th>variable_4</th>\n",
       "      <th>variable_5</th>\n",
       "      <th>variable_6</th>\n",
       "      <th>variable_7</th>\n",
       "      <th>variable_8</th>\n",
       "      <th>variable_10</th>\n",
       "      <th>variable_11</th>\n",
       "      <th>...</th>\n",
       "      <th>variable_20</th>\n",
       "      <th>variable_21</th>\n",
       "      <th>variable_22</th>\n",
       "      <th>variable_23</th>\n",
       "      <th>variable_24</th>\n",
       "      <th>variable_25</th>\n",
       "      <th>variable_26</th>\n",
       "      <th>variable_27</th>\n",
       "      <th>variable_28</th>\n",
       "      <th>target</th>\n",
       "    </tr>\n",
       "  </thead>\n",
       "  <tbody>\n",
       "    <tr>\n",
       "      <th>0</th>\n",
       "      <td>8</td>\n",
       "      <td>0</td>\n",
       "      <td>0</td>\n",
       "      <td>14</td>\n",
       "      <td>12</td>\n",
       "      <td>98.0</td>\n",
       "      <td>NaN</td>\n",
       "      <td>0.0</td>\n",
       "      <td>0</td>\n",
       "      <td>0</td>\n",
       "      <td>...</td>\n",
       "      <td>2</td>\n",
       "      <td>92</td>\n",
       "      <td>910</td>\n",
       "      <td>0</td>\n",
       "      <td>0.0</td>\n",
       "      <td>0</td>\n",
       "      <td>1</td>\n",
       "      <td>19.323463</td>\n",
       "      <td>0</td>\n",
       "      <td>0</td>\n",
       "    </tr>\n",
       "    <tr>\n",
       "      <th>1</th>\n",
       "      <td>4</td>\n",
       "      <td>0</td>\n",
       "      <td>0</td>\n",
       "      <td>7</td>\n",
       "      <td>3</td>\n",
       "      <td>106.0</td>\n",
       "      <td>NaN</td>\n",
       "      <td>0.0</td>\n",
       "      <td>0</td>\n",
       "      <td>0</td>\n",
       "      <td>...</td>\n",
       "      <td>2</td>\n",
       "      <td>123</td>\n",
       "      <td>679</td>\n",
       "      <td>0</td>\n",
       "      <td>1.0</td>\n",
       "      <td>0</td>\n",
       "      <td>1</td>\n",
       "      <td>41.177900</td>\n",
       "      <td>0</td>\n",
       "      <td>0</td>\n",
       "    </tr>\n",
       "    <tr>\n",
       "      <th>2</th>\n",
       "      <td>8</td>\n",
       "      <td>0</td>\n",
       "      <td>0</td>\n",
       "      <td>4</td>\n",
       "      <td>23</td>\n",
       "      <td>123.0</td>\n",
       "      <td>NaN</td>\n",
       "      <td>0.0</td>\n",
       "      <td>0</td>\n",
       "      <td>0</td>\n",
       "      <td>...</td>\n",
       "      <td>1</td>\n",
       "      <td>23</td>\n",
       "      <td>728</td>\n",
       "      <td>0</td>\n",
       "      <td>0.0</td>\n",
       "      <td>0</td>\n",
       "      <td>1</td>\n",
       "      <td>3.614395</td>\n",
       "      <td>0</td>\n",
       "      <td>0</td>\n",
       "    </tr>\n",
       "    <tr>\n",
       "      <th>3</th>\n",
       "      <td>8</td>\n",
       "      <td>0</td>\n",
       "      <td>0</td>\n",
       "      <td>9</td>\n",
       "      <td>23</td>\n",
       "      <td>102.0</td>\n",
       "      <td>NaN</td>\n",
       "      <td>0.0</td>\n",
       "      <td>0</td>\n",
       "      <td>0</td>\n",
       "      <td>...</td>\n",
       "      <td>2</td>\n",
       "      <td>23</td>\n",
       "      <td>1112</td>\n",
       "      <td>0</td>\n",
       "      <td>1.0</td>\n",
       "      <td>0</td>\n",
       "      <td>0</td>\n",
       "      <td>49.041674</td>\n",
       "      <td>0</td>\n",
       "      <td>0</td>\n",
       "    </tr>\n",
       "    <tr>\n",
       "      <th>4</th>\n",
       "      <td>8</td>\n",
       "      <td>0</td>\n",
       "      <td>0</td>\n",
       "      <td>18</td>\n",
       "      <td>13</td>\n",
       "      <td>117.0</td>\n",
       "      <td>NaN</td>\n",
       "      <td>0.0</td>\n",
       "      <td>0</td>\n",
       "      <td>0</td>\n",
       "      <td>...</td>\n",
       "      <td>2</td>\n",
       "      <td>14</td>\n",
       "      <td>1467</td>\n",
       "      <td>0</td>\n",
       "      <td>1.0</td>\n",
       "      <td>0</td>\n",
       "      <td>0</td>\n",
       "      <td>17.909612</td>\n",
       "      <td>0</td>\n",
       "      <td>0</td>\n",
       "    </tr>\n",
       "  </tbody>\n",
       "</table>\n",
       "<p>5 rows × 27 columns</p>\n",
       "</div>"
      ],
      "text/plain": [
       "   variable_1  variable_2  variable_3  variable_4  variable_5  variable_6  \\\n",
       "0           8           0           0          14          12        98.0   \n",
       "1           4           0           0           7           3       106.0   \n",
       "2           8           0           0           4          23       123.0   \n",
       "3           8           0           0           9          23       102.0   \n",
       "4           8           0           0          18          13       117.0   \n",
       "\n",
       "   variable_7  variable_8  variable_10  variable_11  ...  variable_20  \\\n",
       "0         NaN         0.0            0            0  ...            2   \n",
       "1         NaN         0.0            0            0  ...            2   \n",
       "2         NaN         0.0            0            0  ...            1   \n",
       "3         NaN         0.0            0            0  ...            2   \n",
       "4         NaN         0.0            0            0  ...            2   \n",
       "\n",
       "   variable_21  variable_22  variable_23  variable_24  variable_25  \\\n",
       "0           92          910            0          0.0            0   \n",
       "1          123          679            0          1.0            0   \n",
       "2           23          728            0          0.0            0   \n",
       "3           23         1112            0          1.0            0   \n",
       "4           14         1467            0          1.0            0   \n",
       "\n",
       "   variable_26  variable_27  variable_28  target  \n",
       "0            1    19.323463            0       0  \n",
       "1            1    41.177900            0       0  \n",
       "2            1     3.614395            0       0  \n",
       "3            0    49.041674            0       0  \n",
       "4            0    17.909612            0       0  \n",
       "\n",
       "[5 rows x 27 columns]"
      ]
     },
     "execution_count": 40,
     "metadata": {},
     "output_type": "execute_result"
    }
   ],
   "source": [
    "refacted_df = refacted_df.drop(['variable_9', 'variable_15'], axis=1)\n",
    "keys_with_nan = keys_with_nan.drop(labels=['variable_9', 'variable_15'])\n",
    "refacted_df.head()"
   ]
  },
  {
   "cell_type": "code",
   "execution_count": 41,
   "metadata": {},
   "outputs": [
    {
     "data": {
      "text/plain": [
       "variable_6       111\n",
       "variable_7     95639\n",
       "variable_8     29899\n",
       "variable_12     1528\n",
       "variable_13     1657\n",
       "variable_14     2927\n",
       "variable_16       12\n",
       "variable_17       12\n",
       "variable_18       12\n",
       "variable_24     2207\n",
       "variable_27     2067\n",
       "dtype: int64"
      ]
     },
     "execution_count": 41,
     "metadata": {},
     "output_type": "execute_result"
    }
   ],
   "source": [
    "keys_with_nan = refacted_df.isna().sum()    \n",
    "keys_with_nan = keys_with_nan[keys_with_nan !=0]\n",
    "keys_with_nan"
   ]
  },
  {
   "cell_type": "code",
   "execution_count": 42,
   "metadata": {},
   "outputs": [
    {
     "data": {
      "text/html": [
       "<div>\n",
       "<style scoped>\n",
       "    .dataframe tbody tr th:only-of-type {\n",
       "        vertical-align: middle;\n",
       "    }\n",
       "\n",
       "    .dataframe tbody tr th {\n",
       "        vertical-align: top;\n",
       "    }\n",
       "\n",
       "    .dataframe thead th {\n",
       "        text-align: right;\n",
       "    }\n",
       "</style>\n",
       "<table border=\"1\" class=\"dataframe\">\n",
       "  <thead>\n",
       "    <tr style=\"text-align: right;\">\n",
       "      <th></th>\n",
       "      <th>variable_1</th>\n",
       "      <th>variable_2</th>\n",
       "      <th>variable_3</th>\n",
       "      <th>variable_4</th>\n",
       "      <th>variable_5</th>\n",
       "      <th>variable_6</th>\n",
       "      <th>variable_7</th>\n",
       "      <th>variable_8</th>\n",
       "      <th>variable_10</th>\n",
       "      <th>variable_11</th>\n",
       "      <th>...</th>\n",
       "      <th>variable_20</th>\n",
       "      <th>variable_21</th>\n",
       "      <th>variable_22</th>\n",
       "      <th>variable_23</th>\n",
       "      <th>variable_24</th>\n",
       "      <th>variable_25</th>\n",
       "      <th>variable_26</th>\n",
       "      <th>variable_27</th>\n",
       "      <th>variable_28</th>\n",
       "      <th>target</th>\n",
       "    </tr>\n",
       "  </thead>\n",
       "  <tbody>\n",
       "    <tr>\n",
       "      <th>0</th>\n",
       "      <td>8</td>\n",
       "      <td>0</td>\n",
       "      <td>0</td>\n",
       "      <td>14</td>\n",
       "      <td>12</td>\n",
       "      <td>98.0</td>\n",
       "      <td>NaN</td>\n",
       "      <td>0.0</td>\n",
       "      <td>0</td>\n",
       "      <td>0</td>\n",
       "      <td>...</td>\n",
       "      <td>2</td>\n",
       "      <td>92</td>\n",
       "      <td>910</td>\n",
       "      <td>0</td>\n",
       "      <td>0.0</td>\n",
       "      <td>0</td>\n",
       "      <td>1</td>\n",
       "      <td>19.323463</td>\n",
       "      <td>0</td>\n",
       "      <td>0</td>\n",
       "    </tr>\n",
       "    <tr>\n",
       "      <th>1</th>\n",
       "      <td>4</td>\n",
       "      <td>0</td>\n",
       "      <td>0</td>\n",
       "      <td>7</td>\n",
       "      <td>3</td>\n",
       "      <td>106.0</td>\n",
       "      <td>NaN</td>\n",
       "      <td>0.0</td>\n",
       "      <td>0</td>\n",
       "      <td>0</td>\n",
       "      <td>...</td>\n",
       "      <td>2</td>\n",
       "      <td>123</td>\n",
       "      <td>679</td>\n",
       "      <td>0</td>\n",
       "      <td>1.0</td>\n",
       "      <td>0</td>\n",
       "      <td>1</td>\n",
       "      <td>41.177900</td>\n",
       "      <td>0</td>\n",
       "      <td>0</td>\n",
       "    </tr>\n",
       "    <tr>\n",
       "      <th>2</th>\n",
       "      <td>8</td>\n",
       "      <td>0</td>\n",
       "      <td>0</td>\n",
       "      <td>4</td>\n",
       "      <td>23</td>\n",
       "      <td>123.0</td>\n",
       "      <td>NaN</td>\n",
       "      <td>0.0</td>\n",
       "      <td>0</td>\n",
       "      <td>0</td>\n",
       "      <td>...</td>\n",
       "      <td>1</td>\n",
       "      <td>23</td>\n",
       "      <td>728</td>\n",
       "      <td>0</td>\n",
       "      <td>0.0</td>\n",
       "      <td>0</td>\n",
       "      <td>1</td>\n",
       "      <td>3.614395</td>\n",
       "      <td>0</td>\n",
       "      <td>0</td>\n",
       "    </tr>\n",
       "    <tr>\n",
       "      <th>3</th>\n",
       "      <td>8</td>\n",
       "      <td>0</td>\n",
       "      <td>0</td>\n",
       "      <td>9</td>\n",
       "      <td>23</td>\n",
       "      <td>102.0</td>\n",
       "      <td>NaN</td>\n",
       "      <td>0.0</td>\n",
       "      <td>0</td>\n",
       "      <td>0</td>\n",
       "      <td>...</td>\n",
       "      <td>2</td>\n",
       "      <td>23</td>\n",
       "      <td>1112</td>\n",
       "      <td>0</td>\n",
       "      <td>1.0</td>\n",
       "      <td>0</td>\n",
       "      <td>0</td>\n",
       "      <td>49.041674</td>\n",
       "      <td>0</td>\n",
       "      <td>0</td>\n",
       "    </tr>\n",
       "    <tr>\n",
       "      <th>4</th>\n",
       "      <td>8</td>\n",
       "      <td>0</td>\n",
       "      <td>0</td>\n",
       "      <td>18</td>\n",
       "      <td>13</td>\n",
       "      <td>117.0</td>\n",
       "      <td>NaN</td>\n",
       "      <td>0.0</td>\n",
       "      <td>0</td>\n",
       "      <td>0</td>\n",
       "      <td>...</td>\n",
       "      <td>2</td>\n",
       "      <td>14</td>\n",
       "      <td>1467</td>\n",
       "      <td>0</td>\n",
       "      <td>1.0</td>\n",
       "      <td>0</td>\n",
       "      <td>0</td>\n",
       "      <td>17.909612</td>\n",
       "      <td>0</td>\n",
       "      <td>0</td>\n",
       "    </tr>\n",
       "  </tbody>\n",
       "</table>\n",
       "<p>5 rows × 27 columns</p>\n",
       "</div>"
      ],
      "text/plain": [
       "   variable_1  variable_2  variable_3  variable_4  variable_5  variable_6  \\\n",
       "0           8           0           0          14          12        98.0   \n",
       "1           4           0           0           7           3       106.0   \n",
       "2           8           0           0           4          23       123.0   \n",
       "3           8           0           0           9          23       102.0   \n",
       "4           8           0           0          18          13       117.0   \n",
       "\n",
       "   variable_7  variable_8  variable_10  variable_11  ...  variable_20  \\\n",
       "0         NaN         0.0            0            0  ...            2   \n",
       "1         NaN         0.0            0            0  ...            2   \n",
       "2         NaN         0.0            0            0  ...            1   \n",
       "3         NaN         0.0            0            0  ...            2   \n",
       "4         NaN         0.0            0            0  ...            2   \n",
       "\n",
       "   variable_21  variable_22  variable_23  variable_24  variable_25  \\\n",
       "0           92          910            0          0.0            0   \n",
       "1          123          679            0          1.0            0   \n",
       "2           23          728            0          0.0            0   \n",
       "3           23         1112            0          1.0            0   \n",
       "4           14         1467            0          1.0            0   \n",
       "\n",
       "   variable_26  variable_27  variable_28  target  \n",
       "0            1    19.323463            0       0  \n",
       "1            1    41.177900            0       0  \n",
       "2            1     3.614395            0       0  \n",
       "3            0    49.041674            0       0  \n",
       "4            0    17.909612            0       0  \n",
       "\n",
       "[5 rows x 27 columns]"
      ]
     },
     "execution_count": 42,
     "metadata": {},
     "output_type": "execute_result"
    }
   ],
   "source": [
    "refacted_df.head()"
   ]
  },
  {
   "cell_type": "markdown",
   "metadata": {},
   "source": [
    "Заполняем Nan средними занчениями"
   ]
  },
  {
   "cell_type": "code",
   "execution_count": 43,
   "metadata": {},
   "outputs": [
    {
     "data": {
      "text/html": [
       "<div>\n",
       "<style scoped>\n",
       "    .dataframe tbody tr th:only-of-type {\n",
       "        vertical-align: middle;\n",
       "    }\n",
       "\n",
       "    .dataframe tbody tr th {\n",
       "        vertical-align: top;\n",
       "    }\n",
       "\n",
       "    .dataframe thead th {\n",
       "        text-align: right;\n",
       "    }\n",
       "</style>\n",
       "<table border=\"1\" class=\"dataframe\">\n",
       "  <thead>\n",
       "    <tr style=\"text-align: right;\">\n",
       "      <th></th>\n",
       "      <th>variable_1</th>\n",
       "      <th>variable_2</th>\n",
       "      <th>variable_3</th>\n",
       "      <th>variable_4</th>\n",
       "      <th>variable_5</th>\n",
       "      <th>variable_6</th>\n",
       "      <th>variable_7</th>\n",
       "      <th>variable_8</th>\n",
       "      <th>variable_10</th>\n",
       "      <th>variable_11</th>\n",
       "      <th>...</th>\n",
       "      <th>variable_20</th>\n",
       "      <th>variable_21</th>\n",
       "      <th>variable_22</th>\n",
       "      <th>variable_23</th>\n",
       "      <th>variable_24</th>\n",
       "      <th>variable_25</th>\n",
       "      <th>variable_26</th>\n",
       "      <th>variable_27</th>\n",
       "      <th>variable_28</th>\n",
       "      <th>target</th>\n",
       "    </tr>\n",
       "  </thead>\n",
       "  <tbody>\n",
       "    <tr>\n",
       "      <th>0</th>\n",
       "      <td>8</td>\n",
       "      <td>0</td>\n",
       "      <td>0</td>\n",
       "      <td>14</td>\n",
       "      <td>12</td>\n",
       "      <td>98.0</td>\n",
       "      <td>1865.909732</td>\n",
       "      <td>0.0</td>\n",
       "      <td>0</td>\n",
       "      <td>0</td>\n",
       "      <td>...</td>\n",
       "      <td>2</td>\n",
       "      <td>92</td>\n",
       "      <td>910</td>\n",
       "      <td>0</td>\n",
       "      <td>0.0</td>\n",
       "      <td>0</td>\n",
       "      <td>1</td>\n",
       "      <td>19.323463</td>\n",
       "      <td>0</td>\n",
       "      <td>0</td>\n",
       "    </tr>\n",
       "    <tr>\n",
       "      <th>1</th>\n",
       "      <td>4</td>\n",
       "      <td>0</td>\n",
       "      <td>0</td>\n",
       "      <td>7</td>\n",
       "      <td>3</td>\n",
       "      <td>106.0</td>\n",
       "      <td>1865.909732</td>\n",
       "      <td>0.0</td>\n",
       "      <td>0</td>\n",
       "      <td>0</td>\n",
       "      <td>...</td>\n",
       "      <td>2</td>\n",
       "      <td>123</td>\n",
       "      <td>679</td>\n",
       "      <td>0</td>\n",
       "      <td>1.0</td>\n",
       "      <td>0</td>\n",
       "      <td>1</td>\n",
       "      <td>41.177900</td>\n",
       "      <td>0</td>\n",
       "      <td>0</td>\n",
       "    </tr>\n",
       "    <tr>\n",
       "      <th>2</th>\n",
       "      <td>8</td>\n",
       "      <td>0</td>\n",
       "      <td>0</td>\n",
       "      <td>4</td>\n",
       "      <td>23</td>\n",
       "      <td>123.0</td>\n",
       "      <td>1865.909732</td>\n",
       "      <td>0.0</td>\n",
       "      <td>0</td>\n",
       "      <td>0</td>\n",
       "      <td>...</td>\n",
       "      <td>1</td>\n",
       "      <td>23</td>\n",
       "      <td>728</td>\n",
       "      <td>0</td>\n",
       "      <td>0.0</td>\n",
       "      <td>0</td>\n",
       "      <td>1</td>\n",
       "      <td>3.614395</td>\n",
       "      <td>0</td>\n",
       "      <td>0</td>\n",
       "    </tr>\n",
       "    <tr>\n",
       "      <th>3</th>\n",
       "      <td>8</td>\n",
       "      <td>0</td>\n",
       "      <td>0</td>\n",
       "      <td>9</td>\n",
       "      <td>23</td>\n",
       "      <td>102.0</td>\n",
       "      <td>1865.909732</td>\n",
       "      <td>0.0</td>\n",
       "      <td>0</td>\n",
       "      <td>0</td>\n",
       "      <td>...</td>\n",
       "      <td>2</td>\n",
       "      <td>23</td>\n",
       "      <td>1112</td>\n",
       "      <td>0</td>\n",
       "      <td>1.0</td>\n",
       "      <td>0</td>\n",
       "      <td>0</td>\n",
       "      <td>49.041674</td>\n",
       "      <td>0</td>\n",
       "      <td>0</td>\n",
       "    </tr>\n",
       "    <tr>\n",
       "      <th>4</th>\n",
       "      <td>8</td>\n",
       "      <td>0</td>\n",
       "      <td>0</td>\n",
       "      <td>18</td>\n",
       "      <td>13</td>\n",
       "      <td>117.0</td>\n",
       "      <td>1865.909732</td>\n",
       "      <td>0.0</td>\n",
       "      <td>0</td>\n",
       "      <td>0</td>\n",
       "      <td>...</td>\n",
       "      <td>2</td>\n",
       "      <td>14</td>\n",
       "      <td>1467</td>\n",
       "      <td>0</td>\n",
       "      <td>1.0</td>\n",
       "      <td>0</td>\n",
       "      <td>0</td>\n",
       "      <td>17.909612</td>\n",
       "      <td>0</td>\n",
       "      <td>0</td>\n",
       "    </tr>\n",
       "  </tbody>\n",
       "</table>\n",
       "<p>5 rows × 27 columns</p>\n",
       "</div>"
      ],
      "text/plain": [
       "   variable_1  variable_2  variable_3  variable_4  variable_5  variable_6  \\\n",
       "0           8           0           0          14          12        98.0   \n",
       "1           4           0           0           7           3       106.0   \n",
       "2           8           0           0           4          23       123.0   \n",
       "3           8           0           0           9          23       102.0   \n",
       "4           8           0           0          18          13       117.0   \n",
       "\n",
       "    variable_7  variable_8  variable_10  variable_11  ...  variable_20  \\\n",
       "0  1865.909732         0.0            0            0  ...            2   \n",
       "1  1865.909732         0.0            0            0  ...            2   \n",
       "2  1865.909732         0.0            0            0  ...            1   \n",
       "3  1865.909732         0.0            0            0  ...            2   \n",
       "4  1865.909732         0.0            0            0  ...            2   \n",
       "\n",
       "   variable_21  variable_22  variable_23  variable_24  variable_25  \\\n",
       "0           92          910            0          0.0            0   \n",
       "1          123          679            0          1.0            0   \n",
       "2           23          728            0          0.0            0   \n",
       "3           23         1112            0          1.0            0   \n",
       "4           14         1467            0          1.0            0   \n",
       "\n",
       "   variable_26  variable_27  variable_28  target  \n",
       "0            1    19.323463            0       0  \n",
       "1            1    41.177900            0       0  \n",
       "2            1     3.614395            0       0  \n",
       "3            0    49.041674            0       0  \n",
       "4            0    17.909612            0       0  \n",
       "\n",
       "[5 rows x 27 columns]"
      ]
     },
     "execution_count": 43,
     "metadata": {},
     "output_type": "execute_result"
    }
   ],
   "source": [
    "\n",
    "imputer = SimpleImputer(missing_values=np.nan, strategy='mean')\n",
    "imputer = imputer.fit(refacted_df[keys_with_nan.index])\n",
    "\n",
    "refacted_df[keys_with_nan.index] = imputer.transform(refacted_df[keys_with_nan.index])\n",
    "refacted_df.head()"
   ]
  },
  {
   "cell_type": "markdown",
   "metadata": {},
   "source": [
    "Проверка: остались ли ещё NaN"
   ]
  },
  {
   "cell_type": "code",
   "execution_count": 44,
   "metadata": {},
   "outputs": [
    {
     "data": {
      "text/plain": [
       "Series([], dtype: int64)"
      ]
     },
     "execution_count": 44,
     "metadata": {},
     "output_type": "execute_result"
    }
   ],
   "source": [
    "keys_with_nan = refacted_df.isna().sum()\n",
    "keys_with_nan = keys_with_nan[keys_with_nan !=0]\n",
    "keys_with_nan"
   ]
  },
  {
   "cell_type": "markdown",
   "metadata": {},
   "source": [
    "### 3 Проверим есть ли признаки, с константными значениями"
   ]
  },
  {
   "cell_type": "code",
   "execution_count": 45,
   "metadata": {},
   "outputs": [
    {
     "data": {
      "text/plain": [
       "variable_1     False\n",
       "variable_2     False\n",
       "variable_3      True\n",
       "variable_4     False\n",
       "variable_5     False\n",
       "variable_6     False\n",
       "variable_7     False\n",
       "variable_8     False\n",
       "variable_10    False\n",
       "variable_11    False\n",
       "variable_12    False\n",
       "variable_13    False\n",
       "variable_14    False\n",
       "variable_16    False\n",
       "variable_17    False\n",
       "variable_18    False\n",
       "variable_19    False\n",
       "variable_20    False\n",
       "variable_21    False\n",
       "variable_22    False\n",
       "variable_23    False\n",
       "variable_24    False\n",
       "variable_25    False\n",
       "variable_26    False\n",
       "variable_27    False\n",
       "variable_28    False\n",
       "target         False\n",
       "dtype: bool"
      ]
     },
     "execution_count": 45,
     "metadata": {},
     "output_type": "execute_result"
    }
   ],
   "source": [
    "# сравниеваем каждое значение факторного признака с первым значением\n",
    "(refacted_df.iloc[0] == refacted_df).all()"
   ]
  },
  {
   "cell_type": "markdown",
   "metadata": {},
   "source": [
    "Шпион обнаружен - удаляем"
   ]
  },
  {
   "cell_type": "code",
   "execution_count": 46,
   "metadata": {},
   "outputs": [],
   "source": [
    "refacted_df = refacted_df.drop(['variable_3'], axis=1)"
   ]
  },
  {
   "cell_type": "markdown",
   "metadata": {},
   "source": [
    "### 3 Нормируем факторные признаки"
   ]
  },
  {
   "cell_type": "code",
   "execution_count": 47,
   "metadata": {},
   "outputs": [],
   "source": [
    "def mean_from_df(df: pd.DataFrame) -> float:\n",
    "    \"\"\"Можно пихать срезы.\"\"\"\n",
    "    means = df.mean()\n",
    "    return sum(means) / len(means)\n",
    "\n",
    "def norm_by_target(target_mean: float, not_normed_1d_arr: pd.Series):\n",
    "    not_normed_mean = not_normed_1d_arr.mean()\n",
    "    norm_coef = target_mean / not_normed_mean\n",
    "    return not_normed_1d_arr * norm_coef"
   ]
  },
  {
   "cell_type": "markdown",
   "metadata": {},
   "source": [
    "Создадим целевое срднее значение и список факторов для нормирования"
   ]
  },
  {
   "cell_type": "code",
   "execution_count": 48,
   "metadata": {},
   "outputs": [
    {
     "name": "stderr",
     "output_type": "stream",
     "text": [
      "ic| refacted_df[for_mean_cols].sum(): variable_2     2581\n",
      "                                      variable_10    2629\n",
      "                                      variable_11    2958\n",
      "                                      variable_28    2675\n",
      "                                      dtype: int64\n"
     ]
    },
    {
     "data": {
      "text/plain": [
       "variable_1      2710.75\n",
       "variable_2      2581.00\n",
       "variable_4      2710.75\n",
       "variable_5      2710.75\n",
       "variable_6      2710.75\n",
       "variable_7      2710.75\n",
       "variable_8      2710.75\n",
       "variable_10     2629.00\n",
       "variable_11     2958.00\n",
       "variable_12     2710.75\n",
       "variable_13     2710.75\n",
       "variable_14     2710.75\n",
       "variable_16     2710.75\n",
       "variable_17     2710.75\n",
       "variable_18     2710.75\n",
       "variable_19     2710.75\n",
       "variable_20     2710.75\n",
       "variable_21     2710.75\n",
       "variable_22     2710.75\n",
       "variable_23     2710.75\n",
       "variable_24     2710.75\n",
       "variable_25     2710.75\n",
       "variable_26     2710.75\n",
       "variable_27     2710.75\n",
       "variable_28     2675.00\n",
       "target         14459.00\n",
       "dtype: float64"
      ]
     },
     "execution_count": 48,
     "metadata": {},
     "output_type": "execute_result"
    }
   ],
   "source": [
    "for_mean_cols = ['variable_2', 'variable_10', 'variable_11', 'variable_28']\n",
    "ic(refacted_df[for_mean_cols].sum())\n",
    "target_mean = mean_from_df(refacted_df[for_mean_cols])\n",
    "\n",
    "all_factors_set =set(list(refacted_df.columns))\n",
    "mean_factors_set = set(for_mean_cols)\n",
    "\n",
    "need_to_norm_factors = all_factors_set - mean_factors_set\n",
    "need_to_norm_factors.remove('target')\n",
    "\n",
    "for factor in  need_to_norm_factors:\n",
    "    refacted_df[factor] = norm_by_target(target_mean=target_mean, not_normed_1d_arr=refacted_df[factor])\n",
    "refacted_df.sum()"
   ]
  },
  {
   "cell_type": "markdown",
   "metadata": {},
   "source": [
    "# Проверка сбалансированности датасета"
   ]
  },
  {
   "cell_type": "code",
   "execution_count": 50,
   "metadata": {},
   "outputs": [
    {
     "data": {
      "text/plain": [
       "<BarContainer object of 2 artists>"
      ]
     },
     "execution_count": 50,
     "metadata": {},
     "output_type": "execute_result"
    },
    {
     "data": {
      "image/png": "[encoded data removed]",
      "text/plain": [
       "<Figure size 640x480 with 1 Axes>"
      ]
     },
     "metadata": {},
     "output_type": "display_data"
    }
   ],
   "source": [
    "null_class_objs_count = (refacted_df['target'] == 0).sum()\n",
    "first_class_objs_count = (refacted_df['target'] == 1).sum()\n",
    "plt.figure()\n",
    "plt.bar(['0', '1'], [null_class_objs_count, first_class_objs_count])\n",
    "\n"
   ]
  },
  {
   "cell_type": "markdown",
   "metadata": {},
   "source": [
    "# Балансируем датасет"
   ]
  },
  {
   "cell_type": "code",
   "execution_count": 51,
   "metadata": {},
   "outputs": [
    {
     "name": "stderr",
     "output_type": "stream",
     "text": [
      "ic| zero_target_df_part.shape: (14459, "
     ]
    },
    {
     "name": "stderr",
     "output_type": "stream",
     "text": [
      "26)\n",
      "ic| (zero_target_df_part['target'] == 0).sum(): 14459\n",
      "ic| first_class_objs_count: 14459\n"
     ]
    },
    {
     "data": {
      "text/plain": [
       "14459"
      ]
     },
     "execution_count": 51,
     "metadata": {},
     "output_type": "execute_result"
    }
   ],
   "source": [
    "zero_target_df_part = refacted_df[refacted_df['target'] == 0].sample(n=first_class_objs_count, random_state=1)\n",
    "# проверка \n",
    "ic(zero_target_df_part.shape)\n",
    "ic((zero_target_df_part['target'] == 0).sum())\n",
    "ic(first_class_objs_count)"
   ]
  },
  {
   "cell_type": "markdown",
   "metadata": {},
   "source": [
    "Теперь супер важный момент - до этого я склеивал first_target_df_part c zero_target_df_part, но по хорошему их нужно премешивать! Иначе обучение будт происходит с избыточной законеомерностью - сначала идут пецики с 0-классом, а потом 1-классом "
   ]
  },
  {
   "cell_type": "code",
   "execution_count": 70,
   "metadata": {},
   "outputs": [
    {
     "data": {
      "text/html": [
       "<div>\n",
       "<style scoped>\n",
       "    .dataframe tbody tr th:only-of-type {\n",
       "        vertical-align: middle;\n",
       "    }\n",
       "\n",
       "    .dataframe tbody tr th {\n",
       "        vertical-align: top;\n",
       "    }\n",
       "\n",
       "    .dataframe thead th {\n",
       "        text-align: right;\n",
       "    }\n",
       "</style>\n",
       "<table border=\"1\" class=\"dataframe\">\n",
       "  <thead>\n",
       "    <tr style=\"text-align: right;\">\n",
       "      <th></th>\n",
       "      <th>variable_1</th>\n",
       "      <th>variable_2</th>\n",
       "      <th>variable_4</th>\n",
       "      <th>variable_5</th>\n",
       "      <th>variable_6</th>\n",
       "      <th>variable_7</th>\n",
       "      <th>variable_8</th>\n",
       "      <th>variable_10</th>\n",
       "      <th>variable_11</th>\n",
       "      <th>variable_12</th>\n",
       "      <th>...</th>\n",
       "      <th>variable_20</th>\n",
       "      <th>variable_21</th>\n",
       "      <th>variable_22</th>\n",
       "      <th>variable_23</th>\n",
       "      <th>variable_24</th>\n",
       "      <th>variable_25</th>\n",
       "      <th>variable_26</th>\n",
       "      <th>variable_27</th>\n",
       "      <th>variable_28</th>\n",
       "      <th>target</th>\n",
       "    </tr>\n",
       "  </thead>\n",
       "  <tbody>\n",
       "    <tr>\n",
       "      <th>18454</th>\n",
       "      <td>0.025491</td>\n",
       "      <td>0</td>\n",
       "      <td>0.036417</td>\n",
       "      <td>0.012802</td>\n",
       "      <td>0.021557</td>\n",
       "      <td>0.017904</td>\n",
       "      <td>0.0</td>\n",
       "      <td>0</td>\n",
       "      <td>0</td>\n",
       "      <td>0.037666</td>\n",
       "      <td>...</td>\n",
       "      <td>0.011508</td>\n",
       "      <td>0.025360</td>\n",
       "      <td>0.026575</td>\n",
       "      <td>0.000000</td>\n",
       "      <td>0.02429</td>\n",
       "      <td>0.0</td>\n",
       "      <td>0.020757</td>\n",
       "      <td>0.007422</td>\n",
       "      <td>0</td>\n",
       "      <td>1</td>\n",
       "    </tr>\n",
       "    <tr>\n",
       "      <th>120407</th>\n",
       "      <td>0.025491</td>\n",
       "      <td>0</td>\n",
       "      <td>0.030083</td>\n",
       "      <td>0.033073</td>\n",
       "      <td>0.010930</td>\n",
       "      <td>0.017904</td>\n",
       "      <td>0.0</td>\n",
       "      <td>0</td>\n",
       "      <td>0</td>\n",
       "      <td>0.031766</td>\n",
       "      <td>...</td>\n",
       "      <td>0.023016</td>\n",
       "      <td>0.029651</td>\n",
       "      <td>0.015596</td>\n",
       "      <td>0.088734</td>\n",
       "      <td>0.02429</td>\n",
       "      <td>0.0</td>\n",
       "      <td>0.020757</td>\n",
       "      <td>0.036596</td>\n",
       "      <td>0</td>\n",
       "      <td>0</td>\n",
       "    </tr>\n",
       "    <tr>\n",
       "      <th>56692</th>\n",
       "      <td>0.038237</td>\n",
       "      <td>0</td>\n",
       "      <td>0.017417</td>\n",
       "      <td>0.003201</td>\n",
       "      <td>0.019431</td>\n",
       "      <td>0.022558</td>\n",
       "      <td>0.0</td>\n",
       "      <td>0</td>\n",
       "      <td>0</td>\n",
       "      <td>0.018270</td>\n",
       "      <td>...</td>\n",
       "      <td>0.023016</td>\n",
       "      <td>0.021653</td>\n",
       "      <td>0.023703</td>\n",
       "      <td>0.000000</td>\n",
       "      <td>0.02429</td>\n",
       "      <td>0.0</td>\n",
       "      <td>0.020757</td>\n",
       "      <td>0.057952</td>\n",
       "      <td>0</td>\n",
       "      <td>0</td>\n",
       "    </tr>\n",
       "    <tr>\n",
       "      <th>10494</th>\n",
       "      <td>0.025491</td>\n",
       "      <td>0</td>\n",
       "      <td>0.036417</td>\n",
       "      <td>0.033073</td>\n",
       "      <td>0.004402</td>\n",
       "      <td>0.017904</td>\n",
       "      <td>0.0</td>\n",
       "      <td>0</td>\n",
       "      <td>0</td>\n",
       "      <td>0.037794</td>\n",
       "      <td>...</td>\n",
       "      <td>0.023016</td>\n",
       "      <td>0.029651</td>\n",
       "      <td>0.016833</td>\n",
       "      <td>0.088734</td>\n",
       "      <td>0.02429</td>\n",
       "      <td>0.0</td>\n",
       "      <td>0.020757</td>\n",
       "      <td>0.012391</td>\n",
       "      <td>0</td>\n",
       "      <td>0</td>\n",
       "    </tr>\n",
       "    <tr>\n",
       "      <th>149600</th>\n",
       "      <td>0.012746</td>\n",
       "      <td>0</td>\n",
       "      <td>0.028500</td>\n",
       "      <td>0.033073</td>\n",
       "      <td>0.010778</td>\n",
       "      <td>0.017904</td>\n",
       "      <td>0.0</td>\n",
       "      <td>0</td>\n",
       "      <td>0</td>\n",
       "      <td>0.029477</td>\n",
       "      <td>...</td>\n",
       "      <td>0.023016</td>\n",
       "      <td>0.029651</td>\n",
       "      <td>0.022024</td>\n",
       "      <td>0.088734</td>\n",
       "      <td>0.02429</td>\n",
       "      <td>0.0</td>\n",
       "      <td>0.020757</td>\n",
       "      <td>0.030285</td>\n",
       "      <td>0</td>\n",
       "      <td>0</td>\n",
       "    </tr>\n",
       "    <tr>\n",
       "      <th>...</th>\n",
       "      <td>...</td>\n",
       "      <td>...</td>\n",
       "      <td>...</td>\n",
       "      <td>...</td>\n",
       "      <td>...</td>\n",
       "      <td>...</td>\n",
       "      <td>...</td>\n",
       "      <td>...</td>\n",
       "      <td>...</td>\n",
       "      <td>...</td>\n",
       "      <td>...</td>\n",
       "      <td>...</td>\n",
       "      <td>...</td>\n",
       "      <td>...</td>\n",
       "      <td>...</td>\n",
       "      <td>...</td>\n",
       "      <td>...</td>\n",
       "      <td>...</td>\n",
       "      <td>...</td>\n",
       "      <td>...</td>\n",
       "      <td>...</td>\n",
       "    </tr>\n",
       "    <tr>\n",
       "      <th>34686</th>\n",
       "      <td>0.019118</td>\n",
       "      <td>0</td>\n",
       "      <td>0.012667</td>\n",
       "      <td>0.007468</td>\n",
       "      <td>0.013055</td>\n",
       "      <td>0.017904</td>\n",
       "      <td>0.0</td>\n",
       "      <td>0</td>\n",
       "      <td>0</td>\n",
       "      <td>0.013212</td>\n",
       "      <td>...</td>\n",
       "      <td>0.023016</td>\n",
       "      <td>0.023409</td>\n",
       "      <td>0.004020</td>\n",
       "      <td>0.000000</td>\n",
       "      <td>0.00000</td>\n",
       "      <td>0.0</td>\n",
       "      <td>0.020757</td>\n",
       "      <td>0.022247</td>\n",
       "      <td>0</td>\n",
       "      <td>0</td>\n",
       "    </tr>\n",
       "    <tr>\n",
       "      <th>30130</th>\n",
       "      <td>0.031864</td>\n",
       "      <td>0</td>\n",
       "      <td>0.015833</td>\n",
       "      <td>0.012802</td>\n",
       "      <td>0.016243</td>\n",
       "      <td>0.017904</td>\n",
       "      <td>0.0</td>\n",
       "      <td>0</td>\n",
       "      <td>0</td>\n",
       "      <td>0.016918</td>\n",
       "      <td>...</td>\n",
       "      <td>0.023016</td>\n",
       "      <td>0.017947</td>\n",
       "      <td>0.027171</td>\n",
       "      <td>0.000000</td>\n",
       "      <td>0.02429</td>\n",
       "      <td>0.0</td>\n",
       "      <td>0.020757</td>\n",
       "      <td>0.020619</td>\n",
       "      <td>0</td>\n",
       "      <td>1</td>\n",
       "    </tr>\n",
       "    <tr>\n",
       "      <th>108880</th>\n",
       "      <td>0.012746</td>\n",
       "      <td>0</td>\n",
       "      <td>0.011083</td>\n",
       "      <td>0.038407</td>\n",
       "      <td>0.017610</td>\n",
       "      <td>0.017233</td>\n",
       "      <td>0.0</td>\n",
       "      <td>0</td>\n",
       "      <td>0</td>\n",
       "      <td>0.010480</td>\n",
       "      <td>...</td>\n",
       "      <td>0.023016</td>\n",
       "      <td>0.002341</td>\n",
       "      <td>0.023195</td>\n",
       "      <td>0.000000</td>\n",
       "      <td>0.00000</td>\n",
       "      <td>0.0</td>\n",
       "      <td>0.020757</td>\n",
       "      <td>0.012391</td>\n",
       "      <td>0</td>\n",
       "      <td>0</td>\n",
       "    </tr>\n",
       "    <tr>\n",
       "      <th>58574</th>\n",
       "      <td>0.025491</td>\n",
       "      <td>0</td>\n",
       "      <td>0.023750</td>\n",
       "      <td>0.001067</td>\n",
       "      <td>0.011386</td>\n",
       "      <td>0.011505</td>\n",
       "      <td>0.0</td>\n",
       "      <td>0</td>\n",
       "      <td>0</td>\n",
       "      <td>0.025342</td>\n",
       "      <td>...</td>\n",
       "      <td>0.023016</td>\n",
       "      <td>0.000195</td>\n",
       "      <td>0.000022</td>\n",
       "      <td>0.000000</td>\n",
       "      <td>0.02429</td>\n",
       "      <td>0.0</td>\n",
       "      <td>0.020757</td>\n",
       "      <td>0.025482</td>\n",
       "      <td>0</td>\n",
       "      <td>0</td>\n",
       "    </tr>\n",
       "    <tr>\n",
       "      <th>143604</th>\n",
       "      <td>0.006373</td>\n",
       "      <td>0</td>\n",
       "      <td>0.022167</td>\n",
       "      <td>0.033073</td>\n",
       "      <td>0.012752</td>\n",
       "      <td>0.017904</td>\n",
       "      <td>0.0</td>\n",
       "      <td>0</td>\n",
       "      <td>0</td>\n",
       "      <td>0.023650</td>\n",
       "      <td>...</td>\n",
       "      <td>0.023016</td>\n",
       "      <td>0.024384</td>\n",
       "      <td>0.015419</td>\n",
       "      <td>0.088734</td>\n",
       "      <td>0.02429</td>\n",
       "      <td>0.0</td>\n",
       "      <td>0.020757</td>\n",
       "      <td>0.028691</td>\n",
       "      <td>0</td>\n",
       "      <td>0</td>\n",
       "    </tr>\n",
       "  </tbody>\n",
       "</table>\n",
       "<p>28918 rows × 26 columns</p>\n",
       "</div>"
      ],
      "text/plain": [
       "        variable_1  variable_2  variable_4  variable_5  variable_6  \\\n",
       "18454     0.025491           0    0.036417    0.012802    0.021557   \n",
       "120407    0.025491           0    0.030083    0.033073    0.010930   \n",
       "56692     0.038237           0    0.017417    0.003201    0.019431   \n",
       "10494     0.025491           0    0.036417    0.033073    0.004402   \n",
       "149600    0.012746           0    0.028500    0.033073    0.010778   \n",
       "...            ...         ...         ...         ...         ...   \n",
       "34686     0.019118           0    0.012667    0.007468    0.013055   \n",
       "30130     0.031864           0    0.015833    0.012802    0.016243   \n",
       "108880    0.012746           0    0.011083    0.038407    0.017610   \n",
       "58574     0.025491           0    0.023750    0.001067    0.011386   \n",
       "143604    0.006373           0    0.022167    0.033073    0.012752   \n",
       "\n",
       "        variable_7  variable_8  variable_10  variable_11  variable_12  ...  \\\n",
       "18454     0.017904         0.0            0            0     0.037666  ...   \n",
       "120407    0.017904         0.0            0            0     0.031766  ...   \n",
       "56692     0.022558         0.0            0            0     0.018270  ...   \n",
       "10494     0.017904         0.0            0            0     0.037794  ...   \n",
       "149600    0.017904         0.0            0            0     0.029477  ...   \n",
       "...            ...         ...          ...          ...          ...  ...   \n",
       "34686     0.017904         0.0            0            0     0.013212  ...   \n",
       "30130     0.017904         0.0            0            0     0.016918  ...   \n",
       "108880    0.017233         0.0            0            0     0.010480  ...   \n",
       "58574     0.011505         0.0            0            0     0.025342  ...   \n",
       "143604    0.017904         0.0            0            0     0.023650  ...   \n",
       "\n",
       "        variable_20  variable_21  variable_22  variable_23  variable_24  \\\n",
       "18454      0.011508     0.025360     0.026575     0.000000      0.02429   \n",
       "120407     0.023016     0.029651     0.015596     0.088734      0.02429   \n",
       "56692      0.023016     0.021653     0.023703     0.000000      0.02429   \n",
       "10494      0.023016     0.029651     0.016833     0.088734      0.02429   \n",
       "149600     0.023016     0.029651     0.022024     0.088734      0.02429   \n",
       "...             ...          ...          ...          ...          ...   \n",
       "34686      0.023016     0.023409     0.004020     0.000000      0.00000   \n",
       "30130      0.023016     0.017947     0.027171     0.000000      0.02429   \n",
       "108880     0.023016     0.002341     0.023195     0.000000      0.00000   \n",
       "58574      0.023016     0.000195     0.000022     0.000000      0.02429   \n",
       "143604     0.023016     0.024384     0.015419     0.088734      0.02429   \n",
       "\n",
       "        variable_25  variable_26  variable_27  variable_28  target  \n",
       "18454           0.0     0.020757     0.007422            0       1  \n",
       "120407          0.0     0.020757     0.036596            0       0  \n",
       "56692           0.0     0.020757     0.057952            0       0  \n",
       "10494           0.0     0.020757     0.012391            0       0  \n",
       "149600          0.0     0.020757     0.030285            0       0  \n",
       "...             ...          ...          ...          ...     ...  \n",
       "34686           0.0     0.020757     0.022247            0       0  \n",
       "30130           0.0     0.020757     0.020619            0       1  \n",
       "108880          0.0     0.020757     0.012391            0       0  \n",
       "58574           0.0     0.020757     0.025482            0       0  \n",
       "143604          0.0     0.020757     0.028691            0       0  \n",
       "\n",
       "[28918 rows x 26 columns]"
      ]
     },
     "execution_count": 70,
     "metadata": {},
     "output_type": "execute_result"
    }
   ],
   "source": [
    "first_target_df_part = refacted_df[refacted_df['target'] == 1]\n",
    "balanced_df = pd.concat((zero_target_df_part, first_target_df_part), axis=0)\n",
    "balanced_df = balanced_df.sample(n=2*zero_target_df_part.shape[0], random_state=1)\n",
    "balanced_df.head()"
   ]
  },
  {
   "cell_type": "markdown",
   "metadata": {},
   "source": [
    "Проверка"
   ]
  },
  {
   "cell_type": "code",
   "execution_count": 67,
   "metadata": {},
   "outputs": [
    {
     "data": {
      "text/plain": [
       "<BarContainer object of 2 artists>"
      ]
     },
     "execution_count": 67,
     "metadata": {},
     "output_type": "execute_result"
    },
    {
     "data": {
      "image/png": "[encoded data removed]",
      "text/plain": [
       "<Figure size 640x480 with 1 Axes>"
      ]
     },
     "metadata": {},
     "output_type": "display_data"
    }
   ],
   "source": [
    "null_class_objs_count = (balanced_df['target'] == 0).sum()\n",
    "first_class_objs_count = (balanced_df['target'] == 1).sum()\n",
    "plt.figure()\n",
    "plt.bar(['0', '1'], [null_class_objs_count, first_class_objs_count])"
   ]
  },
  {
   "cell_type": "code",
   "execution_count": 54,
   "metadata": {},
   "outputs": [],
   "source": [
    "balanced_df.to_csv('balanced_df.csv', index=False)"
   ]
  },
  {
   "cell_type": "markdown",
   "metadata": {},
   "source": [
    "### 4 И только теперь сохраняем файл с тестовыми данными"
   ]
  },
  {
   "cell_type": "markdown",
   "metadata": {},
   "source": [
    "##### Замечания\n",
    "\n",
    "* Даже часть тестовых данных не должна вхолить в обучающую выборку => случайным семплированием я не обойдусь!\n",
    "* Так как датасет несбалансирован, а после балансировки будет иметь всего лишь "
   ]
  },
  {
   "cell_type": "code",
   "execution_count": null,
   "metadata": {},
   "outputs": [],
   "source": [
    "refacted_df.sample(n=TEST_DATA_NUM, random_state=1).to_csv('insclass_test.csv', index=False)"
   ]
  },
  {
   "cell_type": "markdown",
   "metadata": {},
   "source": [
    "# Модель "
   ]
  },
  {
   "cell_type": "code",
   "execution_count": 55,
   "metadata": {},
   "outputs": [],
   "source": [
    "class LogisticRegressionGD(object):\n",
    "    \n",
    "    def init(self):\n",
    "        self.a = None\n",
    "\n",
    "    def sigmoid(self, x):\n",
    "        return 1 / (1 + np.exp(-x @ self.a))\n",
    "    def predict(self, x):\n",
    "        return self.sigmoid(x)\n",
    "    \n",
    "    def predict_from_raw_data(self, x):\n",
    "        x.insert(0, 'ones_col', np.ones(x.shape[0]))\n",
    "        return self.predict(np.array(x))\n",
    "\n",
    "    def coefs(self):\n",
    "        return self.a\n",
    "    def LogLikelihood(self, x, Y):\n",
    "        predict = self.predict(x)\n",
    "        return -sum(Y * np.log2(predict) + (1 - Y) * np.log2(1 - predict)) / self.m\n",
    "    def CrossEntropy(self, x, Y):\n",
    "        return (-Y*np.log(self.predict(x)) - (1- Y)*np.log(1 - self.predict(x))).sum()\n",
    "\n",
    "    def accuracy(self, x, Y):\n",
    "        x = x.copy()\n",
    "        Y = Y.copy()\n",
    "        \n",
    "        x.insert(0, 'ones_col', np.ones(x.shape[0]))\n",
    "        predicts = self.predict(np.array(x))\n",
    "        binary_predicts = np.rint(predicts)\n",
    "        np_target = np.array(Y).reshape(x.shape[0], 1)\n",
    "\n",
    "        compare_target_predict = binary_predicts == np_target\n",
    "        num_right_answers = compare_target_predict.sum()\n",
    "\n",
    "        accuracy = num_right_answers / np_target.shape[0]\n",
    "        return accuracy\n",
    "    \n",
    "    def fit(self, x, Y, alpha = 0.001, epsylon = 0.01, max_steps = 2500, Rtype = \"LL\"):\n",
    "        \n",
    "        x = x.copy()\n",
    "        Y = Y.copy()\n",
    "        \n",
    "        x.insert(0, 'ones_col', np.ones(x.shape[0]))\n",
    "        self.a = np.zeros(x.shape[1]).reshape(x.shape[1], 1)\n",
    "        self.m = x.shape[0]\n",
    "        \n",
    "        x = np.array(x)\n",
    "        Y = np.array(Y)\n",
    "        Y = Y.reshape(Y.shape[0], 1)\n",
    "\n",
    "        steps, errors = [], []\n",
    "        step = 0\n",
    "        for _ in range(max_steps):\n",
    "            if Rtype == \"LL\":\n",
    "                new_error = self.LogLikelihood(x, Y)\n",
    "                dJ = x.T @ (self.predict(x) - Y) / self.m\n",
    "                self.a -= alpha*dJ\n",
    "            elif Rtype == \"CE\":\n",
    "                raise Exception('TODO')\n",
    "                # new_error = self.CrossEntropy(x, Y)\n",
    "                # #display(new_error)\n",
    "                # dT_a = -x.T @(Y - self.predict(x))\n",
    "                # self.a -= alpha*dT_a\n",
    "            step += 1\n",
    "            steps.append(step)\n",
    "            errors.append(new_error)\n",
    "            if abs(new_error) < epsylon or len(steps) > max_steps:  # лучше использовать норму антиградиента\n",
    "               break\n",
    "        return steps, errors"
   ]
  },
  {
   "cell_type": "markdown",
   "metadata": {},
   "source": [
    "# Обучение модели"
   ]
  },
  {
   "cell_type": "code",
   "execution_count": 56,
   "metadata": {},
   "outputs": [],
   "source": [
    "\n",
    "X = balanced_df.copy().drop(['target'], axis=1)\n",
    "Y = balanced_df['target']\n",
    "\n",
    "log_classification = LogisticRegressionGD()\n",
    "steps, errors = log_classification.fit(X, Y,  alpha = 2, epsylon = 0.1, max_steps = 200, Rtype = \"LL\")"
   ]
  },
  {
   "cell_type": "code",
   "execution_count": 57,
   "metadata": {},
   "outputs": [
    {
     "data": {
      "text/plain": [
       "[<matplotlib.lines.Line2D at 0x25607ece800>]"
      ]
     },
     "execution_count": 57,
     "metadata": {},
     "output_type": "execute_result"
    },
    {
     "data": {
      "image/png": "[encoded data removed]",
      "text/plain": [
       "<Figure size 640x480 with 1 Axes>"
      ]
     },
     "metadata": {},
     "output_type": "display_data"
    }
   ],
   "source": [
    "plt.figure()\n",
    "plt.title('График ошибки')\n",
    "plt.xlabel('Итерации')\n",
    "plt.plot(steps, errors)"
   ]
  },
  {
   "cell_type": "code",
   "execution_count": 58,
   "metadata": {},
   "outputs": [
    {
     "data": {
      "text/plain": [
       "array([0.95034375])"
      ]
     },
     "execution_count": 58,
     "metadata": {},
     "output_type": "execute_result"
    }
   ],
   "source": [
    "errors[-1]"
   ]
  },
  {
   "cell_type": "markdown",
   "metadata": {},
   "source": [
    "# Тестируем обученную модель"
   ]
  },
  {
   "cell_type": "markdown",
   "metadata": {},
   "source": [
    "Сравниваем полученные результаты классификации с истинными значениями классов"
   ]
  },
  {
   "cell_type": "code",
   "execution_count": 59,
   "metadata": {},
   "outputs": [
    {
     "data": {
      "text/plain": [
       "0.8948461810466761"
      ]
     },
     "execution_count": 59,
     "metadata": {},
     "output_type": "execute_result"
    }
   ],
   "source": [
    "test_df = pd.read_csv('insclass_test.csv')\n",
    "test_x = test_df.drop(['target'], axis=1)\n",
    "log_classification.accuracy(x=test_x, Y=test_df['target'])\n"
   ]
  },
  {
   "cell_type": "markdown",
   "metadata": {},
   "source": [
    "f1 score"
   ]
  },
  {
   "cell_type": "code",
   "execution_count": 60,
   "metadata": {},
   "outputs": [
    {
     "data": {
      "text/plain": [
       "0.2119907254057635"
      ]
     },
     "execution_count": 60,
     "metadata": {},
     "output_type": "execute_result"
    }
   ],
   "source": [
    "y_preidct = log_classification.predict_from_raw_data(test_x)\n",
    "binary_predicts = np.rint(y_preidct)\n",
    "f1_score(y_true=test_df['target'], y_pred=binary_predicts)"
   ]
  },
  {
   "cell_type": "markdown",
   "metadata": {},
   "source": [
    "Замечание: полученные данные подозрительно хороши. Скорее всего это потому, что тестовый набор данных не является сбалансированным !!! Поэтому И обучать И тестирровать модель НУЖНО на сбалансированном дадасете !!!"
   ]
  },
  {
   "cell_type": "markdown",
   "metadata": {},
   "source": [
    "Протетсируем на данных сбалансированного датасета "
   ]
  },
  {
   "cell_type": "markdown",
   "metadata": {},
   "source": [
    "accuracy"
   ]
  },
  {
   "cell_type": "code",
   "execution_count": 61,
   "metadata": {},
   "outputs": [
    {
     "data": {
      "text/plain": [
       "0.5625561933743689"
      ]
     },
     "execution_count": 61,
     "metadata": {},
     "output_type": "execute_result"
    }
   ],
   "source": [
    "balanced_df_test = balanced_df.copy()\n",
    "x = balanced_df_test.drop(['target'], axis=1)\n",
    "log_classification.accuracy(x=x, Y=balanced_df_test['target'])"
   ]
  },
  {
   "cell_type": "markdown",
   "metadata": {},
   "source": [
    "f1 score"
   ]
  },
  {
   "cell_type": "code",
   "execution_count": 62,
   "metadata": {},
   "outputs": [
    {
     "ename": "ValueError",
     "evalue": "cannot insert ones_col, already exists",
     "output_type": "error",
     "traceback": [
      "\u001b[1;31m---------------------------------------------------------------------------\u001b[0m",
      "\u001b[1;31mValueError\u001b[0m                                Traceback (most recent call last)",
      "\u001b[1;32mC:\\Temp\\ipykernel_6748\\286337153.py\u001b[0m in \u001b[0;36m?\u001b[1;34m()\u001b[0m\n\u001b[1;32m----> 1\u001b[1;33m \u001b[0my_preidct\u001b[0m \u001b[1;33m=\u001b[0m \u001b[0mlog_classification\u001b[0m\u001b[1;33m.\u001b[0m\u001b[0mpredict_from_raw_data\u001b[0m\u001b[1;33m(\u001b[0m\u001b[0mtest_x\u001b[0m\u001b[1;33m)\u001b[0m\u001b[1;33m\u001b[0m\u001b[1;33m\u001b[0m\u001b[0m\n\u001b[0m\u001b[0;32m      2\u001b[0m \u001b[0mbinary_predicts\u001b[0m \u001b[1;33m=\u001b[0m \u001b[0mnp\u001b[0m\u001b[1;33m.\u001b[0m\u001b[0mrint\u001b[0m\u001b[1;33m(\u001b[0m\u001b[0my_preidct\u001b[0m\u001b[1;33m)\u001b[0m\u001b[1;33m\u001b[0m\u001b[1;33m\u001b[0m\u001b[0m\n\u001b[0;32m      3\u001b[0m \u001b[0mf1_score\u001b[0m\u001b[1;33m(\u001b[0m\u001b[0my_true\u001b[0m\u001b[1;33m=\u001b[0m\u001b[0mbalanced_df_test\u001b[0m\u001b[1;33m[\u001b[0m\u001b[1;34m'target'\u001b[0m\u001b[1;33m]\u001b[0m\u001b[1;33m,\u001b[0m \u001b[0my_pred\u001b[0m\u001b[1;33m=\u001b[0m\u001b[0mbinary_predicts\u001b[0m\u001b[1;33m)\u001b[0m\u001b[1;33m\u001b[0m\u001b[1;33m\u001b[0m\u001b[0m\n",
      "\u001b[1;32mC:\\Temp\\ipykernel_6748\\648321939.py\u001b[0m in \u001b[0;36m?\u001b[1;34m(self, x)\u001b[0m\n\u001b[0;32m     11\u001b[0m     \u001b[1;32mdef\u001b[0m \u001b[0mpredict_from_raw_data\u001b[0m\u001b[1;33m(\u001b[0m\u001b[0mself\u001b[0m\u001b[1;33m,\u001b[0m \u001b[0mx\u001b[0m\u001b[1;33m)\u001b[0m\u001b[1;33m:\u001b[0m\u001b[1;33m\u001b[0m\u001b[1;33m\u001b[0m\u001b[0m\n\u001b[1;32m---> 12\u001b[1;33m         \u001b[0mx\u001b[0m\u001b[1;33m.\u001b[0m\u001b[0minsert\u001b[0m\u001b[1;33m(\u001b[0m\u001b[1;36m0\u001b[0m\u001b[1;33m,\u001b[0m \u001b[1;34m'ones_col'\u001b[0m\u001b[1;33m,\u001b[0m \u001b[0mnp\u001b[0m\u001b[1;33m.\u001b[0m\u001b[0mones\u001b[0m\u001b[1;33m(\u001b[0m\u001b[0mx\u001b[0m\u001b[1;33m.\u001b[0m\u001b[0mshape\u001b[0m\u001b[1;33m[\u001b[0m\u001b[1;36m0\u001b[0m\u001b[1;33m]\u001b[0m\u001b[1;33m)\u001b[0m\u001b[1;33m)\u001b[0m\u001b[1;33m\u001b[0m\u001b[1;33m\u001b[0m\u001b[0m\n\u001b[0m\u001b[0;32m     13\u001b[0m         \u001b[1;32mreturn\u001b[0m \u001b[0mself\u001b[0m\u001b[1;33m.\u001b[0m\u001b[0mpredict\u001b[0m\u001b[1;33m(\u001b[0m\u001b[0mnp\u001b[0m\u001b[1;33m.\u001b[0m\u001b[0marray\u001b[0m\u001b[1;33m(\u001b[0m\u001b[0mx\u001b[0m\u001b[1;33m)\u001b[0m\u001b[1;33m)\u001b[0m\u001b[1;33m\u001b[0m\u001b[1;33m\u001b[0m\u001b[0m\n",
      "\u001b[1;32mc:\\Users\\Константин\\Documents\\GitHub\\AI\\.venv\\lib\\site-packages\\pandas\\core\\frame.py\u001b[0m in \u001b[0;36m?\u001b[1;34m(self, loc, column, value, allow_duplicates)\u001b[0m\n\u001b[0;32m   5141\u001b[0m                 \u001b[1;34m\"'self.flags.allows_duplicate_labels' is False.\"\u001b[0m\u001b[1;33m\u001b[0m\u001b[1;33m\u001b[0m\u001b[0m\n\u001b[0;32m   5142\u001b[0m             )\n\u001b[0;32m   5143\u001b[0m         \u001b[1;32mif\u001b[0m \u001b[1;32mnot\u001b[0m \u001b[0mallow_duplicates\u001b[0m \u001b[1;32mand\u001b[0m \u001b[0mcolumn\u001b[0m \u001b[1;32min\u001b[0m \u001b[0mself\u001b[0m\u001b[1;33m.\u001b[0m\u001b[0mcolumns\u001b[0m\u001b[1;33m:\u001b[0m\u001b[1;33m\u001b[0m\u001b[1;33m\u001b[0m\u001b[0m\n\u001b[0;32m   5144\u001b[0m             \u001b[1;31m# Should this be a different kind of error??\u001b[0m\u001b[1;33m\u001b[0m\u001b[1;33m\u001b[0m\u001b[0m\n\u001b[1;32m-> 5145\u001b[1;33m             \u001b[1;32mraise\u001b[0m \u001b[0mValueError\u001b[0m\u001b[1;33m(\u001b[0m\u001b[1;34mf\"cannot insert {column}, already exists\"\u001b[0m\u001b[1;33m)\u001b[0m\u001b[1;33m\u001b[0m\u001b[1;33m\u001b[0m\u001b[0m\n\u001b[0m\u001b[0;32m   5146\u001b[0m         \u001b[1;32mif\u001b[0m \u001b[1;32mnot\u001b[0m \u001b[0mis_integer\u001b[0m\u001b[1;33m(\u001b[0m\u001b[0mloc\u001b[0m\u001b[1;33m)\u001b[0m\u001b[1;33m:\u001b[0m\u001b[1;33m\u001b[0m\u001b[1;33m\u001b[0m\u001b[0m\n\u001b[0;32m   5147\u001b[0m             \u001b[1;32mraise\u001b[0m \u001b[0mTypeError\u001b[0m\u001b[1;33m(\u001b[0m\u001b[1;34m\"loc must be int\"\u001b[0m\u001b[1;33m)\u001b[0m\u001b[1;33m\u001b[0m\u001b[1;33m\u001b[0m\u001b[0m\n\u001b[0;32m   5148\u001b[0m         \u001b[1;31m# convert non stdlib ints to satisfy typing checks\u001b[0m\u001b[1;33m\u001b[0m\u001b[1;33m\u001b[0m\u001b[0m\n",
      "\u001b[1;31mValueError\u001b[0m: cannot insert ones_col, already exists"
     ]
    }
   ],
   "source": [
    "y_preidct = log_classification.predict_from_raw_data(test_x)\n",
    "binary_predicts = np.rint(y_preidct)\n",
    "f1_score(y_true=balanced_df_test['target'], y_pred=binary_predicts)"
   ]
  },
  {
   "cell_type": "markdown",
   "metadata": {},
   "source": [
    "Как видим точность сильно хуже !"
   ]
  },
  {
   "cell_type": "markdown",
   "metadata": {},
   "source": [
    "# SGD"
   ]
  },
  {
   "cell_type": "code",
   "execution_count": null,
   "metadata": {},
   "outputs": [],
   "source": [
    "class BinaryClassificationSGD:\n",
    "    def __init__(self, lr=0.01, max_iter=1000, batch_size=32, tol=1e-3, intercept = True):\n",
    "        # скорость обучения градиентного спуска\n",
    "        self.learning_rate = lr \n",
    "        # максимальное число итераций\n",
    "        self.max_iteration = max_iter \n",
    "        # размер мини-батча \n",
    "        self.batch_size = batch_size  \n",
    "        # критерий сходимости  \n",
    "        self.tolerance_convergence  = tol\n",
    "        # наличие свободного члена\n",
    "        self.intercept = intercept\n",
    "        # инициальзация весов: None\n",
    "        self.theta = None\n",
    "        self.n = None\n",
    "        self.d = None\n",
    "         \n",
    "    def fit(self, X, y):\n",
    "        self.X = np.array(X.copy())\n",
    "        self.y = np.array(y.copy())\n",
    "        if self.intercept:\n",
    "            self.X = np.hstack((np.ones((self.X.shape[0], 1)), self.X))   \n",
    "        # размерность вектора X \n",
    "        self.n, self.d = self.X.shape\n",
    "        # инициализация случайных весов\n",
    "        self.theta = np.random.randn(self.d)\n",
    "        steps, errors = [], []\n",
    "        step = 0\n",
    "        for _ in range(self.max_iteration):\n",
    "            # перемешивание данных\n",
    "            indices = np.random.permutation(self.n)\n",
    "            X = self.X[indices]\n",
    "            y = self.y[indices]\n",
    "            # цикл по мини-батчам\n",
    "            for i in range(0, self.n, self.batch_size):\n",
    "                X_batch = X[i:i+self.batch_size]\n",
    "                y_batch = y[i:i+self.batch_size]\n",
    "                grad = self.gradient(X_batch, y_batch)\n",
    "                self.theta -= self.learning_rate * grad\n",
    "            new_error = ((self.y - self.X @ self.theta).T @ (self.y - self.X @ self.theta)) / self.n\n",
    "            step += 1\n",
    "            steps.append(step)\n",
    "            errors.append(new_error)\n",
    "            # проверка сходимости\n",
    "            if np.linalg.norm(grad) < self.tolerance_convergence:\n",
    "                break\n",
    "        return steps, errors\n",
    "    \n",
    "    def gradient(self, X, y):\n",
    "        return X.T @ (X @ self.theta - y) / len(y)\n",
    "             \n",
    "    def predict(self, X):\n",
    "        if self.intercept:\n",
    "            X_ = np.hstack((np.ones((X.shape[0],1)), X))\n",
    "        else:\n",
    "            X_ = X\n",
    "        z = X_ @ self.theta\n",
    "        return 1 / (1 + np.exp(-z))\n",
    "\n",
    "    def MSE(self, X, y):\n",
    "        return ((y - self.predict(X)).T @ (y - self.predict(X))) / len(y)\n",
    "    \n",
    "    def MAE(self, X, y):\n",
    "        return abs(y - self.predict(X)).mean()\n",
    "    \n",
    "    def MAPE(self, X, y):\n",
    "        return abs((y - self.predict(X))/y).mean()\n"
   ]
  },
  {
   "cell_type": "code",
   "execution_count": null,
   "metadata": {},
   "outputs": [],
   "source": [
    "learn_df = balanced_df.copy()\n",
    "\n",
    "sgd_classificator = BinaryClassificationSGD(max_iter=200)\n",
    "steps, errors = sgd_classificator.fit(X=learn_df.drop(['target'], axis=1), y=learn_df['target'])\n",
    "\n"
   ]
  },
  {
   "cell_type": "code",
   "execution_count": null,
   "metadata": {},
   "outputs": [
    {
     "data": {
      "text/plain": [
       "[<matplotlib.lines.Line2D at 0x184415fb610>]"
      ]
     },
     "execution_count": 145,
     "metadata": {},
     "output_type": "execute_result"
    },
    {
     "data": {
      "image/png": "[encoded data removed]",
      "text/plain": [
       "<Figure size 640x480 with 1 Axes>"
      ]
     },
     "metadata": {},
     "output_type": "display_data"
    }
   ],
   "source": [
    "plt.figure()\n",
    "plt.title('График ошибки')\n",
    "plt.xlabel('Итерации')\n",
    "plt.plot(steps, errors)"
   ]
  },
  {
   "cell_type": "code",
   "execution_count": null,
   "metadata": {},
   "outputs": [
    {
     "data": {
      "text/plain": [
       "0.6666666666666666"
      ]
     },
     "execution_count": 150,
     "metadata": {},
     "output_type": "execute_result"
    }
   ],
   "source": [
    "\n",
    "y_preidct = sgd_classificator.predict(test_df.drop(['target'], axis=1))\n",
    "binary_predicts = np.rint(y_preidct)\n",
    "f1_score(y_true=test_df['target'], y_pred=binary_predicts)"
   ]
  },
  {
   "cell_type": "code",
   "execution_count": null,
   "metadata": {},
   "outputs": [
    {
     "data": {
      "text/plain": [
       "0.6666666666666666"
      ]
     },
     "execution_count": 151,
     "metadata": {},
     "output_type": "execute_result"
    }
   ],
   "source": [
    " \n",
    "y_preidct = sgd_classificator.predict(learn_df.drop(['target'], axis=1))\n",
    "binary_predicts = np.rint(y_preidct)\n",
    "f1_score(y_true=learn_df['target'], y_pred=binary_predicts)"
   ]
  }
 ],
 "metadata": {
  "kernelspec": {
   "display_name": ".venv",
   "language": "python",
   "name": "python3"
  },
  "language_info": {
   "codemirror_mode": {
    "name": "ipython",
    "version": 3
   },
   "file_extension": ".py",
   "mimetype": "text/x-python",
   "name": "python",
   "nbconvert_exporter": "python",
   "pygments_lexer": "ipython3",
   "version": "3.10.11"
  }
 },
 "nbformat": 4,
 "nbformat_minor": 2
}
